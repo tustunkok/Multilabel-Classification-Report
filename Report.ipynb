{
 "cells": [
  {
   "cell_type": "markdown",
   "metadata": {},
   "source": [
    "# Imports"
   ]
  },
  {
   "cell_type": "code",
   "execution_count": 8,
   "metadata": {
    "ExecuteTime": {
     "end_time": "2020-05-07T09:02:31.961067Z",
     "start_time": "2020-05-07T09:02:31.795804Z"
    }
   },
   "outputs": [],
   "source": [
    "import os\n",
    "import pandas as pd\n",
    "import glob\n",
    "import matplotlib.pyplot as plt\n",
    "import numpy as np\n",
    "import matplotlib"
   ]
  },
  {
   "cell_type": "markdown",
   "metadata": {},
   "source": [
    "# Dataset Summary\n",
    "\n",
    "**Name:** DFC15_multilabel"
   ]
  },
  {
   "cell_type": "code",
   "execution_count": 1,
   "metadata": {
    "ExecuteTime": {
     "end_time": "2020-05-07T09:01:05.129221Z",
     "start_time": "2020-05-07T09:01:04.985393Z"
    }
   },
   "outputs": [
    {
     "name": "stdout",
     "output_type": "stream",
     "text": [
      "Dataset in /home/jovyan/work/data/DFC15_multilabel\n",
      "Contents of dataset dir is ['images_tr', 'images_test', 'multilabel.csv', 'multilabel.mat']\n"
     ]
    }
   ],
   "source": [
    "BASE_DATA_DIR = \"/home/jovyan/work/data/\"\n",
    "DATASET_DIR = \"DFC15_multilabel\"\n",
    "FULL_DATASET_DIR = os.path.join(BASE_DATA_DIR, DATASET_DIR)\n",
    "TRAIN_IMAGES_PATH = os.path.join(FULL_DATASET_DIR, \"images_tr\")\n",
    "TEST_IMAGES_PATH = os.path.join(FULL_DATASET_DIR, \"images_test\")\n",
    "\n",
    "print(f\"Dataset in {FULL_DATASET_DIR}\")\n",
    "print(f\"Contents of dataset dir is {os.listdir(FULL_DATASET_DIR)}\")"
   ]
  },
  {
   "cell_type": "code",
   "execution_count": 2,
   "metadata": {
    "ExecuteTime": {
     "end_time": "2020-05-07T09:01:07.056053Z",
     "start_time": "2020-05-07T09:01:07.028914Z"
    }
   },
   "outputs": [
    {
     "data": {
      "text/html": [
       "<div>\n",
       "<style scoped>\n",
       "    .dataframe tbody tr th:only-of-type {\n",
       "        vertical-align: middle;\n",
       "    }\n",
       "\n",
       "    .dataframe tbody tr th {\n",
       "        vertical-align: top;\n",
       "    }\n",
       "\n",
       "    .dataframe thead th {\n",
       "        text-align: right;\n",
       "    }\n",
       "</style>\n",
       "<table border=\"1\" class=\"dataframe\">\n",
       "  <thead>\n",
       "    <tr style=\"text-align: right;\">\n",
       "      <th></th>\n",
       "      <th>image\\label</th>\n",
       "      <th>impervious</th>\n",
       "      <th>water</th>\n",
       "      <th>clutter</th>\n",
       "      <th>vegetation</th>\n",
       "      <th>building</th>\n",
       "      <th>tree</th>\n",
       "      <th>boat</th>\n",
       "      <th>car</th>\n",
       "    </tr>\n",
       "  </thead>\n",
       "  <tbody>\n",
       "    <tr>\n",
       "      <th>0</th>\n",
       "      <td>1</td>\n",
       "      <td>1</td>\n",
       "      <td>1</td>\n",
       "      <td>0</td>\n",
       "      <td>0</td>\n",
       "      <td>0</td>\n",
       "      <td>0</td>\n",
       "      <td>0</td>\n",
       "      <td>0</td>\n",
       "    </tr>\n",
       "    <tr>\n",
       "      <th>1</th>\n",
       "      <td>2</td>\n",
       "      <td>1</td>\n",
       "      <td>1</td>\n",
       "      <td>0</td>\n",
       "      <td>0</td>\n",
       "      <td>0</td>\n",
       "      <td>0</td>\n",
       "      <td>0</td>\n",
       "      <td>0</td>\n",
       "    </tr>\n",
       "    <tr>\n",
       "      <th>2</th>\n",
       "      <td>3</td>\n",
       "      <td>1</td>\n",
       "      <td>1</td>\n",
       "      <td>0</td>\n",
       "      <td>0</td>\n",
       "      <td>0</td>\n",
       "      <td>0</td>\n",
       "      <td>0</td>\n",
       "      <td>0</td>\n",
       "    </tr>\n",
       "    <tr>\n",
       "      <th>3</th>\n",
       "      <td>4</td>\n",
       "      <td>1</td>\n",
       "      <td>1</td>\n",
       "      <td>0</td>\n",
       "      <td>0</td>\n",
       "      <td>0</td>\n",
       "      <td>0</td>\n",
       "      <td>0</td>\n",
       "      <td>0</td>\n",
       "    </tr>\n",
       "    <tr>\n",
       "      <th>4</th>\n",
       "      <td>5</td>\n",
       "      <td>1</td>\n",
       "      <td>1</td>\n",
       "      <td>0</td>\n",
       "      <td>0</td>\n",
       "      <td>0</td>\n",
       "      <td>0</td>\n",
       "      <td>0</td>\n",
       "      <td>0</td>\n",
       "    </tr>\n",
       "  </tbody>\n",
       "</table>\n",
       "</div>"
      ],
      "text/plain": [
       "   image\\label  impervious  water  clutter  vegetation  building  tree  boat  \\\n",
       "0            1           1      1        0           0         0     0     0   \n",
       "1            2           1      1        0           0         0     0     0   \n",
       "2            3           1      1        0           0         0     0     0   \n",
       "3            4           1      1        0           0         0     0     0   \n",
       "4            5           1      1        0           0         0     0     0   \n",
       "\n",
       "   car  \n",
       "0    0  \n",
       "1    0  \n",
       "2    0  \n",
       "3    0  \n",
       "4    0  "
      ]
     },
     "execution_count": 2,
     "metadata": {},
     "output_type": "execute_result"
    }
   ],
   "source": [
    "multilabel_df = pd.read_csv(os.path.join(FULL_DATASET_DIR, \"multilabel.csv\"))\n",
    "multilabel_df.head()"
   ]
  },
  {
   "cell_type": "code",
   "execution_count": 3,
   "metadata": {
    "ExecuteTime": {
     "end_time": "2020-05-07T09:01:09.331308Z",
     "start_time": "2020-05-07T09:01:09.293863Z"
    }
   },
   "outputs": [
    {
     "name": "stdout",
     "output_type": "stream",
     "text": [
      "Total number of samples:  3342\n",
      "Total number of features:  8\n"
     ]
    }
   ],
   "source": [
    "print(\"Total number of samples: \", multilabel_df.shape[0])\n",
    "print(\"Total number of features: \", multilabel_df.shape[1] - 1)"
   ]
  },
  {
   "cell_type": "code",
   "execution_count": 4,
   "metadata": {
    "ExecuteTime": {
     "end_time": "2020-05-07T09:01:10.638776Z",
     "start_time": "2020-05-07T09:01:10.601634Z"
    }
   },
   "outputs": [
    {
     "data": {
      "text/html": [
       "<div>\n",
       "<style scoped>\n",
       "    .dataframe tbody tr th:only-of-type {\n",
       "        vertical-align: middle;\n",
       "    }\n",
       "\n",
       "    .dataframe tbody tr th {\n",
       "        vertical-align: top;\n",
       "    }\n",
       "\n",
       "    .dataframe thead th {\n",
       "        text-align: right;\n",
       "    }\n",
       "</style>\n",
       "<table border=\"1\" class=\"dataframe\">\n",
       "  <thead>\n",
       "    <tr style=\"text-align: right;\">\n",
       "      <th></th>\n",
       "      <th>image\\label</th>\n",
       "      <th>impervious</th>\n",
       "      <th>water</th>\n",
       "      <th>clutter</th>\n",
       "      <th>vegetation</th>\n",
       "      <th>building</th>\n",
       "      <th>tree</th>\n",
       "      <th>boat</th>\n",
       "      <th>car</th>\n",
       "    </tr>\n",
       "  </thead>\n",
       "  <tbody>\n",
       "    <tr>\n",
       "      <th>count</th>\n",
       "      <td>3342.000000</td>\n",
       "      <td>3342.000000</td>\n",
       "      <td>3342.000000</td>\n",
       "      <td>3342.000000</td>\n",
       "      <td>3342.000000</td>\n",
       "      <td>3342.000000</td>\n",
       "      <td>3342.000000</td>\n",
       "      <td>3342.000000</td>\n",
       "      <td>3342.000000</td>\n",
       "    </tr>\n",
       "    <tr>\n",
       "      <th>mean</th>\n",
       "      <td>1671.500000</td>\n",
       "      <td>0.937463</td>\n",
       "      <td>0.298624</td>\n",
       "      <td>0.565829</td>\n",
       "      <td>0.324955</td>\n",
       "      <td>0.299521</td>\n",
       "      <td>0.077199</td>\n",
       "      <td>0.080790</td>\n",
       "      <td>0.210952</td>\n",
       "    </tr>\n",
       "    <tr>\n",
       "      <th>std</th>\n",
       "      <td>964.896627</td>\n",
       "      <td>0.242165</td>\n",
       "      <td>0.457723</td>\n",
       "      <td>0.495722</td>\n",
       "      <td>0.468428</td>\n",
       "      <td>0.458117</td>\n",
       "      <td>0.266947</td>\n",
       "      <td>0.272553</td>\n",
       "      <td>0.408045</td>\n",
       "    </tr>\n",
       "    <tr>\n",
       "      <th>min</th>\n",
       "      <td>1.000000</td>\n",
       "      <td>0.000000</td>\n",
       "      <td>0.000000</td>\n",
       "      <td>0.000000</td>\n",
       "      <td>0.000000</td>\n",
       "      <td>0.000000</td>\n",
       "      <td>0.000000</td>\n",
       "      <td>0.000000</td>\n",
       "      <td>0.000000</td>\n",
       "    </tr>\n",
       "    <tr>\n",
       "      <th>25%</th>\n",
       "      <td>836.250000</td>\n",
       "      <td>1.000000</td>\n",
       "      <td>0.000000</td>\n",
       "      <td>0.000000</td>\n",
       "      <td>0.000000</td>\n",
       "      <td>0.000000</td>\n",
       "      <td>0.000000</td>\n",
       "      <td>0.000000</td>\n",
       "      <td>0.000000</td>\n",
       "    </tr>\n",
       "    <tr>\n",
       "      <th>50%</th>\n",
       "      <td>1671.500000</td>\n",
       "      <td>1.000000</td>\n",
       "      <td>0.000000</td>\n",
       "      <td>1.000000</td>\n",
       "      <td>0.000000</td>\n",
       "      <td>0.000000</td>\n",
       "      <td>0.000000</td>\n",
       "      <td>0.000000</td>\n",
       "      <td>0.000000</td>\n",
       "    </tr>\n",
       "    <tr>\n",
       "      <th>75%</th>\n",
       "      <td>2506.750000</td>\n",
       "      <td>1.000000</td>\n",
       "      <td>1.000000</td>\n",
       "      <td>1.000000</td>\n",
       "      <td>1.000000</td>\n",
       "      <td>1.000000</td>\n",
       "      <td>0.000000</td>\n",
       "      <td>0.000000</td>\n",
       "      <td>0.000000</td>\n",
       "    </tr>\n",
       "    <tr>\n",
       "      <th>max</th>\n",
       "      <td>3342.000000</td>\n",
       "      <td>1.000000</td>\n",
       "      <td>1.000000</td>\n",
       "      <td>1.000000</td>\n",
       "      <td>1.000000</td>\n",
       "      <td>1.000000</td>\n",
       "      <td>1.000000</td>\n",
       "      <td>1.000000</td>\n",
       "      <td>1.000000</td>\n",
       "    </tr>\n",
       "  </tbody>\n",
       "</table>\n",
       "</div>"
      ],
      "text/plain": [
       "       image\\label   impervious        water      clutter   vegetation  \\\n",
       "count  3342.000000  3342.000000  3342.000000  3342.000000  3342.000000   \n",
       "mean   1671.500000     0.937463     0.298624     0.565829     0.324955   \n",
       "std     964.896627     0.242165     0.457723     0.495722     0.468428   \n",
       "min       1.000000     0.000000     0.000000     0.000000     0.000000   \n",
       "25%     836.250000     1.000000     0.000000     0.000000     0.000000   \n",
       "50%    1671.500000     1.000000     0.000000     1.000000     0.000000   \n",
       "75%    2506.750000     1.000000     1.000000     1.000000     1.000000   \n",
       "max    3342.000000     1.000000     1.000000     1.000000     1.000000   \n",
       "\n",
       "          building         tree         boat          car  \n",
       "count  3342.000000  3342.000000  3342.000000  3342.000000  \n",
       "mean      0.299521     0.077199     0.080790     0.210952  \n",
       "std       0.458117     0.266947     0.272553     0.408045  \n",
       "min       0.000000     0.000000     0.000000     0.000000  \n",
       "25%       0.000000     0.000000     0.000000     0.000000  \n",
       "50%       0.000000     0.000000     0.000000     0.000000  \n",
       "75%       1.000000     0.000000     0.000000     0.000000  \n",
       "max       1.000000     1.000000     1.000000     1.000000  "
      ]
     },
     "execution_count": 4,
     "metadata": {},
     "output_type": "execute_result"
    }
   ],
   "source": [
    "multilabel_df.describe()"
   ]
  },
  {
   "cell_type": "code",
   "execution_count": 5,
   "metadata": {
    "ExecuteTime": {
     "end_time": "2020-05-07T09:01:12.134404Z",
     "start_time": "2020-05-07T09:01:12.121974Z"
    }
   },
   "outputs": [
    {
     "name": "stdout",
     "output_type": "stream",
     "text": [
      "<class 'pandas.core.frame.DataFrame'>\n",
      "RangeIndex: 3342 entries, 0 to 3341\n",
      "Data columns (total 9 columns):\n",
      " #   Column       Non-Null Count  Dtype\n",
      "---  ------       --------------  -----\n",
      " 0   image\\label  3342 non-null   int64\n",
      " 1   impervious   3342 non-null   int64\n",
      " 2   water        3342 non-null   int64\n",
      " 3   clutter      3342 non-null   int64\n",
      " 4   vegetation   3342 non-null   int64\n",
      " 5   building     3342 non-null   int64\n",
      " 6   tree         3342 non-null   int64\n",
      " 7   boat         3342 non-null   int64\n",
      " 8   car          3342 non-null   int64\n",
      "dtypes: int64(9)\n",
      "memory usage: 235.1 KB\n"
     ]
    }
   ],
   "source": [
    "multilabel_df.info()"
   ]
  },
  {
   "cell_type": "code",
   "execution_count": 7,
   "metadata": {
    "ExecuteTime": {
     "end_time": "2020-05-07T09:01:13.668587Z",
     "start_time": "2020-05-07T09:01:13.653419Z"
    }
   },
   "outputs": [
    {
     "name": "stdout",
     "output_type": "stream",
     "text": [
      "Number of images in train set: 2673\n",
      "Number of images in test set: 669\n"
     ]
    }
   ],
   "source": [
    "print(\"Number of images in train set:\", len(glob.glob(os.path.join(TRAIN_IMAGES_PATH, \"*.png\"))))\n",
    "print(\"Number of images in test set:\", len(glob.glob(os.path.join(TEST_IMAGES_PATH, \"*.png\"))))"
   ]
  },
  {
   "cell_type": "code",
   "execution_count": 11,
   "metadata": {
    "ExecuteTime": {
     "end_time": "2020-05-07T09:03:30.096346Z",
     "start_time": "2020-05-07T09:03:30.087471Z"
    }
   },
   "outputs": [],
   "source": [
    "multilabel_df[\"in_train\"] = np.zeros((multilabel_df.shape[0],), dtype=int)"
   ]
  },
  {
   "cell_type": "code",
   "execution_count": 13,
   "metadata": {
    "ExecuteTime": {
     "end_time": "2020-05-07T09:06:48.860873Z",
     "start_time": "2020-05-07T09:06:45.963384Z"
    }
   },
   "outputs": [],
   "source": [
    "for image_file in glob.glob(os.path.join(TRAIN_IMAGES_PATH, \"*.png\")):\n",
    "    basename = os.path.basename(image_file)\n",
    "    image_id = os.path.splitext(basename)[0]\n",
    "    \n",
    "    multilabel_df.loc[multilabel_df[\"image\\\\label\"] == int(image_id), \"in_train\"] = 1"
   ]
  },
  {
   "cell_type": "code",
   "execution_count": 14,
   "metadata": {
    "ExecuteTime": {
     "end_time": "2020-05-07T09:07:55.451176Z",
     "start_time": "2020-05-07T09:07:55.442644Z"
    }
   },
   "outputs": [
    {
     "name": "stdout",
     "output_type": "stream",
     "text": [
      "Number of images in train set: 2673\n",
      "Number of images in test set: 669\n"
     ]
    }
   ],
   "source": [
    "print(\"Number of images in train set:\", multilabel_df[\"in_train\"].sum())\n",
    "print(\"Number of images in test set:\", (multilabel_df[\"in_train\"] == 0).sum())"
   ]
  },
  {
   "cell_type": "markdown",
   "metadata": {},
   "source": [
    "## Label Analysis"
   ]
  },
  {
   "cell_type": "markdown",
   "metadata": {},
   "source": [
    "Since *impervious* label overwhelm the other labels by far, I just removed it from the dataset."
   ]
  },
  {
   "cell_type": "code",
   "execution_count": 15,
   "metadata": {
    "ExecuteTime": {
     "end_time": "2020-05-07T09:08:25.906775Z",
     "start_time": "2020-05-07T09:08:25.892951Z"
    }
   },
   "outputs": [],
   "source": [
    "multilabel_df.drop(\"impervious\", axis=1, inplace=True)\n",
    "multilabel_df[\"total_label_count\"] = multilabel_df.drop([\"image\\\\label\", \"in_train\"], axis=1).sum(axis=1)"
   ]
  },
  {
   "cell_type": "code",
   "execution_count": 16,
   "metadata": {
    "ExecuteTime": {
     "end_time": "2020-05-07T09:08:26.474483Z",
     "start_time": "2020-05-07T09:08:26.458631Z"
    }
   },
   "outputs": [
    {
     "data": {
      "text/html": [
       "<div>\n",
       "<style scoped>\n",
       "    .dataframe tbody tr th:only-of-type {\n",
       "        vertical-align: middle;\n",
       "    }\n",
       "\n",
       "    .dataframe tbody tr th {\n",
       "        vertical-align: top;\n",
       "    }\n",
       "\n",
       "    .dataframe thead th {\n",
       "        text-align: right;\n",
       "    }\n",
       "</style>\n",
       "<table border=\"1\" class=\"dataframe\">\n",
       "  <thead>\n",
       "    <tr style=\"text-align: right;\">\n",
       "      <th></th>\n",
       "      <th>image\\label</th>\n",
       "      <th>water</th>\n",
       "      <th>clutter</th>\n",
       "      <th>vegetation</th>\n",
       "      <th>building</th>\n",
       "      <th>tree</th>\n",
       "      <th>boat</th>\n",
       "      <th>car</th>\n",
       "      <th>in_train</th>\n",
       "      <th>total_label_count</th>\n",
       "    </tr>\n",
       "  </thead>\n",
       "  <tbody>\n",
       "    <tr>\n",
       "      <th>0</th>\n",
       "      <td>1</td>\n",
       "      <td>1</td>\n",
       "      <td>0</td>\n",
       "      <td>0</td>\n",
       "      <td>0</td>\n",
       "      <td>0</td>\n",
       "      <td>0</td>\n",
       "      <td>0</td>\n",
       "      <td>1</td>\n",
       "      <td>1</td>\n",
       "    </tr>\n",
       "    <tr>\n",
       "      <th>1</th>\n",
       "      <td>2</td>\n",
       "      <td>1</td>\n",
       "      <td>0</td>\n",
       "      <td>0</td>\n",
       "      <td>0</td>\n",
       "      <td>0</td>\n",
       "      <td>0</td>\n",
       "      <td>0</td>\n",
       "      <td>1</td>\n",
       "      <td>1</td>\n",
       "    </tr>\n",
       "    <tr>\n",
       "      <th>2</th>\n",
       "      <td>3</td>\n",
       "      <td>1</td>\n",
       "      <td>0</td>\n",
       "      <td>0</td>\n",
       "      <td>0</td>\n",
       "      <td>0</td>\n",
       "      <td>0</td>\n",
       "      <td>0</td>\n",
       "      <td>0</td>\n",
       "      <td>1</td>\n",
       "    </tr>\n",
       "    <tr>\n",
       "      <th>3</th>\n",
       "      <td>4</td>\n",
       "      <td>1</td>\n",
       "      <td>0</td>\n",
       "      <td>0</td>\n",
       "      <td>0</td>\n",
       "      <td>0</td>\n",
       "      <td>0</td>\n",
       "      <td>0</td>\n",
       "      <td>1</td>\n",
       "      <td>1</td>\n",
       "    </tr>\n",
       "    <tr>\n",
       "      <th>4</th>\n",
       "      <td>5</td>\n",
       "      <td>1</td>\n",
       "      <td>0</td>\n",
       "      <td>0</td>\n",
       "      <td>0</td>\n",
       "      <td>0</td>\n",
       "      <td>0</td>\n",
       "      <td>0</td>\n",
       "      <td>1</td>\n",
       "      <td>1</td>\n",
       "    </tr>\n",
       "  </tbody>\n",
       "</table>\n",
       "</div>"
      ],
      "text/plain": [
       "   image\\label  water  clutter  vegetation  building  tree  boat  car  \\\n",
       "0            1      1        0           0         0     0     0    0   \n",
       "1            2      1        0           0         0     0     0    0   \n",
       "2            3      1        0           0         0     0     0    0   \n",
       "3            4      1        0           0         0     0     0    0   \n",
       "4            5      1        0           0         0     0     0    0   \n",
       "\n",
       "   in_train  total_label_count  \n",
       "0         1                  1  \n",
       "1         1                  1  \n",
       "2         0                  1  \n",
       "3         1                  1  \n",
       "4         1                  1  "
      ]
     },
     "execution_count": 16,
     "metadata": {},
     "output_type": "execute_result"
    }
   ],
   "source": [
    "multilabel_df.head()"
   ]
  },
  {
   "cell_type": "code",
   "execution_count": 17,
   "metadata": {
    "ExecuteTime": {
     "end_time": "2020-05-07T09:08:39.909071Z",
     "start_time": "2020-05-07T09:08:39.895341Z"
    }
   },
   "outputs": [
    {
     "data": {
      "text/plain": [
       "count    3342.000000\n",
       "mean        1.857870\n",
       "std         0.954438\n",
       "min         1.000000\n",
       "25%         1.000000\n",
       "50%         2.000000\n",
       "75%         3.000000\n",
       "max         5.000000\n",
       "Name: total_label_count, dtype: float64"
      ]
     },
     "execution_count": 17,
     "metadata": {},
     "output_type": "execute_result"
    }
   ],
   "source": [
    "multilabel_df[\"total_label_count\"].describe()"
   ]
  },
  {
   "cell_type": "code",
   "execution_count": 18,
   "metadata": {
    "ExecuteTime": {
     "end_time": "2020-05-07T09:08:52.529505Z",
     "start_time": "2020-05-07T09:08:52.362795Z"
    }
   },
   "outputs": [
    {
     "data": {
      "image/png": "[encoded data removed]",
      "text/plain": [
       "<Figure size 1080x576 with 1 Axes>"
      ]
     },
     "metadata": {
      "needs_background": "light"
     },
     "output_type": "display_data"
    }
   ],
   "source": [
    "plt_data = multilabel_df.drop([\"image\\\\label\", \"total_label_count\", \"in_train\"], axis=1).sum(axis=0)\n",
    "\n",
    "fig, ax = plt.subplots(figsize=(15, 8))\n",
    "\n",
    "ax.bar(plt_data.index, plt_data.values, color=matplotlib.cm.rainbow(np.linspace(0, 1, 7)))\n",
    "\n",
    "rects = ax.patches\n",
    "labels = plt_data.values\n",
    "for rect, label in zip(rects, labels):\n",
    "    height = rect.get_height()\n",
    "    ax.text(rect.get_x() + rect.get_width() / 2, height + 5, label, ha=\"center\", va=\"bottom\")\n",
    "plt.title(\"Label Counts Plot\", fontsize=18)\n",
    "plt.xlabel(\"Label Name\", fontsize=16)\n",
    "plt.ylabel(\"Occurence Count\", fontsize=16)\n",
    "\n",
    "plt.show()"
   ]
  },
  {
   "cell_type": "markdown",
   "metadata": {},
   "source": [
    "## Label Correlations"
   ]
  },
  {
   "cell_type": "code",
   "execution_count": 19,
   "metadata": {
    "ExecuteTime": {
     "end_time": "2020-05-07T09:09:05.412787Z",
     "start_time": "2020-05-07T09:09:05.399248Z"
    }
   },
   "outputs": [
    {
     "data": {
      "text/html": [
       "<div>\n",
       "<style scoped>\n",
       "    .dataframe tbody tr th:only-of-type {\n",
       "        vertical-align: middle;\n",
       "    }\n",
       "\n",
       "    .dataframe tbody tr th {\n",
       "        vertical-align: top;\n",
       "    }\n",
       "\n",
       "    .dataframe thead th {\n",
       "        text-align: right;\n",
       "    }\n",
       "</style>\n",
       "<table border=\"1\" class=\"dataframe\">\n",
       "  <thead>\n",
       "    <tr style=\"text-align: right;\">\n",
       "      <th></th>\n",
       "      <th>water</th>\n",
       "      <th>clutter</th>\n",
       "      <th>vegetation</th>\n",
       "      <th>building</th>\n",
       "      <th>tree</th>\n",
       "      <th>boat</th>\n",
       "      <th>car</th>\n",
       "    </tr>\n",
       "  </thead>\n",
       "  <tbody>\n",
       "    <tr>\n",
       "      <th>water</th>\n",
       "      <td>1.000000</td>\n",
       "      <td>-0.267381</td>\n",
       "      <td>-0.105124</td>\n",
       "      <td>-0.201152</td>\n",
       "      <td>-0.068699</td>\n",
       "      <td>0.425553</td>\n",
       "      <td>-0.159502</td>\n",
       "    </tr>\n",
       "    <tr>\n",
       "      <th>clutter</th>\n",
       "      <td>-0.267381</td>\n",
       "      <td>1.000000</td>\n",
       "      <td>-0.486573</td>\n",
       "      <td>-0.426228</td>\n",
       "      <td>-0.296263</td>\n",
       "      <td>-0.048236</td>\n",
       "      <td>-0.246978</td>\n",
       "    </tr>\n",
       "    <tr>\n",
       "      <th>vegetation</th>\n",
       "      <td>-0.105124</td>\n",
       "      <td>-0.486573</td>\n",
       "      <td>1.000000</td>\n",
       "      <td>0.409673</td>\n",
       "      <td>0.412089</td>\n",
       "      <td>-0.168181</td>\n",
       "      <td>0.291117</td>\n",
       "    </tr>\n",
       "    <tr>\n",
       "      <th>building</th>\n",
       "      <td>-0.201152</td>\n",
       "      <td>-0.426228</td>\n",
       "      <td>0.409673</td>\n",
       "      <td>1.000000</td>\n",
       "      <td>0.104566</td>\n",
       "      <td>-0.054825</td>\n",
       "      <td>0.523324</td>\n",
       "    </tr>\n",
       "    <tr>\n",
       "      <th>tree</th>\n",
       "      <td>-0.068699</td>\n",
       "      <td>-0.296263</td>\n",
       "      <td>0.412089</td>\n",
       "      <td>0.104566</td>\n",
       "      <td>1.000000</td>\n",
       "      <td>-0.085748</td>\n",
       "      <td>0.023561</td>\n",
       "    </tr>\n",
       "    <tr>\n",
       "      <th>boat</th>\n",
       "      <td>0.425553</td>\n",
       "      <td>-0.048236</td>\n",
       "      <td>-0.168181</td>\n",
       "      <td>-0.054825</td>\n",
       "      <td>-0.085748</td>\n",
       "      <td>1.000000</td>\n",
       "      <td>-0.005267</td>\n",
       "    </tr>\n",
       "    <tr>\n",
       "      <th>car</th>\n",
       "      <td>-0.159502</td>\n",
       "      <td>-0.246978</td>\n",
       "      <td>0.291117</td>\n",
       "      <td>0.523324</td>\n",
       "      <td>0.023561</td>\n",
       "      <td>-0.005267</td>\n",
       "      <td>1.000000</td>\n",
       "    </tr>\n",
       "  </tbody>\n",
       "</table>\n",
       "</div>"
      ],
      "text/plain": [
       "               water   clutter  vegetation  building      tree      boat  \\\n",
       "water       1.000000 -0.267381   -0.105124 -0.201152 -0.068699  0.425553   \n",
       "clutter    -0.267381  1.000000   -0.486573 -0.426228 -0.296263 -0.048236   \n",
       "vegetation -0.105124 -0.486573    1.000000  0.409673  0.412089 -0.168181   \n",
       "building   -0.201152 -0.426228    0.409673  1.000000  0.104566 -0.054825   \n",
       "tree       -0.068699 -0.296263    0.412089  0.104566  1.000000 -0.085748   \n",
       "boat        0.425553 -0.048236   -0.168181 -0.054825 -0.085748  1.000000   \n",
       "car        -0.159502 -0.246978    0.291117  0.523324  0.023561 -0.005267   \n",
       "\n",
       "                 car  \n",
       "water      -0.159502  \n",
       "clutter    -0.246978  \n",
       "vegetation  0.291117  \n",
       "building    0.523324  \n",
       "tree        0.023561  \n",
       "boat       -0.005267  \n",
       "car         1.000000  "
      ]
     },
     "execution_count": 19,
     "metadata": {},
     "output_type": "execute_result"
    }
   ],
   "source": [
    "just_labels_df = multilabel_df.drop([\"image\\\\label\", \"total_label_count\", \"in_train\"], axis=1)\n",
    "just_labels_df.corr()"
   ]
  },
  {
   "cell_type": "code",
   "execution_count": 20,
   "metadata": {
    "ExecuteTime": {
     "end_time": "2020-05-07T09:09:15.848490Z",
     "start_time": "2020-05-07T09:09:15.633602Z"
    }
   },
   "outputs": [
    {
     "data": {
      "image/png": "[encoded data removed]",
      "text/plain": [
       "<Figure size 576x576 with 2 Axes>"
      ]
     },
     "metadata": {
      "needs_background": "light"
     },
     "output_type": "display_data"
    }
   ],
   "source": [
    "fig, ax = plt.subplots(figsize=(8, 8))\n",
    "\n",
    "ax.xaxis.tick_top()\n",
    "im = ax.imshow(just_labels_df.corr())\n",
    "plt.xticks(ticks=np.arange(just_labels_df.shape[1]), labels=just_labels_df.columns)\n",
    "plt.yticks(ticks=np.arange(just_labels_df.shape[1]), labels=just_labels_df.columns)\n",
    "\n",
    "cbar = ax.figure.colorbar(im, ax=ax)\n",
    "cbar.ax.set_ylabel(\"Pearson Correlation Coef.\", rotation=-90, va=\"bottom\")\n",
    "\n",
    "plt.title(\"Labels Correlation Plot\")\n",
    "\n",
    "plt.show()"
   ]
  }
 ],
 "metadata": {
  "kernelspec": {
   "display_name": "Python 3",
   "language": "python",
   "name": "python3"
  },
  "language_info": {
   "codemirror_mode": {
    "name": "ipython",
    "version": 3
   },
   "file_extension": ".py",
   "mimetype": "text/x-python",
   "name": "python",
   "nbconvert_exporter": "python",
   "pygments_lexer": "ipython3",
   "version": "3.7.6"
  },
  "toc": {
   "base_numbering": 1,
   "nav_menu": {},
   "number_sections": true,
   "sideBar": true,
   "skip_h1_title": false,
   "title_cell": "Table of Contents",
   "title_sidebar": "Contents",
   "toc_cell": false,
   "toc_position": {},
   "toc_section_display": true,
   "toc_window_display": true
  },
  "varInspector": {
   "cols": {
    "lenName": 16,
    "lenType": 16,
    "lenVar": 40
   },
   "kernels_config": {
    "python": {
     "delete_cmd_postfix": "",
     "delete_cmd_prefix": "del ",
     "library": "var_list.py",
     "varRefreshCmd": "print(var_dic_list())"
    },
    "r": {
     "delete_cmd_postfix": ") ",
     "delete_cmd_prefix": "rm(",
     "library": "var_list.r",
     "varRefreshCmd": "cat(var_dic_list()) "
    }
   },
   "position": {
    "height": "766.85px",
    "left": "1550px",
    "right": "20px",
    "top": "120px",
    "width": "350px"
   },
   "types_to_exclude": [
    "module",
    "function",
    "builtin_function_or_method",
    "instance",
    "_Feature"
   ],
   "window_display": true
  }
 },
 "nbformat": 4,
 "nbformat_minor": 4
}
