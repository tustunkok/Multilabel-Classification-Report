{
 "cells": [
  {
   "cell_type": "markdown",
   "metadata": {},
   "source": [
    "# Imports"
   ]
  },
  {
   "cell_type": "code",
   "execution_count": 1,
   "metadata": {
    "ExecuteTime": {
     "end_time": "2020-05-07T16:54:13.344687Z",
     "start_time": "2020-05-07T16:54:11.552050Z"
    }
   },
   "outputs": [],
   "source": [
    "import os\n",
    "import cv2\n",
    "import glob\n",
    "import matplotlib\n",
    "import numpy as np\n",
    "import pandas as pd\n",
    "import matplotlib.pyplot as plt\n",
    "\n",
    "from minisom import MiniSom\n",
    "from sklearn.metrics import classification_report, roc_curve, roc_auc_score\n",
    "from tensorflow.keras.applications.vgg16 import VGG16"
   ]
  },
  {
   "cell_type": "markdown",
   "metadata": {},
   "source": [
    "# Dataset Summary\n",
    "\n",
    "**Name:** DFC15_multilabel"
   ]
  },
  {
   "cell_type": "code",
   "execution_count": 2,
   "metadata": {
    "ExecuteTime": {
     "end_time": "2020-05-07T16:54:13.350007Z",
     "start_time": "2020-05-07T16:54:13.346154Z"
    }
   },
   "outputs": [
    {
     "name": "stdout",
     "output_type": "stream",
     "text": [
      "Dataset in /home/jovyan/work/data/DFC15_multilabel\n",
      "Contents of dataset dir is ['images_tr', 'images_test', 'multilabel.csv', 'multilabel.mat']\n"
     ]
    }
   ],
   "source": [
    "BASE_DATA_DIR = \"/home/jovyan/work/data/\"\n",
    "DATASET_DIR = \"DFC15_multilabel\"\n",
    "FULL_DATASET_DIR = os.path.join(BASE_DATA_DIR, DATASET_DIR)\n",
    "TRAIN_IMAGES_PATH = os.path.join(FULL_DATASET_DIR, \"images_tr\")\n",
    "TEST_IMAGES_PATH = os.path.join(FULL_DATASET_DIR, \"images_test\")\n",
    "\n",
    "print(f\"Dataset in {FULL_DATASET_DIR}\")\n",
    "print(f\"Contents of dataset dir is {os.listdir(FULL_DATASET_DIR)}\")"
   ]
  },
  {
   "cell_type": "code",
   "execution_count": 3,
   "metadata": {
    "ExecuteTime": {
     "end_time": "2020-05-07T16:54:13.458360Z",
     "start_time": "2020-05-07T16:54:13.351494Z"
    }
   },
   "outputs": [
    {
     "data": {
      "text/html": [
       "<div>\n",
       "<style scoped>\n",
       "    .dataframe tbody tr th:only-of-type {\n",
       "        vertical-align: middle;\n",
       "    }\n",
       "\n",
       "    .dataframe tbody tr th {\n",
       "        vertical-align: top;\n",
       "    }\n",
       "\n",
       "    .dataframe thead th {\n",
       "        text-align: right;\n",
       "    }\n",
       "</style>\n",
       "<table border=\"1\" class=\"dataframe\">\n",
       "  <thead>\n",
       "    <tr style=\"text-align: right;\">\n",
       "      <th></th>\n",
       "      <th>image\\label</th>\n",
       "      <th>impervious</th>\n",
       "      <th>water</th>\n",
       "      <th>clutter</th>\n",
       "      <th>vegetation</th>\n",
       "      <th>building</th>\n",
       "      <th>tree</th>\n",
       "      <th>boat</th>\n",
       "      <th>car</th>\n",
       "    </tr>\n",
       "  </thead>\n",
       "  <tbody>\n",
       "    <tr>\n",
       "      <th>0</th>\n",
       "      <td>1</td>\n",
       "      <td>1</td>\n",
       "      <td>1</td>\n",
       "      <td>0</td>\n",
       "      <td>0</td>\n",
       "      <td>0</td>\n",
       "      <td>0</td>\n",
       "      <td>0</td>\n",
       "      <td>0</td>\n",
       "    </tr>\n",
       "    <tr>\n",
       "      <th>1</th>\n",
       "      <td>2</td>\n",
       "      <td>1</td>\n",
       "      <td>1</td>\n",
       "      <td>0</td>\n",
       "      <td>0</td>\n",
       "      <td>0</td>\n",
       "      <td>0</td>\n",
       "      <td>0</td>\n",
       "      <td>0</td>\n",
       "    </tr>\n",
       "    <tr>\n",
       "      <th>2</th>\n",
       "      <td>3</td>\n",
       "      <td>1</td>\n",
       "      <td>1</td>\n",
       "      <td>0</td>\n",
       "      <td>0</td>\n",
       "      <td>0</td>\n",
       "      <td>0</td>\n",
       "      <td>0</td>\n",
       "      <td>0</td>\n",
       "    </tr>\n",
       "    <tr>\n",
       "      <th>3</th>\n",
       "      <td>4</td>\n",
       "      <td>1</td>\n",
       "      <td>1</td>\n",
       "      <td>0</td>\n",
       "      <td>0</td>\n",
       "      <td>0</td>\n",
       "      <td>0</td>\n",
       "      <td>0</td>\n",
       "      <td>0</td>\n",
       "    </tr>\n",
       "    <tr>\n",
       "      <th>4</th>\n",
       "      <td>5</td>\n",
       "      <td>1</td>\n",
       "      <td>1</td>\n",
       "      <td>0</td>\n",
       "      <td>0</td>\n",
       "      <td>0</td>\n",
       "      <td>0</td>\n",
       "      <td>0</td>\n",
       "      <td>0</td>\n",
       "    </tr>\n",
       "  </tbody>\n",
       "</table>\n",
       "</div>"
      ],
      "text/plain": [
       "   image\\label  impervious  water  clutter  vegetation  building  tree  boat  \\\n",
       "0            1           1      1        0           0         0     0     0   \n",
       "1            2           1      1        0           0         0     0     0   \n",
       "2            3           1      1        0           0         0     0     0   \n",
       "3            4           1      1        0           0         0     0     0   \n",
       "4            5           1      1        0           0         0     0     0   \n",
       "\n",
       "   car  \n",
       "0    0  \n",
       "1    0  \n",
       "2    0  \n",
       "3    0  \n",
       "4    0  "
      ]
     },
     "execution_count": 3,
     "metadata": {},
     "output_type": "execute_result"
    }
   ],
   "source": [
    "multilabel_df = pd.read_csv(os.path.join(FULL_DATASET_DIR, \"multilabel.csv\"))\n",
    "multilabel_df.head()"
   ]
  },
  {
   "cell_type": "code",
   "execution_count": 4,
   "metadata": {
    "ExecuteTime": {
     "end_time": "2020-05-07T16:54:13.545563Z",
     "start_time": "2020-05-07T16:54:13.460038Z"
    }
   },
   "outputs": [
    {
     "name": "stdout",
     "output_type": "stream",
     "text": [
      "Total number of samples:  3342\n",
      "Total number of features:  8\n"
     ]
    }
   ],
   "source": [
    "print(\"Total number of samples: \", multilabel_df.shape[0])\n",
    "print(\"Total number of features: \", multilabel_df.shape[1] - 1)"
   ]
  },
  {
   "cell_type": "code",
   "execution_count": 5,
   "metadata": {
    "ExecuteTime": {
     "end_time": "2020-05-07T16:54:13.681055Z",
     "start_time": "2020-05-07T16:54:13.546697Z"
    }
   },
   "outputs": [
    {
     "data": {
      "text/html": [
       "<div>\n",
       "<style scoped>\n",
       "    .dataframe tbody tr th:only-of-type {\n",
       "        vertical-align: middle;\n",
       "    }\n",
       "\n",
       "    .dataframe tbody tr th {\n",
       "        vertical-align: top;\n",
       "    }\n",
       "\n",
       "    .dataframe thead th {\n",
       "        text-align: right;\n",
       "    }\n",
       "</style>\n",
       "<table border=\"1\" class=\"dataframe\">\n",
       "  <thead>\n",
       "    <tr style=\"text-align: right;\">\n",
       "      <th></th>\n",
       "      <th>image\\label</th>\n",
       "      <th>impervious</th>\n",
       "      <th>water</th>\n",
       "      <th>clutter</th>\n",
       "      <th>vegetation</th>\n",
       "      <th>building</th>\n",
       "      <th>tree</th>\n",
       "      <th>boat</th>\n",
       "      <th>car</th>\n",
       "    </tr>\n",
       "  </thead>\n",
       "  <tbody>\n",
       "    <tr>\n",
       "      <th>count</th>\n",
       "      <td>3342.000000</td>\n",
       "      <td>3342.000000</td>\n",
       "      <td>3342.000000</td>\n",
       "      <td>3342.000000</td>\n",
       "      <td>3342.000000</td>\n",
       "      <td>3342.000000</td>\n",
       "      <td>3342.000000</td>\n",
       "      <td>3342.000000</td>\n",
       "      <td>3342.000000</td>\n",
       "    </tr>\n",
       "    <tr>\n",
       "      <th>mean</th>\n",
       "      <td>1671.500000</td>\n",
       "      <td>0.937463</td>\n",
       "      <td>0.298624</td>\n",
       "      <td>0.565829</td>\n",
       "      <td>0.324955</td>\n",
       "      <td>0.299521</td>\n",
       "      <td>0.077199</td>\n",
       "      <td>0.080790</td>\n",
       "      <td>0.210952</td>\n",
       "    </tr>\n",
       "    <tr>\n",
       "      <th>std</th>\n",
       "      <td>964.896627</td>\n",
       "      <td>0.242165</td>\n",
       "      <td>0.457723</td>\n",
       "      <td>0.495722</td>\n",
       "      <td>0.468428</td>\n",
       "      <td>0.458117</td>\n",
       "      <td>0.266947</td>\n",
       "      <td>0.272553</td>\n",
       "      <td>0.408045</td>\n",
       "    </tr>\n",
       "    <tr>\n",
       "      <th>min</th>\n",
       "      <td>1.000000</td>\n",
       "      <td>0.000000</td>\n",
       "      <td>0.000000</td>\n",
       "      <td>0.000000</td>\n",
       "      <td>0.000000</td>\n",
       "      <td>0.000000</td>\n",
       "      <td>0.000000</td>\n",
       "      <td>0.000000</td>\n",
       "      <td>0.000000</td>\n",
       "    </tr>\n",
       "    <tr>\n",
       "      <th>25%</th>\n",
       "      <td>836.250000</td>\n",
       "      <td>1.000000</td>\n",
       "      <td>0.000000</td>\n",
       "      <td>0.000000</td>\n",
       "      <td>0.000000</td>\n",
       "      <td>0.000000</td>\n",
       "      <td>0.000000</td>\n",
       "      <td>0.000000</td>\n",
       "      <td>0.000000</td>\n",
       "    </tr>\n",
       "    <tr>\n",
       "      <th>50%</th>\n",
       "      <td>1671.500000</td>\n",
       "      <td>1.000000</td>\n",
       "      <td>0.000000</td>\n",
       "      <td>1.000000</td>\n",
       "      <td>0.000000</td>\n",
       "      <td>0.000000</td>\n",
       "      <td>0.000000</td>\n",
       "      <td>0.000000</td>\n",
       "      <td>0.000000</td>\n",
       "    </tr>\n",
       "    <tr>\n",
       "      <th>75%</th>\n",
       "      <td>2506.750000</td>\n",
       "      <td>1.000000</td>\n",
       "      <td>1.000000</td>\n",
       "      <td>1.000000</td>\n",
       "      <td>1.000000</td>\n",
       "      <td>1.000000</td>\n",
       "      <td>0.000000</td>\n",
       "      <td>0.000000</td>\n",
       "      <td>0.000000</td>\n",
       "    </tr>\n",
       "    <tr>\n",
       "      <th>max</th>\n",
       "      <td>3342.000000</td>\n",
       "      <td>1.000000</td>\n",
       "      <td>1.000000</td>\n",
       "      <td>1.000000</td>\n",
       "      <td>1.000000</td>\n",
       "      <td>1.000000</td>\n",
       "      <td>1.000000</td>\n",
       "      <td>1.000000</td>\n",
       "      <td>1.000000</td>\n",
       "    </tr>\n",
       "  </tbody>\n",
       "</table>\n",
       "</div>"
      ],
      "text/plain": [
       "       image\\label   impervious        water      clutter   vegetation  \\\n",
       "count  3342.000000  3342.000000  3342.000000  3342.000000  3342.000000   \n",
       "mean   1671.500000     0.937463     0.298624     0.565829     0.324955   \n",
       "std     964.896627     0.242165     0.457723     0.495722     0.468428   \n",
       "min       1.000000     0.000000     0.000000     0.000000     0.000000   \n",
       "25%     836.250000     1.000000     0.000000     0.000000     0.000000   \n",
       "50%    1671.500000     1.000000     0.000000     1.000000     0.000000   \n",
       "75%    2506.750000     1.000000     1.000000     1.000000     1.000000   \n",
       "max    3342.000000     1.000000     1.000000     1.000000     1.000000   \n",
       "\n",
       "          building         tree         boat          car  \n",
       "count  3342.000000  3342.000000  3342.000000  3342.000000  \n",
       "mean      0.299521     0.077199     0.080790     0.210952  \n",
       "std       0.458117     0.266947     0.272553     0.408045  \n",
       "min       0.000000     0.000000     0.000000     0.000000  \n",
       "25%       0.000000     0.000000     0.000000     0.000000  \n",
       "50%       0.000000     0.000000     0.000000     0.000000  \n",
       "75%       1.000000     0.000000     0.000000     0.000000  \n",
       "max       1.000000     1.000000     1.000000     1.000000  "
      ]
     },
     "execution_count": 5,
     "metadata": {},
     "output_type": "execute_result"
    }
   ],
   "source": [
    "multilabel_df.describe()"
   ]
  },
  {
   "cell_type": "code",
   "execution_count": 6,
   "metadata": {
    "ExecuteTime": {
     "end_time": "2020-05-07T16:54:13.758430Z",
     "start_time": "2020-05-07T16:54:13.682562Z"
    }
   },
   "outputs": [
    {
     "name": "stdout",
     "output_type": "stream",
     "text": [
      "<class 'pandas.core.frame.DataFrame'>\n",
      "RangeIndex: 3342 entries, 0 to 3341\n",
      "Data columns (total 9 columns):\n",
      " #   Column       Non-Null Count  Dtype\n",
      "---  ------       --------------  -----\n",
      " 0   image\\label  3342 non-null   int64\n",
      " 1   impervious   3342 non-null   int64\n",
      " 2   water        3342 non-null   int64\n",
      " 3   clutter      3342 non-null   int64\n",
      " 4   vegetation   3342 non-null   int64\n",
      " 5   building     3342 non-null   int64\n",
      " 6   tree         3342 non-null   int64\n",
      " 7   boat         3342 non-null   int64\n",
      " 8   car          3342 non-null   int64\n",
      "dtypes: int64(9)\n",
      "memory usage: 235.1 KB\n"
     ]
    }
   ],
   "source": [
    "multilabel_df.info()"
   ]
  },
  {
   "cell_type": "markdown",
   "metadata": {},
   "source": [
    "## Sample Distributions"
   ]
  },
  {
   "cell_type": "code",
   "execution_count": 7,
   "metadata": {
    "ExecuteTime": {
     "end_time": "2020-05-07T16:54:13.879818Z",
     "start_time": "2020-05-07T16:54:13.759693Z"
    }
   },
   "outputs": [
    {
     "name": "stdout",
     "output_type": "stream",
     "text": [
      "Number of images in train set: 2673\n",
      "Number of images in test set: 669\n"
     ]
    }
   ],
   "source": [
    "print(\"Number of images in train set:\", len(glob.glob(os.path.join(TRAIN_IMAGES_PATH, \"*.png\"))))\n",
    "print(\"Number of images in test set:\", len(glob.glob(os.path.join(TEST_IMAGES_PATH, \"*.png\"))))"
   ]
  },
  {
   "cell_type": "code",
   "execution_count": 8,
   "metadata": {
    "ExecuteTime": {
     "end_time": "2020-05-07T16:54:13.979869Z",
     "start_time": "2020-05-07T16:54:13.882849Z"
    }
   },
   "outputs": [],
   "source": [
    "multilabel_df[\"in_train\"] = np.zeros((multilabel_df.shape[0],), dtype=int)"
   ]
  },
  {
   "cell_type": "code",
   "execution_count": 9,
   "metadata": {
    "ExecuteTime": {
     "end_time": "2020-05-07T16:54:16.994557Z",
     "start_time": "2020-05-07T16:54:13.981405Z"
    }
   },
   "outputs": [],
   "source": [
    "for image_file in glob.glob(os.path.join(TRAIN_IMAGES_PATH, \"*.png\")):\n",
    "    basename = os.path.basename(image_file)\n",
    "    image_id = os.path.splitext(basename)[0]\n",
    "    \n",
    "    multilabel_df.loc[multilabel_df[\"image\\\\label\"] == int(image_id), \"in_train\"] = 1"
   ]
  },
  {
   "cell_type": "code",
   "execution_count": 10,
   "metadata": {
    "ExecuteTime": {
     "end_time": "2020-05-07T16:54:16.999833Z",
     "start_time": "2020-05-07T16:54:16.995803Z"
    }
   },
   "outputs": [
    {
     "name": "stdout",
     "output_type": "stream",
     "text": [
      "Number of images in train set: 2673\n",
      "Number of images in test set: 669\n"
     ]
    }
   ],
   "source": [
    "print(\"Number of images in train set:\", multilabel_df[\"in_train\"].sum())\n",
    "print(\"Number of images in test set:\", (multilabel_df[\"in_train\"] == 0).sum())"
   ]
  },
  {
   "cell_type": "markdown",
   "metadata": {},
   "source": [
    "## Label Analysis"
   ]
  },
  {
   "cell_type": "code",
   "execution_count": 11,
   "metadata": {
    "ExecuteTime": {
     "end_time": "2020-05-07T16:54:17.122424Z",
     "start_time": "2020-05-07T16:54:17.001028Z"
    }
   },
   "outputs": [],
   "source": [
    "multilabel_df[\"total_label_count\"] = multilabel_df.drop([\"image\\\\label\", \"in_train\"], axis=1).sum(axis=1)"
   ]
  },
  {
   "cell_type": "code",
   "execution_count": 12,
   "metadata": {
    "ExecuteTime": {
     "end_time": "2020-05-07T16:54:17.240789Z",
     "start_time": "2020-05-07T16:54:17.123599Z"
    }
   },
   "outputs": [
    {
     "data": {
      "text/html": [
       "<div>\n",
       "<style scoped>\n",
       "    .dataframe tbody tr th:only-of-type {\n",
       "        vertical-align: middle;\n",
       "    }\n",
       "\n",
       "    .dataframe tbody tr th {\n",
       "        vertical-align: top;\n",
       "    }\n",
       "\n",
       "    .dataframe thead th {\n",
       "        text-align: right;\n",
       "    }\n",
       "</style>\n",
       "<table border=\"1\" class=\"dataframe\">\n",
       "  <thead>\n",
       "    <tr style=\"text-align: right;\">\n",
       "      <th></th>\n",
       "      <th>image\\label</th>\n",
       "      <th>impervious</th>\n",
       "      <th>water</th>\n",
       "      <th>clutter</th>\n",
       "      <th>vegetation</th>\n",
       "      <th>building</th>\n",
       "      <th>tree</th>\n",
       "      <th>boat</th>\n",
       "      <th>car</th>\n",
       "      <th>in_train</th>\n",
       "      <th>total_label_count</th>\n",
       "    </tr>\n",
       "  </thead>\n",
       "  <tbody>\n",
       "    <tr>\n",
       "      <th>0</th>\n",
       "      <td>1</td>\n",
       "      <td>1</td>\n",
       "      <td>1</td>\n",
       "      <td>0</td>\n",
       "      <td>0</td>\n",
       "      <td>0</td>\n",
       "      <td>0</td>\n",
       "      <td>0</td>\n",
       "      <td>0</td>\n",
       "      <td>1</td>\n",
       "      <td>2</td>\n",
       "    </tr>\n",
       "    <tr>\n",
       "      <th>1</th>\n",
       "      <td>2</td>\n",
       "      <td>1</td>\n",
       "      <td>1</td>\n",
       "      <td>0</td>\n",
       "      <td>0</td>\n",
       "      <td>0</td>\n",
       "      <td>0</td>\n",
       "      <td>0</td>\n",
       "      <td>0</td>\n",
       "      <td>1</td>\n",
       "      <td>2</td>\n",
       "    </tr>\n",
       "    <tr>\n",
       "      <th>2</th>\n",
       "      <td>3</td>\n",
       "      <td>1</td>\n",
       "      <td>1</td>\n",
       "      <td>0</td>\n",
       "      <td>0</td>\n",
       "      <td>0</td>\n",
       "      <td>0</td>\n",
       "      <td>0</td>\n",
       "      <td>0</td>\n",
       "      <td>0</td>\n",
       "      <td>2</td>\n",
       "    </tr>\n",
       "    <tr>\n",
       "      <th>3</th>\n",
       "      <td>4</td>\n",
       "      <td>1</td>\n",
       "      <td>1</td>\n",
       "      <td>0</td>\n",
       "      <td>0</td>\n",
       "      <td>0</td>\n",
       "      <td>0</td>\n",
       "      <td>0</td>\n",
       "      <td>0</td>\n",
       "      <td>1</td>\n",
       "      <td>2</td>\n",
       "    </tr>\n",
       "    <tr>\n",
       "      <th>4</th>\n",
       "      <td>5</td>\n",
       "      <td>1</td>\n",
       "      <td>1</td>\n",
       "      <td>0</td>\n",
       "      <td>0</td>\n",
       "      <td>0</td>\n",
       "      <td>0</td>\n",
       "      <td>0</td>\n",
       "      <td>0</td>\n",
       "      <td>1</td>\n",
       "      <td>2</td>\n",
       "    </tr>\n",
       "  </tbody>\n",
       "</table>\n",
       "</div>"
      ],
      "text/plain": [
       "   image\\label  impervious  water  clutter  vegetation  building  tree  boat  \\\n",
       "0            1           1      1        0           0         0     0     0   \n",
       "1            2           1      1        0           0         0     0     0   \n",
       "2            3           1      1        0           0         0     0     0   \n",
       "3            4           1      1        0           0         0     0     0   \n",
       "4            5           1      1        0           0         0     0     0   \n",
       "\n",
       "   car  in_train  total_label_count  \n",
       "0    0         1                  2  \n",
       "1    0         1                  2  \n",
       "2    0         0                  2  \n",
       "3    0         1                  2  \n",
       "4    0         1                  2  "
      ]
     },
     "execution_count": 12,
     "metadata": {},
     "output_type": "execute_result"
    }
   ],
   "source": [
    "multilabel_df.head()"
   ]
  },
  {
   "cell_type": "markdown",
   "metadata": {},
   "source": [
    "### Label Distributions to Samples"
   ]
  },
  {
   "cell_type": "code",
   "execution_count": 13,
   "metadata": {
    "ExecuteTime": {
     "end_time": "2020-05-07T16:54:17.331853Z",
     "start_time": "2020-05-07T16:54:17.242115Z"
    }
   },
   "outputs": [
    {
     "data": {
      "text/plain": [
       "count    3342.000000\n",
       "mean        2.795332\n",
       "std         0.948227\n",
       "min         2.000000\n",
       "25%         2.000000\n",
       "50%         2.000000\n",
       "75%         3.000000\n",
       "max         6.000000\n",
       "Name: total_label_count, dtype: float64"
      ]
     },
     "execution_count": 13,
     "metadata": {},
     "output_type": "execute_result"
    }
   ],
   "source": [
    "multilabel_df[\"total_label_count\"].describe()"
   ]
  },
  {
   "cell_type": "code",
   "execution_count": 14,
   "metadata": {
    "ExecuteTime": {
     "end_time": "2020-05-07T16:54:17.591694Z",
     "start_time": "2020-05-07T16:54:17.333101Z"
    }
   },
   "outputs": [
    {
     "data": {
      "image/png": "[encoded data removed]",
      "text/plain": [
       "<Figure size 1080x576 with 1 Axes>"
      ]
     },
     "metadata": {
      "needs_background": "light"
     },
     "output_type": "display_data"
    }
   ],
   "source": [
    "plt_data = multilabel_df.drop([\"image\\\\label\", \"total_label_count\", \"in_train\"], axis=1).sum(axis=0)\n",
    "\n",
    "fig, ax = plt.subplots(figsize=(15, 8))\n",
    "\n",
    "ax.bar(plt_data.index, plt_data.values, color=matplotlib.cm.rainbow(np.linspace(0, 1, 7)))\n",
    "\n",
    "rects = ax.patches\n",
    "labels = plt_data.values\n",
    "for rect, label in zip(rects, labels):\n",
    "    height = rect.get_height()\n",
    "    ax.text(rect.get_x() + rect.get_width() / 2, height + 5, label, ha=\"center\", va=\"bottom\")\n",
    "plt.title(\"Label Counts Plot\", fontsize=18)\n",
    "plt.xlabel(\"Label Name\", fontsize=16)\n",
    "plt.ylabel(\"Occurence Count\", fontsize=16)\n",
    "\n",
    "plt.show()"
   ]
  },
  {
   "cell_type": "markdown",
   "metadata": {},
   "source": [
    "### Label Distributions Over Train and Test Sets"
   ]
  },
  {
   "cell_type": "code",
   "execution_count": 15,
   "metadata": {
    "ExecuteTime": {
     "end_time": "2020-05-07T16:54:17.628538Z",
     "start_time": "2020-05-07T16:54:17.592993Z"
    }
   },
   "outputs": [
    {
     "data": {
      "text/html": [
       "<div>\n",
       "<style scoped>\n",
       "    .dataframe tbody tr th:only-of-type {\n",
       "        vertical-align: middle;\n",
       "    }\n",
       "\n",
       "    .dataframe tbody tr th {\n",
       "        vertical-align: top;\n",
       "    }\n",
       "\n",
       "    .dataframe thead th {\n",
       "        text-align: right;\n",
       "    }\n",
       "</style>\n",
       "<table border=\"1\" class=\"dataframe\">\n",
       "  <thead>\n",
       "    <tr style=\"text-align: right;\">\n",
       "      <th></th>\n",
       "      <th>image\\label</th>\n",
       "      <th>impervious</th>\n",
       "      <th>water</th>\n",
       "      <th>clutter</th>\n",
       "      <th>vegetation</th>\n",
       "      <th>building</th>\n",
       "      <th>tree</th>\n",
       "      <th>boat</th>\n",
       "      <th>car</th>\n",
       "      <th>in_train</th>\n",
       "      <th>total_label_count</th>\n",
       "    </tr>\n",
       "  </thead>\n",
       "  <tbody>\n",
       "    <tr>\n",
       "      <th>count</th>\n",
       "      <td>2673.000000</td>\n",
       "      <td>2673.000000</td>\n",
       "      <td>2673.000000</td>\n",
       "      <td>2673.000000</td>\n",
       "      <td>2673.000000</td>\n",
       "      <td>2673.000000</td>\n",
       "      <td>2673.000000</td>\n",
       "      <td>2673.000000</td>\n",
       "      <td>2673.000000</td>\n",
       "      <td>2673.0</td>\n",
       "      <td>2673.000000</td>\n",
       "    </tr>\n",
       "    <tr>\n",
       "      <th>mean</th>\n",
       "      <td>1663.259633</td>\n",
       "      <td>0.941264</td>\n",
       "      <td>0.295922</td>\n",
       "      <td>0.564160</td>\n",
       "      <td>0.324355</td>\n",
       "      <td>0.298167</td>\n",
       "      <td>0.075196</td>\n",
       "      <td>0.080808</td>\n",
       "      <td>0.207258</td>\n",
       "      <td>1.0</td>\n",
       "      <td>2.787131</td>\n",
       "    </tr>\n",
       "    <tr>\n",
       "      <th>std</th>\n",
       "      <td>967.507156</td>\n",
       "      <td>0.235173</td>\n",
       "      <td>0.456542</td>\n",
       "      <td>0.495959</td>\n",
       "      <td>0.468221</td>\n",
       "      <td>0.457539</td>\n",
       "      <td>0.263757</td>\n",
       "      <td>0.272591</td>\n",
       "      <td>0.405418</td>\n",
       "      <td>0.0</td>\n",
       "      <td>0.943755</td>\n",
       "    </tr>\n",
       "    <tr>\n",
       "      <th>min</th>\n",
       "      <td>1.000000</td>\n",
       "      <td>0.000000</td>\n",
       "      <td>0.000000</td>\n",
       "      <td>0.000000</td>\n",
       "      <td>0.000000</td>\n",
       "      <td>0.000000</td>\n",
       "      <td>0.000000</td>\n",
       "      <td>0.000000</td>\n",
       "      <td>0.000000</td>\n",
       "      <td>1.0</td>\n",
       "      <td>2.000000</td>\n",
       "    </tr>\n",
       "    <tr>\n",
       "      <th>25%</th>\n",
       "      <td>819.000000</td>\n",
       "      <td>1.000000</td>\n",
       "      <td>0.000000</td>\n",
       "      <td>0.000000</td>\n",
       "      <td>0.000000</td>\n",
       "      <td>0.000000</td>\n",
       "      <td>0.000000</td>\n",
       "      <td>0.000000</td>\n",
       "      <td>0.000000</td>\n",
       "      <td>1.0</td>\n",
       "      <td>2.000000</td>\n",
       "    </tr>\n",
       "    <tr>\n",
       "      <th>50%</th>\n",
       "      <td>1662.000000</td>\n",
       "      <td>1.000000</td>\n",
       "      <td>0.000000</td>\n",
       "      <td>1.000000</td>\n",
       "      <td>0.000000</td>\n",
       "      <td>0.000000</td>\n",
       "      <td>0.000000</td>\n",
       "      <td>0.000000</td>\n",
       "      <td>0.000000</td>\n",
       "      <td>1.0</td>\n",
       "      <td>2.000000</td>\n",
       "    </tr>\n",
       "    <tr>\n",
       "      <th>75%</th>\n",
       "      <td>2503.000000</td>\n",
       "      <td>1.000000</td>\n",
       "      <td>1.000000</td>\n",
       "      <td>1.000000</td>\n",
       "      <td>1.000000</td>\n",
       "      <td>1.000000</td>\n",
       "      <td>0.000000</td>\n",
       "      <td>0.000000</td>\n",
       "      <td>0.000000</td>\n",
       "      <td>1.0</td>\n",
       "      <td>3.000000</td>\n",
       "    </tr>\n",
       "    <tr>\n",
       "      <th>max</th>\n",
       "      <td>3342.000000</td>\n",
       "      <td>1.000000</td>\n",
       "      <td>1.000000</td>\n",
       "      <td>1.000000</td>\n",
       "      <td>1.000000</td>\n",
       "      <td>1.000000</td>\n",
       "      <td>1.000000</td>\n",
       "      <td>1.000000</td>\n",
       "      <td>1.000000</td>\n",
       "      <td>1.0</td>\n",
       "      <td>6.000000</td>\n",
       "    </tr>\n",
       "  </tbody>\n",
       "</table>\n",
       "</div>"
      ],
      "text/plain": [
       "       image\\label   impervious        water      clutter   vegetation  \\\n",
       "count  2673.000000  2673.000000  2673.000000  2673.000000  2673.000000   \n",
       "mean   1663.259633     0.941264     0.295922     0.564160     0.324355   \n",
       "std     967.507156     0.235173     0.456542     0.495959     0.468221   \n",
       "min       1.000000     0.000000     0.000000     0.000000     0.000000   \n",
       "25%     819.000000     1.000000     0.000000     0.000000     0.000000   \n",
       "50%    1662.000000     1.000000     0.000000     1.000000     0.000000   \n",
       "75%    2503.000000     1.000000     1.000000     1.000000     1.000000   \n",
       "max    3342.000000     1.000000     1.000000     1.000000     1.000000   \n",
       "\n",
       "          building         tree         boat          car  in_train  \\\n",
       "count  2673.000000  2673.000000  2673.000000  2673.000000    2673.0   \n",
       "mean      0.298167     0.075196     0.080808     0.207258       1.0   \n",
       "std       0.457539     0.263757     0.272591     0.405418       0.0   \n",
       "min       0.000000     0.000000     0.000000     0.000000       1.0   \n",
       "25%       0.000000     0.000000     0.000000     0.000000       1.0   \n",
       "50%       0.000000     0.000000     0.000000     0.000000       1.0   \n",
       "75%       1.000000     0.000000     0.000000     0.000000       1.0   \n",
       "max       1.000000     1.000000     1.000000     1.000000       1.0   \n",
       "\n",
       "       total_label_count  \n",
       "count        2673.000000  \n",
       "mean            2.787131  \n",
       "std             0.943755  \n",
       "min             2.000000  \n",
       "25%             2.000000  \n",
       "50%             2.000000  \n",
       "75%             3.000000  \n",
       "max             6.000000  "
      ]
     },
     "execution_count": 15,
     "metadata": {},
     "output_type": "execute_result"
    }
   ],
   "source": [
    "multilabel_df[multilabel_df[\"in_train\"] == 1].describe()"
   ]
  },
  {
   "cell_type": "code",
   "execution_count": 16,
   "metadata": {
    "ExecuteTime": {
     "end_time": "2020-05-07T16:54:17.736548Z",
     "start_time": "2020-05-07T16:54:17.629827Z"
    }
   },
   "outputs": [
    {
     "data": {
      "text/html": [
       "<div>\n",
       "<style scoped>\n",
       "    .dataframe tbody tr th:only-of-type {\n",
       "        vertical-align: middle;\n",
       "    }\n",
       "\n",
       "    .dataframe tbody tr th {\n",
       "        vertical-align: top;\n",
       "    }\n",
       "\n",
       "    .dataframe thead th {\n",
       "        text-align: right;\n",
       "    }\n",
       "</style>\n",
       "<table border=\"1\" class=\"dataframe\">\n",
       "  <thead>\n",
       "    <tr style=\"text-align: right;\">\n",
       "      <th></th>\n",
       "      <th>image\\label</th>\n",
       "      <th>impervious</th>\n",
       "      <th>water</th>\n",
       "      <th>clutter</th>\n",
       "      <th>vegetation</th>\n",
       "      <th>building</th>\n",
       "      <th>tree</th>\n",
       "      <th>boat</th>\n",
       "      <th>car</th>\n",
       "      <th>in_train</th>\n",
       "      <th>total_label_count</th>\n",
       "    </tr>\n",
       "  </thead>\n",
       "  <tbody>\n",
       "    <tr>\n",
       "      <th>count</th>\n",
       "      <td>669.000000</td>\n",
       "      <td>669.000000</td>\n",
       "      <td>669.000000</td>\n",
       "      <td>669.000000</td>\n",
       "      <td>669.000000</td>\n",
       "      <td>669.000000</td>\n",
       "      <td>669.000000</td>\n",
       "      <td>669.000000</td>\n",
       "      <td>669.000000</td>\n",
       "      <td>669.0</td>\n",
       "      <td>669.000000</td>\n",
       "    </tr>\n",
       "    <tr>\n",
       "      <th>mean</th>\n",
       "      <td>1704.424514</td>\n",
       "      <td>0.922272</td>\n",
       "      <td>0.309417</td>\n",
       "      <td>0.572496</td>\n",
       "      <td>0.327354</td>\n",
       "      <td>0.304933</td>\n",
       "      <td>0.085202</td>\n",
       "      <td>0.080717</td>\n",
       "      <td>0.225710</td>\n",
       "      <td>0.0</td>\n",
       "      <td>2.828102</td>\n",
       "    </tr>\n",
       "    <tr>\n",
       "      <th>std</th>\n",
       "      <td>954.402170</td>\n",
       "      <td>0.267943</td>\n",
       "      <td>0.462599</td>\n",
       "      <td>0.495087</td>\n",
       "      <td>0.469599</td>\n",
       "      <td>0.460723</td>\n",
       "      <td>0.279391</td>\n",
       "      <td>0.272605</td>\n",
       "      <td>0.418362</td>\n",
       "      <td>0.0</td>\n",
       "      <td>0.965910</td>\n",
       "    </tr>\n",
       "    <tr>\n",
       "      <th>min</th>\n",
       "      <td>3.000000</td>\n",
       "      <td>0.000000</td>\n",
       "      <td>0.000000</td>\n",
       "      <td>0.000000</td>\n",
       "      <td>0.000000</td>\n",
       "      <td>0.000000</td>\n",
       "      <td>0.000000</td>\n",
       "      <td>0.000000</td>\n",
       "      <td>0.000000</td>\n",
       "      <td>0.0</td>\n",
       "      <td>2.000000</td>\n",
       "    </tr>\n",
       "    <tr>\n",
       "      <th>25%</th>\n",
       "      <td>891.000000</td>\n",
       "      <td>1.000000</td>\n",
       "      <td>0.000000</td>\n",
       "      <td>0.000000</td>\n",
       "      <td>0.000000</td>\n",
       "      <td>0.000000</td>\n",
       "      <td>0.000000</td>\n",
       "      <td>0.000000</td>\n",
       "      <td>0.000000</td>\n",
       "      <td>0.0</td>\n",
       "      <td>2.000000</td>\n",
       "    </tr>\n",
       "    <tr>\n",
       "      <th>50%</th>\n",
       "      <td>1714.000000</td>\n",
       "      <td>1.000000</td>\n",
       "      <td>0.000000</td>\n",
       "      <td>1.000000</td>\n",
       "      <td>0.000000</td>\n",
       "      <td>0.000000</td>\n",
       "      <td>0.000000</td>\n",
       "      <td>0.000000</td>\n",
       "      <td>0.000000</td>\n",
       "      <td>0.0</td>\n",
       "      <td>3.000000</td>\n",
       "    </tr>\n",
       "    <tr>\n",
       "      <th>75%</th>\n",
       "      <td>2521.000000</td>\n",
       "      <td>1.000000</td>\n",
       "      <td>1.000000</td>\n",
       "      <td>1.000000</td>\n",
       "      <td>1.000000</td>\n",
       "      <td>1.000000</td>\n",
       "      <td>0.000000</td>\n",
       "      <td>0.000000</td>\n",
       "      <td>0.000000</td>\n",
       "      <td>0.0</td>\n",
       "      <td>4.000000</td>\n",
       "    </tr>\n",
       "    <tr>\n",
       "      <th>max</th>\n",
       "      <td>3324.000000</td>\n",
       "      <td>1.000000</td>\n",
       "      <td>1.000000</td>\n",
       "      <td>1.000000</td>\n",
       "      <td>1.000000</td>\n",
       "      <td>1.000000</td>\n",
       "      <td>1.000000</td>\n",
       "      <td>1.000000</td>\n",
       "      <td>1.000000</td>\n",
       "      <td>0.0</td>\n",
       "      <td>6.000000</td>\n",
       "    </tr>\n",
       "  </tbody>\n",
       "</table>\n",
       "</div>"
      ],
      "text/plain": [
       "       image\\label  impervious       water     clutter  vegetation  \\\n",
       "count   669.000000  669.000000  669.000000  669.000000  669.000000   \n",
       "mean   1704.424514    0.922272    0.309417    0.572496    0.327354   \n",
       "std     954.402170    0.267943    0.462599    0.495087    0.469599   \n",
       "min       3.000000    0.000000    0.000000    0.000000    0.000000   \n",
       "25%     891.000000    1.000000    0.000000    0.000000    0.000000   \n",
       "50%    1714.000000    1.000000    0.000000    1.000000    0.000000   \n",
       "75%    2521.000000    1.000000    1.000000    1.000000    1.000000   \n",
       "max    3324.000000    1.000000    1.000000    1.000000    1.000000   \n",
       "\n",
       "         building        tree        boat         car  in_train  \\\n",
       "count  669.000000  669.000000  669.000000  669.000000     669.0   \n",
       "mean     0.304933    0.085202    0.080717    0.225710       0.0   \n",
       "std      0.460723    0.279391    0.272605    0.418362       0.0   \n",
       "min      0.000000    0.000000    0.000000    0.000000       0.0   \n",
       "25%      0.000000    0.000000    0.000000    0.000000       0.0   \n",
       "50%      0.000000    0.000000    0.000000    0.000000       0.0   \n",
       "75%      1.000000    0.000000    0.000000    0.000000       0.0   \n",
       "max      1.000000    1.000000    1.000000    1.000000       0.0   \n",
       "\n",
       "       total_label_count  \n",
       "count         669.000000  \n",
       "mean            2.828102  \n",
       "std             0.965910  \n",
       "min             2.000000  \n",
       "25%             2.000000  \n",
       "50%             3.000000  \n",
       "75%             4.000000  \n",
       "max             6.000000  "
      ]
     },
     "execution_count": 16,
     "metadata": {},
     "output_type": "execute_result"
    }
   ],
   "source": [
    "multilabel_df[multilabel_df[\"in_train\"] == 0].describe()"
   ]
  },
  {
   "cell_type": "markdown",
   "metadata": {},
   "source": [
    "## Label Correlations"
   ]
  },
  {
   "cell_type": "code",
   "execution_count": 17,
   "metadata": {
    "ExecuteTime": {
     "end_time": "2020-05-07T16:54:17.805579Z",
     "start_time": "2020-05-07T16:54:17.737775Z"
    }
   },
   "outputs": [
    {
     "data": {
      "text/html": [
       "<div>\n",
       "<style scoped>\n",
       "    .dataframe tbody tr th:only-of-type {\n",
       "        vertical-align: middle;\n",
       "    }\n",
       "\n",
       "    .dataframe tbody tr th {\n",
       "        vertical-align: top;\n",
       "    }\n",
       "\n",
       "    .dataframe thead th {\n",
       "        text-align: right;\n",
       "    }\n",
       "</style>\n",
       "<table border=\"1\" class=\"dataframe\">\n",
       "  <thead>\n",
       "    <tr style=\"text-align: right;\">\n",
       "      <th></th>\n",
       "      <th>impervious</th>\n",
       "      <th>water</th>\n",
       "      <th>clutter</th>\n",
       "      <th>vegetation</th>\n",
       "      <th>building</th>\n",
       "      <th>tree</th>\n",
       "      <th>boat</th>\n",
       "      <th>car</th>\n",
       "    </tr>\n",
       "  </thead>\n",
       "  <tbody>\n",
       "    <tr>\n",
       "      <th>impervious</th>\n",
       "      <td>1.000000</td>\n",
       "      <td>-0.301318</td>\n",
       "      <td>-0.009329</td>\n",
       "      <td>0.015609</td>\n",
       "      <td>0.152704</td>\n",
       "      <td>-0.129018</td>\n",
       "      <td>-0.367842</td>\n",
       "      <td>0.133546</td>\n",
       "    </tr>\n",
       "    <tr>\n",
       "      <th>water</th>\n",
       "      <td>-0.301318</td>\n",
       "      <td>1.000000</td>\n",
       "      <td>-0.267381</td>\n",
       "      <td>-0.105124</td>\n",
       "      <td>-0.201152</td>\n",
       "      <td>-0.068699</td>\n",
       "      <td>0.425553</td>\n",
       "      <td>-0.159502</td>\n",
       "    </tr>\n",
       "    <tr>\n",
       "      <th>clutter</th>\n",
       "      <td>-0.009329</td>\n",
       "      <td>-0.267381</td>\n",
       "      <td>1.000000</td>\n",
       "      <td>-0.486573</td>\n",
       "      <td>-0.426228</td>\n",
       "      <td>-0.296263</td>\n",
       "      <td>-0.048236</td>\n",
       "      <td>-0.246978</td>\n",
       "    </tr>\n",
       "    <tr>\n",
       "      <th>vegetation</th>\n",
       "      <td>0.015609</td>\n",
       "      <td>-0.105124</td>\n",
       "      <td>-0.486573</td>\n",
       "      <td>1.000000</td>\n",
       "      <td>0.409673</td>\n",
       "      <td>0.412089</td>\n",
       "      <td>-0.168181</td>\n",
       "      <td>0.291117</td>\n",
       "    </tr>\n",
       "    <tr>\n",
       "      <th>building</th>\n",
       "      <td>0.152704</td>\n",
       "      <td>-0.201152</td>\n",
       "      <td>-0.426228</td>\n",
       "      <td>0.409673</td>\n",
       "      <td>1.000000</td>\n",
       "      <td>0.104566</td>\n",
       "      <td>-0.054825</td>\n",
       "      <td>0.523324</td>\n",
       "    </tr>\n",
       "    <tr>\n",
       "      <th>tree</th>\n",
       "      <td>-0.129018</td>\n",
       "      <td>-0.068699</td>\n",
       "      <td>-0.296263</td>\n",
       "      <td>0.412089</td>\n",
       "      <td>0.104566</td>\n",
       "      <td>1.000000</td>\n",
       "      <td>-0.085748</td>\n",
       "      <td>0.023561</td>\n",
       "    </tr>\n",
       "    <tr>\n",
       "      <th>boat</th>\n",
       "      <td>-0.367842</td>\n",
       "      <td>0.425553</td>\n",
       "      <td>-0.048236</td>\n",
       "      <td>-0.168181</td>\n",
       "      <td>-0.054825</td>\n",
       "      <td>-0.085748</td>\n",
       "      <td>1.000000</td>\n",
       "      <td>-0.005267</td>\n",
       "    </tr>\n",
       "    <tr>\n",
       "      <th>car</th>\n",
       "      <td>0.133546</td>\n",
       "      <td>-0.159502</td>\n",
       "      <td>-0.246978</td>\n",
       "      <td>0.291117</td>\n",
       "      <td>0.523324</td>\n",
       "      <td>0.023561</td>\n",
       "      <td>-0.005267</td>\n",
       "      <td>1.000000</td>\n",
       "    </tr>\n",
       "  </tbody>\n",
       "</table>\n",
       "</div>"
      ],
      "text/plain": [
       "            impervious     water   clutter  vegetation  building      tree  \\\n",
       "impervious    1.000000 -0.301318 -0.009329    0.015609  0.152704 -0.129018   \n",
       "water        -0.301318  1.000000 -0.267381   -0.105124 -0.201152 -0.068699   \n",
       "clutter      -0.009329 -0.267381  1.000000   -0.486573 -0.426228 -0.296263   \n",
       "vegetation    0.015609 -0.105124 -0.486573    1.000000  0.409673  0.412089   \n",
       "building      0.152704 -0.201152 -0.426228    0.409673  1.000000  0.104566   \n",
       "tree         -0.129018 -0.068699 -0.296263    0.412089  0.104566  1.000000   \n",
       "boat         -0.367842  0.425553 -0.048236   -0.168181 -0.054825 -0.085748   \n",
       "car           0.133546 -0.159502 -0.246978    0.291117  0.523324  0.023561   \n",
       "\n",
       "                boat       car  \n",
       "impervious -0.367842  0.133546  \n",
       "water       0.425553 -0.159502  \n",
       "clutter    -0.048236 -0.246978  \n",
       "vegetation -0.168181  0.291117  \n",
       "building   -0.054825  0.523324  \n",
       "tree       -0.085748  0.023561  \n",
       "boat        1.000000 -0.005267  \n",
       "car        -0.005267  1.000000  "
      ]
     },
     "execution_count": 17,
     "metadata": {},
     "output_type": "execute_result"
    }
   ],
   "source": [
    "just_labels_df = multilabel_df.drop([\"image\\\\label\", \"total_label_count\", \"in_train\"], axis=1)\n",
    "just_labels_df.corr()"
   ]
  },
  {
   "cell_type": "code",
   "execution_count": 18,
   "metadata": {
    "ExecuteTime": {
     "end_time": "2020-05-07T16:54:18.119508Z",
     "start_time": "2020-05-07T16:54:17.806860Z"
    }
   },
   "outputs": [
    {
     "data": {
      "image/png": "[encoded data removed]",
      "text/plain": [
       "<Figure size 576x576 with 2 Axes>"
      ]
     },
     "metadata": {
      "needs_background": "light"
     },
     "output_type": "display_data"
    }
   ],
   "source": [
    "fig, ax = plt.subplots(figsize=(8, 8))\n",
    "\n",
    "ax.xaxis.tick_top()\n",
    "im = ax.imshow(just_labels_df.corr())\n",
    "plt.xticks(ticks=np.arange(just_labels_df.shape[1]), labels=just_labels_df.columns)\n",
    "plt.yticks(ticks=np.arange(just_labels_df.shape[1]), labels=just_labels_df.columns)\n",
    "\n",
    "cbar = ax.figure.colorbar(im, ax=ax)\n",
    "cbar.ax.set_ylabel(\"Pearson Correlation Coef.\", rotation=-90, va=\"bottom\")\n",
    "\n",
    "plt.title(\"Labels Correlation Plot\")\n",
    "\n",
    "plt.show()"
   ]
  },
  {
   "cell_type": "markdown",
   "metadata": {},
   "source": [
    "## Cluster Analysis"
   ]
  },
  {
   "cell_type": "code",
   "execution_count": 111,
   "metadata": {
    "ExecuteTime": {
     "end_time": "2020-05-07T18:13:50.882026Z",
     "start_time": "2020-05-07T18:13:50.872834Z"
    }
   },
   "outputs": [],
   "source": [
    "total_unique_subsets = multilabel_df.drop([\"image\\\\label\", \"in_train\", \"total_label_count\"], axis=1).drop_duplicates().values"
   ]
  },
  {
   "cell_type": "markdown",
   "metadata": {},
   "source": [
    "### Total Number of Unique Subsets"
   ]
  },
  {
   "cell_type": "code",
   "execution_count": 112,
   "metadata": {
    "ExecuteTime": {
     "end_time": "2020-05-07T18:14:10.977954Z",
     "start_time": "2020-05-07T18:14:10.974029Z"
    }
   },
   "outputs": [
    {
     "name": "stdout",
     "output_type": "stream",
     "text": [
      "Number of unique subsets in whole dataset: 65\n"
     ]
    }
   ],
   "source": [
    "len(total_unique_subsets)\n",
    "print(f\"Number of unique subsets in whole dataset: {len(total_unique_subsets)}\")"
   ]
  },
  {
   "cell_type": "markdown",
   "metadata": {},
   "source": [
    "### Total Number of Unique Subsets in Train Set"
   ]
  },
  {
   "cell_type": "code",
   "execution_count": 103,
   "metadata": {
    "ExecuteTime": {
     "end_time": "2020-05-07T18:08:41.217352Z",
     "start_time": "2020-05-07T18:08:41.198174Z"
    }
   },
   "outputs": [],
   "source": [
    "training_clusters = multilabel_df[multilabel_df[\"in_train\"] == 1] \\\n",
    "    .drop([\"image\\\\label\", \"in_train\", \"total_label_count\"], axis=1).drop_duplicates().values"
   ]
  },
  {
   "cell_type": "code",
   "execution_count": 110,
   "metadata": {
    "ExecuteTime": {
     "end_time": "2020-05-07T18:10:33.660211Z",
     "start_time": "2020-05-07T18:10:33.652771Z"
    }
   },
   "outputs": [
    {
     "name": "stdout",
     "output_type": "stream",
     "text": [
      "Number of unique subsets in train set: 64\n"
     ]
    }
   ],
   "source": [
    "print(f\"Number of unique subsets in train set: {len(training_clusters)}\")"
   ]
  },
  {
   "cell_type": "markdown",
   "metadata": {},
   "source": [
    "### Total Number of Subsets Do Not Exist in Train Set"
   ]
  },
  {
   "cell_type": "code",
   "execution_count": 105,
   "metadata": {
    "ExecuteTime": {
     "end_time": "2020-05-07T18:08:56.635615Z",
     "start_time": "2020-05-07T18:08:56.632426Z"
    }
   },
   "outputs": [
    {
     "name": "stdout",
     "output_type": "stream",
     "text": [
      "Number of subsets which do not exist in train set:     1\n"
     ]
    }
   ],
   "source": [
    "print(f\"Number of subsets which do not exist in train set: \\\n",
    "    {len(set(map(tuple, total_unique_subsets)) - set(map(tuple, training_clusters)))}\")"
   ]
  },
  {
   "cell_type": "markdown",
   "metadata": {},
   "source": [
    "### Total Number of Unique Subsets in Test Set"
   ]
  },
  {
   "cell_type": "code",
   "execution_count": 106,
   "metadata": {
    "ExecuteTime": {
     "end_time": "2020-05-07T18:09:15.203031Z",
     "start_time": "2020-05-07T18:09:15.191625Z"
    }
   },
   "outputs": [],
   "source": [
    "test_clusters = multilabel_df[multilabel_df[\"in_train\"] == 0] \\\n",
    "    .drop([\"image\\\\label\", \"in_train\", \"total_label_count\"], axis=1).drop_duplicates().values"
   ]
  },
  {
   "cell_type": "code",
   "execution_count": 109,
   "metadata": {
    "ExecuteTime": {
     "end_time": "2020-05-07T18:10:17.119436Z",
     "start_time": "2020-05-07T18:10:17.114370Z"
    }
   },
   "outputs": [
    {
     "name": "stdout",
     "output_type": "stream",
     "text": [
      "Number of unique subsets in test set: 50\n"
     ]
    }
   ],
   "source": [
    "print(f\"Number of unique subsets in test set: {len(test_clusters)}\")"
   ]
  },
  {
   "cell_type": "markdown",
   "metadata": {},
   "source": [
    "### Total Number of Subsets Do Not Exist in Test Set"
   ]
  },
  {
   "cell_type": "code",
   "execution_count": 108,
   "metadata": {
    "ExecuteTime": {
     "end_time": "2020-05-07T18:09:30.621974Z",
     "start_time": "2020-05-07T18:09:30.619095Z"
    }
   },
   "outputs": [
    {
     "name": "stdout",
     "output_type": "stream",
     "text": [
      "Number of subsets which do not exist in test set:     15\n"
     ]
    }
   ],
   "source": [
    "print(f\"Number of subsets which do not exist in test set: \\\n",
    "    {len(set(map(tuple, total_unique_subsets)) - set(map(tuple, test_clusters)))}\")"
   ]
  },
  {
   "cell_type": "markdown",
   "metadata": {},
   "source": [
    "## Assigning Subsets to the Samples"
   ]
  },
  {
   "cell_type": "code",
   "execution_count": 123,
   "metadata": {
    "ExecuteTime": {
     "end_time": "2020-05-07T18:27:45.563967Z",
     "start_time": "2020-05-07T18:27:45.559131Z"
    }
   },
   "outputs": [
    {
     "data": {
      "text/plain": [
       "6"
      ]
     },
     "execution_count": 123,
     "metadata": {},
     "output_type": "execute_result"
    }
   ],
   "source": [
    "(total_unique_subsets == multilabel_df.drop([\"image\\\\label\", \"in_train\", \"total_label_count\"], axis=1).values[500]).all(axis=1).nonzero()[0][0]"
   ]
  },
  {
   "cell_type": "code",
   "execution_count": 138,
   "metadata": {
    "ExecuteTime": {
     "end_time": "2020-05-07T18:34:22.542233Z",
     "start_time": "2020-05-07T18:34:22.538972Z"
    }
   },
   "outputs": [
    {
     "data": {
      "text/plain": [
       "(65, 8)"
      ]
     },
     "execution_count": 138,
     "metadata": {},
     "output_type": "execute_result"
    }
   ],
   "source": [
    "total_unique_subsets.shape"
   ]
  },
  {
   "cell_type": "code",
   "execution_count": 141,
   "metadata": {
    "ExecuteTime": {
     "end_time": "2020-05-07T18:35:31.384606Z",
     "start_time": "2020-05-07T18:35:31.324544Z"
    }
   },
   "outputs": [],
   "source": [
    "multilabel_df[\"subset\"] = multilabel_df.drop([\"image\\\\label\", \"in_train\", \"total_label_count\"], axis=1).apply(lambda x: (x.values.reshape(1, -1) == total_unique_subsets).all(axis=1).nonzero()[0][0], axis=1)"
   ]
  },
  {
   "cell_type": "code",
   "execution_count": 143,
   "metadata": {
    "ExecuteTime": {
     "end_time": "2020-05-07T18:35:53.736379Z",
     "start_time": "2020-05-07T18:35:53.716921Z"
    }
   },
   "outputs": [
    {
     "data": {
      "text/html": [
       "<div>\n",
       "<style scoped>\n",
       "    .dataframe tbody tr th:only-of-type {\n",
       "        vertical-align: middle;\n",
       "    }\n",
       "\n",
       "    .dataframe tbody tr th {\n",
       "        vertical-align: top;\n",
       "    }\n",
       "\n",
       "    .dataframe thead th {\n",
       "        text-align: right;\n",
       "    }\n",
       "</style>\n",
       "<table border=\"1\" class=\"dataframe\">\n",
       "  <thead>\n",
       "    <tr style=\"text-align: right;\">\n",
       "      <th></th>\n",
       "      <th>image\\label</th>\n",
       "      <th>impervious</th>\n",
       "      <th>water</th>\n",
       "      <th>clutter</th>\n",
       "      <th>vegetation</th>\n",
       "      <th>building</th>\n",
       "      <th>tree</th>\n",
       "      <th>boat</th>\n",
       "      <th>car</th>\n",
       "      <th>in_train</th>\n",
       "      <th>total_label_count</th>\n",
       "      <th>subset</th>\n",
       "    </tr>\n",
       "  </thead>\n",
       "  <tbody>\n",
       "    <tr>\n",
       "      <th>818</th>\n",
       "      <td>819</td>\n",
       "      <td>1</td>\n",
       "      <td>0</td>\n",
       "      <td>1</td>\n",
       "      <td>0</td>\n",
       "      <td>1</td>\n",
       "      <td>0</td>\n",
       "      <td>0</td>\n",
       "      <td>0</td>\n",
       "      <td>1</td>\n",
       "      <td>3</td>\n",
       "      <td>3</td>\n",
       "    </tr>\n",
       "    <tr>\n",
       "      <th>2868</th>\n",
       "      <td>2869</td>\n",
       "      <td>1</td>\n",
       "      <td>0</td>\n",
       "      <td>1</td>\n",
       "      <td>1</td>\n",
       "      <td>0</td>\n",
       "      <td>0</td>\n",
       "      <td>0</td>\n",
       "      <td>1</td>\n",
       "      <td>0</td>\n",
       "      <td>4</td>\n",
       "      <td>11</td>\n",
       "    </tr>\n",
       "    <tr>\n",
       "      <th>1784</th>\n",
       "      <td>1785</td>\n",
       "      <td>1</td>\n",
       "      <td>1</td>\n",
       "      <td>0</td>\n",
       "      <td>0</td>\n",
       "      <td>0</td>\n",
       "      <td>0</td>\n",
       "      <td>0</td>\n",
       "      <td>0</td>\n",
       "      <td>1</td>\n",
       "      <td>2</td>\n",
       "      <td>0</td>\n",
       "    </tr>\n",
       "    <tr>\n",
       "      <th>1129</th>\n",
       "      <td>1130</td>\n",
       "      <td>1</td>\n",
       "      <td>0</td>\n",
       "      <td>1</td>\n",
       "      <td>0</td>\n",
       "      <td>0</td>\n",
       "      <td>0</td>\n",
       "      <td>0</td>\n",
       "      <td>0</td>\n",
       "      <td>0</td>\n",
       "      <td>2</td>\n",
       "      <td>6</td>\n",
       "    </tr>\n",
       "    <tr>\n",
       "      <th>813</th>\n",
       "      <td>814</td>\n",
       "      <td>1</td>\n",
       "      <td>0</td>\n",
       "      <td>1</td>\n",
       "      <td>1</td>\n",
       "      <td>0</td>\n",
       "      <td>0</td>\n",
       "      <td>0</td>\n",
       "      <td>0</td>\n",
       "      <td>0</td>\n",
       "      <td>3</td>\n",
       "      <td>8</td>\n",
       "    </tr>\n",
       "    <tr>\n",
       "      <th>3141</th>\n",
       "      <td>3142</td>\n",
       "      <td>1</td>\n",
       "      <td>0</td>\n",
       "      <td>0</td>\n",
       "      <td>1</td>\n",
       "      <td>0</td>\n",
       "      <td>1</td>\n",
       "      <td>0</td>\n",
       "      <td>0</td>\n",
       "      <td>1</td>\n",
       "      <td>3</td>\n",
       "      <td>54</td>\n",
       "    </tr>\n",
       "    <tr>\n",
       "      <th>43</th>\n",
       "      <td>44</td>\n",
       "      <td>1</td>\n",
       "      <td>0</td>\n",
       "      <td>1</td>\n",
       "      <td>0</td>\n",
       "      <td>0</td>\n",
       "      <td>0</td>\n",
       "      <td>0</td>\n",
       "      <td>0</td>\n",
       "      <td>1</td>\n",
       "      <td>2</td>\n",
       "      <td>6</td>\n",
       "    </tr>\n",
       "    <tr>\n",
       "      <th>379</th>\n",
       "      <td>380</td>\n",
       "      <td>1</td>\n",
       "      <td>0</td>\n",
       "      <td>1</td>\n",
       "      <td>0</td>\n",
       "      <td>0</td>\n",
       "      <td>0</td>\n",
       "      <td>0</td>\n",
       "      <td>0</td>\n",
       "      <td>1</td>\n",
       "      <td>2</td>\n",
       "      <td>6</td>\n",
       "    </tr>\n",
       "    <tr>\n",
       "      <th>1020</th>\n",
       "      <td>1021</td>\n",
       "      <td>1</td>\n",
       "      <td>1</td>\n",
       "      <td>0</td>\n",
       "      <td>0</td>\n",
       "      <td>0</td>\n",
       "      <td>0</td>\n",
       "      <td>0</td>\n",
       "      <td>0</td>\n",
       "      <td>1</td>\n",
       "      <td>2</td>\n",
       "      <td>0</td>\n",
       "    </tr>\n",
       "    <tr>\n",
       "      <th>1049</th>\n",
       "      <td>1050</td>\n",
       "      <td>1</td>\n",
       "      <td>1</td>\n",
       "      <td>0</td>\n",
       "      <td>0</td>\n",
       "      <td>0</td>\n",
       "      <td>0</td>\n",
       "      <td>0</td>\n",
       "      <td>0</td>\n",
       "      <td>1</td>\n",
       "      <td>2</td>\n",
       "      <td>0</td>\n",
       "    </tr>\n",
       "  </tbody>\n",
       "</table>\n",
       "</div>"
      ],
      "text/plain": [
       "      image\\label  impervious  water  clutter  vegetation  building  tree  \\\n",
       "818           819           1      0        1           0         1     0   \n",
       "2868         2869           1      0        1           1         0     0   \n",
       "1784         1785           1      1        0           0         0     0   \n",
       "1129         1130           1      0        1           0         0     0   \n",
       "813           814           1      0        1           1         0     0   \n",
       "3141         3142           1      0        0           1         0     1   \n",
       "43             44           1      0        1           0         0     0   \n",
       "379           380           1      0        1           0         0     0   \n",
       "1020         1021           1      1        0           0         0     0   \n",
       "1049         1050           1      1        0           0         0     0   \n",
       "\n",
       "      boat  car  in_train  total_label_count  subset  \n",
       "818      0    0         1                  3       3  \n",
       "2868     0    1         0                  4      11  \n",
       "1784     0    0         1                  2       0  \n",
       "1129     0    0         0                  2       6  \n",
       "813      0    0         0                  3       8  \n",
       "3141     0    0         1                  3      54  \n",
       "43       0    0         1                  2       6  \n",
       "379      0    0         1                  2       6  \n",
       "1020     0    0         1                  2       0  \n",
       "1049     0    0         1                  2       0  "
      ]
     },
     "execution_count": 143,
     "metadata": {},
     "output_type": "execute_result"
    }
   ],
   "source": [
    "multilabel_df.sample(10)"
   ]
  },
  {
   "cell_type": "markdown",
   "metadata": {},
   "source": [
    "### Subset Distribution in the Dataset"
   ]
  },
  {
   "cell_type": "code",
   "execution_count": 160,
   "metadata": {
    "ExecuteTime": {
     "end_time": "2020-05-07T18:57:42.908388Z",
     "start_time": "2020-05-07T18:57:42.227325Z"
    }
   },
   "outputs": [
    {
     "data": {
      "image/png": "[encoded data removed]",
      "text/plain": [
       "<Figure size 1080x576 with 1 Axes>"
      ]
     },
     "metadata": {
      "needs_background": "light"
     },
     "output_type": "display_data"
    }
   ],
   "source": [
    "subset_value_counts = multilabel_df[\"subset\"].value_counts()\n",
    "\n",
    "fig, ax = plt.subplots(figsize=(15, 8))\n",
    "\n",
    "#ax.bar(subset_val_counts.index, subset_val_counts.values, , color=matplotlib.cm.rainbow(np.linspace(0, 1, len(total_unique_subsets))))\n",
    "subset_value_counts.plot.bar(ax=ax, color=matplotlib.cm.rainbow(np.linspace(0, 1, len(total_unique_subsets))))\n",
    "\n",
    "rects = ax.patches\n",
    "labels = subset_value_counts.values\n",
    "for rect, label in zip(rects, labels):\n",
    "    height = rect.get_height()\n",
    "    ax.text(rect.get_x() + rect.get_width() / 2, height + 5, label, ha=\"center\", va=\"bottom\")\n",
    "plt.title(\"Label Counts Plot\", fontsize=18)\n",
    "plt.xlabel(\"Subset ID\", fontsize=16)\n",
    "plt.ylabel(\"Occurence Count\", fontsize=16)\n",
    "\n",
    "plt.show()"
   ]
  },
  {
   "cell_type": "markdown",
   "metadata": {},
   "source": [
    "### Subset Distribution in Train Set"
   ]
  },
  {
   "cell_type": "code",
   "execution_count": 161,
   "metadata": {
    "ExecuteTime": {
     "end_time": "2020-05-07T18:58:09.541575Z",
     "start_time": "2020-05-07T18:58:08.868407Z"
    }
   },
   "outputs": [
    {
     "data": {
      "image/png": "[encoded data removed]",
      "text/plain": [
       "<Figure size 1080x576 with 1 Axes>"
      ]
     },
     "metadata": {
      "needs_background": "light"
     },
     "output_type": "display_data"
    }
   ],
   "source": [
    "subset_value_counts = multilabel_df[multilabel_df[\"in_train\"] == 1][\"subset\"].value_counts()\n",
    "\n",
    "fig, ax = plt.subplots(figsize=(15, 8))\n",
    "\n",
    "#ax.bar(subset_val_counts.index, subset_val_counts.values, , color=matplotlib.cm.rainbow(np.linspace(0, 1, len(total_unique_subsets))))\n",
    "subset_value_counts.plot.bar(ax=ax, color=matplotlib.cm.rainbow(np.linspace(0, 1, len(total_unique_subsets))))\n",
    "\n",
    "rects = ax.patches\n",
    "labels = subset_value_counts.values\n",
    "for rect, label in zip(rects, labels):\n",
    "    height = rect.get_height()\n",
    "    ax.text(rect.get_x() + rect.get_width() / 2, height + 5, label, ha=\"center\", va=\"bottom\")\n",
    "plt.title(\"Label Counts Plot\", fontsize=18)\n",
    "plt.xlabel(\"Subset ID\", fontsize=16)\n",
    "plt.ylabel(\"Occurence Count\", fontsize=16)\n",
    "\n",
    "plt.show()"
   ]
  },
  {
   "cell_type": "markdown",
   "metadata": {},
   "source": [
    "### Subset Distribution in Test Set"
   ]
  },
  {
   "cell_type": "code",
   "execution_count": 162,
   "metadata": {
    "ExecuteTime": {
     "end_time": "2020-05-07T18:58:24.278070Z",
     "start_time": "2020-05-07T18:58:23.805375Z"
    }
   },
   "outputs": [
    {
     "data": {
      "image/png": "[encoded data removed]",
      "text/plain": [
       "<Figure size 1080x576 with 1 Axes>"
      ]
     },
     "metadata": {
      "needs_background": "light"
     },
     "output_type": "display_data"
    }
   ],
   "source": [
    "subset_value_counts = multilabel_df[multilabel_df[\"in_train\"] == 0][\"subset\"].value_counts()\n",
    "\n",
    "fig, ax = plt.subplots(figsize=(15, 8))\n",
    "\n",
    "#ax.bar(subset_val_counts.index, subset_val_counts.values, , color=matplotlib.cm.rainbow(np.linspace(0, 1, len(total_unique_subsets))))\n",
    "subset_value_counts.plot.bar(ax=ax, color=matplotlib.cm.rainbow(np.linspace(0, 1, len(total_unique_subsets))))\n",
    "\n",
    "rects = ax.patches\n",
    "labels = subset_value_counts.values\n",
    "for rect, label in zip(rects, labels):\n",
    "    height = rect.get_height()\n",
    "    ax.text(rect.get_x() + rect.get_width() / 2, height + 5, label, ha=\"center\", va=\"bottom\")\n",
    "plt.title(\"Label Counts Plot\", fontsize=18)\n",
    "plt.xlabel(\"Subset ID\", fontsize=16)\n",
    "plt.ylabel(\"Occurence Count\", fontsize=16)\n",
    "\n",
    "plt.show()"
   ]
  },
  {
   "cell_type": "markdown",
   "metadata": {},
   "source": [
    "# Feature Extraction"
   ]
  },
  {
   "cell_type": "code",
   "execution_count": 19,
   "metadata": {
    "ExecuteTime": {
     "end_time": "2020-05-07T16:54:19.023806Z",
     "start_time": "2020-05-07T16:54:18.120775Z"
    }
   },
   "outputs": [],
   "source": [
    "vgg16_network = VGG16(include_top=False,\n",
    "                      weights='imagenet',\n",
    "                      input_shape=(224, 224, 3),\n",
    "                      pooling=None)"
   ]
  },
  {
   "cell_type": "code",
   "execution_count": 20,
   "metadata": {
    "ExecuteTime": {
     "end_time": "2020-05-07T16:54:50.591430Z",
     "start_time": "2020-05-07T16:54:19.025141Z"
    }
   },
   "outputs": [],
   "source": [
    "resized_raw_train_images = list()\n",
    "resized_raw_train_labels = list()\n",
    "\n",
    "for raw_image_file in glob.glob(os.path.join(TRAIN_IMAGES_PATH, \"*.png\")):\n",
    "    raw_img = cv2.imread(raw_image_file)\n",
    "    raw_img = cv2.cvtColor(raw_img, cv2.COLOR_BGR2RGB)\n",
    "    \n",
    "    resized_raw_img = cv2.resize(raw_img, (224, 224))\n",
    "    \n",
    "    resized_raw_train_images.append(resized_raw_img)\n",
    "    resized_raw_train_labels.append(os.path.basename(raw_image_file).split(\".\")[0])"
   ]
  },
  {
   "cell_type": "code",
   "execution_count": 21,
   "metadata": {
    "ExecuteTime": {
     "end_time": "2020-05-07T16:54:50.666006Z",
     "start_time": "2020-05-07T16:54:50.592663Z"
    }
   },
   "outputs": [],
   "source": [
    "preprediction_images = np.array(resized_raw_train_images)"
   ]
  },
  {
   "cell_type": "code",
   "execution_count": 22,
   "metadata": {
    "ExecuteTime": {
     "end_time": "2020-05-07T16:54:50.695042Z",
     "start_time": "2020-05-07T16:54:50.667351Z"
    }
   },
   "outputs": [
    {
     "data": {
      "text/plain": [
       "(2673, 224, 224, 3)"
      ]
     },
     "execution_count": 22,
     "metadata": {},
     "output_type": "execute_result"
    }
   ],
   "source": [
    "preprediction_images.shape"
   ]
  },
  {
   "cell_type": "code",
   "execution_count": 23,
   "metadata": {
    "ExecuteTime": {
     "end_time": "2020-05-07T16:55:02.145344Z",
     "start_time": "2020-05-07T16:54:50.701293Z"
    }
   },
   "outputs": [],
   "source": [
    "postprediction_features = vgg16_network.predict(preprediction_images)"
   ]
  },
  {
   "cell_type": "code",
   "execution_count": 24,
   "metadata": {
    "ExecuteTime": {
     "end_time": "2020-05-07T16:55:02.153015Z",
     "start_time": "2020-05-07T16:55:02.149339Z"
    }
   },
   "outputs": [
    {
     "data": {
      "text/plain": [
       "(2673, 7, 7, 512)"
      ]
     },
     "execution_count": 24,
     "metadata": {},
     "output_type": "execute_result"
    }
   ],
   "source": [
    "postprediction_features.shape"
   ]
  },
  {
   "cell_type": "code",
   "execution_count": 25,
   "metadata": {
    "ExecuteTime": {
     "end_time": "2020-05-07T16:55:02.259498Z",
     "start_time": "2020-05-07T16:55:02.154259Z"
    }
   },
   "outputs": [],
   "source": [
    "flattened_postprediction_features = postprediction_features.reshape(postprediction_features.shape[0], -1)"
   ]
  },
  {
   "cell_type": "code",
   "execution_count": 26,
   "metadata": {
    "ExecuteTime": {
     "end_time": "2020-05-07T16:55:05.143194Z",
     "start_time": "2020-05-07T16:55:02.260754Z"
    }
   },
   "outputs": [],
   "source": [
    "citf_vector = list()\n",
    "for flattened_postprediction_feature, image_id in zip(flattened_postprediction_features, resized_raw_train_labels):\n",
    "    filtered_idx = multilabel_df[\"image\\\\label\"] == int(image_id)\n",
    "    tags = multilabel_df[filtered_idx].drop([\"image\\\\label\", \"in_train\", \"total_label_count\"], axis=1).values[0]\n",
    "    \n",
    "    citf_vector.append(np.concatenate((flattened_postprediction_feature, tags)))\n",
    "\n",
    "citf_vector = np.array(citf_vector)"
   ]
  },
  {
   "cell_type": "code",
   "execution_count": 27,
   "metadata": {
    "ExecuteTime": {
     "end_time": "2020-05-07T16:55:05.147856Z",
     "start_time": "2020-05-07T16:55:05.144569Z"
    }
   },
   "outputs": [
    {
     "data": {
      "text/plain": [
       "(2673, 25088)"
      ]
     },
     "execution_count": 27,
     "metadata": {},
     "output_type": "execute_result"
    }
   ],
   "source": [
    "flattened_postprediction_features.shape"
   ]
  },
  {
   "cell_type": "code",
   "execution_count": 28,
   "metadata": {
    "ExecuteTime": {
     "end_time": "2020-05-07T16:55:05.260265Z",
     "start_time": "2020-05-07T16:55:05.148974Z"
    }
   },
   "outputs": [
    {
     "data": {
      "text/plain": [
       "(2673, 25096)"
      ]
     },
     "execution_count": 28,
     "metadata": {},
     "output_type": "execute_result"
    }
   ],
   "source": [
    "citf_vector.shape"
   ]
  },
  {
   "cell_type": "markdown",
   "metadata": {},
   "source": [
    "# Clustering"
   ]
  },
  {
   "cell_type": "code",
   "execution_count": 45,
   "metadata": {
    "ExecuteTime": {
     "end_time": "2020-05-07T17:02:53.586537Z",
     "start_time": "2020-05-07T17:02:53.492807Z"
    }
   },
   "outputs": [],
   "source": [
    "som = MiniSom(16, 16, citf_vector.shape[1],\n",
    "              sigma=3.0,\n",
    "              learning_rate=0.7,\n",
    "              topology=\"rectangular\",\n",
    "              activation_distance=\"cosine\")"
   ]
  },
  {
   "cell_type": "code",
   "execution_count": 46,
   "metadata": {
    "ExecuteTime": {
     "end_time": "2020-05-07T17:03:00.203022Z",
     "start_time": "2020-05-07T17:03:00.190480Z"
    }
   },
   "outputs": [],
   "source": [
    "som.random_weights_init(citf_vector)"
   ]
  },
  {
   "cell_type": "code",
   "execution_count": 47,
   "metadata": {
    "ExecuteTime": {
     "end_time": "2020-05-07T17:04:15.286451Z",
     "start_time": "2020-05-07T17:03:13.191325Z"
    }
   },
   "outputs": [
    {
     "name": "stdout",
     "output_type": "stream",
     "text": [
      " [ 1000 / 1000 ] 100% - 0:00:00 left \n",
      " quantization error: 1133.9547751291316\n"
     ]
    }
   ],
   "source": [
    "som.train_random(citf_vector, 1000, verbose=True)"
   ]
  },
  {
   "cell_type": "markdown",
   "metadata": {},
   "source": [
    "# Scoring\n",
    "\n",
    "## With Train Set\n",
    "**Threshold = 0.5**"
   ]
  },
  {
   "cell_type": "code",
   "execution_count": 48,
   "metadata": {
    "ExecuteTime": {
     "end_time": "2020-05-07T10:54:31.876106Z",
     "start_time": "2020-05-07T10:53:12.055243Z"
    }
   },
   "outputs": [],
   "source": [
    "y_pred = list()\n",
    "for x in citf_vector:\n",
    "    winner_coords = som.winner(x)\n",
    "    y_pred.append(som.get_weights()[winner_coords][-8:])\n",
    "y_pred = np.array(y_pred)"
   ]
  },
  {
   "cell_type": "code",
   "execution_count": 53,
   "metadata": {
    "ExecuteTime": {
     "end_time": "2020-05-07T10:55:13.700772Z",
     "start_time": "2020-05-07T10:55:13.697373Z"
    }
   },
   "outputs": [
    {
     "data": {
      "text/plain": [
       "(2673, 8)"
      ]
     },
     "execution_count": 53,
     "metadata": {},
     "output_type": "execute_result"
    }
   ],
   "source": [
    "y_pred.shape"
   ]
  },
  {
   "cell_type": "code",
   "execution_count": 50,
   "metadata": {
    "ExecuteTime": {
     "end_time": "2020-05-07T10:54:33.770550Z",
     "start_time": "2020-05-07T10:54:33.674460Z"
    }
   },
   "outputs": [
    {
     "data": {
      "text/plain": [
       "(2673, 8)"
      ]
     },
     "execution_count": 50,
     "metadata": {},
     "output_type": "execute_result"
    }
   ],
   "source": [
    "y_test = citf_vector[:, -8:]\n",
    "y_test.shape"
   ]
  },
  {
   "cell_type": "code",
   "execution_count": 56,
   "metadata": {
    "ExecuteTime": {
     "end_time": "2020-05-07T10:56:13.632568Z",
     "start_time": "2020-05-07T10:56:13.616788Z"
    }
   },
   "outputs": [],
   "source": [
    "y_pred_tresholded = (y_pred >= 0.5).astype(int)"
   ]
  },
  {
   "cell_type": "code",
   "execution_count": 70,
   "metadata": {
    "ExecuteTime": {
     "end_time": "2020-05-07T11:12:54.517665Z",
     "start_time": "2020-05-07T11:12:54.479022Z"
    },
    "scrolled": false
   },
   "outputs": [
    {
     "name": "stdout",
     "output_type": "stream",
     "text": [
      "              precision    recall  f1-score   support\n",
      "\n",
      "  impervious       0.94      1.00      0.97      2516\n",
      "       water       0.69      0.59      0.64       791\n",
      "     clutter       0.87      0.66      0.75      1508\n",
      "  vegetation       0.67      0.59      0.63       867\n",
      "    building       0.76      0.55      0.64       797\n",
      "        tree       0.00      0.00      0.00       201\n",
      "        boat       0.00      0.00      0.00       216\n",
      "         car       0.54      0.61      0.57       554\n",
      "\n",
      "   micro avg       0.81      0.71      0.76      7450\n",
      "   macro avg       0.56      0.50      0.52      7450\n",
      "weighted avg       0.77      0.71      0.73      7450\n",
      " samples avg       0.84      0.75      0.77      7450\n",
      "\n"
     ]
    },
    {
     "name": "stderr",
     "output_type": "stream",
     "text": [
      "/opt/conda/lib/python3.7/site-packages/sklearn/metrics/_classification.py:1272: UndefinedMetricWarning: Precision and F-score are ill-defined and being set to 0.0 in labels with no predicted samples. Use `zero_division` parameter to control this behavior.\n",
      "  _warn_prf(average, modifier, msg_start, len(result))\n"
     ]
    }
   ],
   "source": [
    "labels = multilabel_df.drop([\"image\\\\label\", \"in_train\", \"total_label_count\"], axis=1).columns\n",
    "print(classification_report(y_test, y_pred_tresholded, target_names=labels))"
   ]
  },
  {
   "cell_type": "code",
   "execution_count": 84,
   "metadata": {
    "ExecuteTime": {
     "end_time": "2020-05-07T11:32:58.425813Z",
     "start_time": "2020-05-07T11:32:58.163955Z"
    },
    "scrolled": false
   },
   "outputs": [
    {
     "data": {
      "image/png": "[encoded data removed]",
      "text/plain": [
       "<Figure size 1080x576 with 1 Axes>"
      ]
     },
     "metadata": {
      "needs_background": "light"
     },
     "output_type": "display_data"
    }
   ],
   "source": [
    "fig, ax = plt.subplots(figsize=(15, 8))\n",
    "for i in range(len(labels)):\n",
    "    fpr, tpr, thresholds = roc_curve(y_test[:, i], y_pred[:, i])\n",
    "    auc = roc_auc_score(y_test[:, i], y_pred[:, i])\n",
    "    ax.plot(fpr, tpr, label=labels[i] + f\" (AUC: {auc:.2f})\")\n",
    "\n",
    "plt.xlabel(\"FPR\")\n",
    "plt.ylabel(\"TPR\")\n",
    "plt.title(\"ROC Curve\")\n",
    "plt.legend()\n",
    "plt.show()"
   ]
  },
  {
   "cell_type": "markdown",
   "metadata": {},
   "source": [
    "## With Test Set"
   ]
  },
  {
   "cell_type": "code",
   "execution_count": 48,
   "metadata": {
    "ExecuteTime": {
     "end_time": "2020-05-07T17:04:29.725825Z",
     "start_time": "2020-05-07T17:04:21.876912Z"
    }
   },
   "outputs": [],
   "source": [
    "resized_raw_test_images = list()\n",
    "resized_raw_test_labels = list()\n",
    "\n",
    "for raw_image_file in glob.glob(os.path.join(TEST_IMAGES_PATH, \"*.png\")):\n",
    "    raw_img = cv2.imread(raw_image_file)\n",
    "    raw_img = cv2.cvtColor(raw_img, cv2.COLOR_BGR2RGB)\n",
    "    \n",
    "    resized_raw_img = cv2.resize(raw_img, (224, 224))\n",
    "    \n",
    "    resized_raw_test_images.append(resized_raw_img)\n",
    "    resized_raw_test_labels.append(os.path.basename(raw_image_file).split(\".\")[0])"
   ]
  },
  {
   "cell_type": "code",
   "execution_count": 49,
   "metadata": {
    "ExecuteTime": {
     "end_time": "2020-05-07T17:04:36.326468Z",
     "start_time": "2020-05-07T17:04:36.305924Z"
    }
   },
   "outputs": [],
   "source": [
    "preprediction_images_test = np.array(resized_raw_test_images)"
   ]
  },
  {
   "cell_type": "code",
   "execution_count": 50,
   "metadata": {
    "ExecuteTime": {
     "end_time": "2020-05-07T17:04:42.904840Z",
     "start_time": "2020-05-07T17:04:42.899115Z"
    }
   },
   "outputs": [
    {
     "data": {
      "text/plain": [
       "(669, 224, 224, 3)"
      ]
     },
     "execution_count": 50,
     "metadata": {},
     "output_type": "execute_result"
    }
   ],
   "source": [
    "preprediction_images_test.shape"
   ]
  },
  {
   "cell_type": "code",
   "execution_count": 51,
   "metadata": {
    "ExecuteTime": {
     "end_time": "2020-05-07T17:04:51.759253Z",
     "start_time": "2020-05-07T17:04:49.495745Z"
    }
   },
   "outputs": [],
   "source": [
    "postprediction_features_test = vgg16_network.predict(preprediction_images_test)"
   ]
  },
  {
   "cell_type": "code",
   "execution_count": 52,
   "metadata": {
    "ExecuteTime": {
     "end_time": "2020-05-07T17:04:58.363004Z",
     "start_time": "2020-05-07T17:04:58.359943Z"
    }
   },
   "outputs": [
    {
     "data": {
      "text/plain": [
       "(669, 7, 7, 512)"
      ]
     },
     "execution_count": 52,
     "metadata": {},
     "output_type": "execute_result"
    }
   ],
   "source": [
    "postprediction_features_test.shape"
   ]
  },
  {
   "cell_type": "code",
   "execution_count": 53,
   "metadata": {
    "ExecuteTime": {
     "end_time": "2020-05-07T17:05:04.990450Z",
     "start_time": "2020-05-07T17:05:04.987798Z"
    }
   },
   "outputs": [],
   "source": [
    "flattened_postprediction_features_test = postprediction_features_test.reshape(postprediction_features_test.shape[0], -1)"
   ]
  },
  {
   "cell_type": "code",
   "execution_count": 54,
   "metadata": {
    "ExecuteTime": {
     "end_time": "2020-05-07T17:05:12.399964Z",
     "start_time": "2020-05-07T17:05:11.692310Z"
    }
   },
   "outputs": [],
   "source": [
    "citf_vector_test = list()\n",
    "y_test = list()\n",
    "for flattened_postprediction_feature, image_id in zip(flattened_postprediction_features_test, resized_raw_test_labels):\n",
    "    filtered_idx = multilabel_df[\"image\\\\label\"] == int(image_id)\n",
    "    tags = multilabel_df[filtered_idx].drop([\"image\\\\label\", \"in_train\", \"total_label_count\"], axis=1).values[0]\n",
    "    y_test.append(tags)\n",
    "    \n",
    "    citf_vector_test.append(np.concatenate((flattened_postprediction_feature, np.zeros_like(tags))))\n",
    "\n",
    "citf_vector_test = np.array(citf_vector_test)\n",
    "y_test = np.array(y_test)"
   ]
  },
  {
   "cell_type": "code",
   "execution_count": 55,
   "metadata": {
    "ExecuteTime": {
     "end_time": "2020-05-07T17:05:36.870293Z",
     "start_time": "2020-05-07T17:05:19.137234Z"
    }
   },
   "outputs": [],
   "source": [
    "y_pred = list()\n",
    "for x in citf_vector_test:\n",
    "    winner_coords = som.winner(x)\n",
    "    y_pred.append(som.get_weights()[winner_coords][-8:])\n",
    "y_pred = np.array(y_pred)"
   ]
  },
  {
   "cell_type": "code",
   "execution_count": 56,
   "metadata": {
    "ExecuteTime": {
     "end_time": "2020-05-07T17:05:43.452711Z",
     "start_time": "2020-05-07T17:05:43.449653Z"
    }
   },
   "outputs": [
    {
     "data": {
      "text/plain": [
       "(669, 8)"
      ]
     },
     "execution_count": 56,
     "metadata": {},
     "output_type": "execute_result"
    }
   ],
   "source": [
    "y_pred.shape"
   ]
  },
  {
   "cell_type": "code",
   "execution_count": 57,
   "metadata": {
    "ExecuteTime": {
     "end_time": "2020-05-07T17:05:50.084496Z",
     "start_time": "2020-05-07T17:05:50.081380Z"
    }
   },
   "outputs": [
    {
     "data": {
      "text/plain": [
       "(669, 8)"
      ]
     },
     "execution_count": 57,
     "metadata": {},
     "output_type": "execute_result"
    }
   ],
   "source": [
    "#y_test = citf_vector_test[:, -8:]\n",
    "y_test.shape"
   ]
  },
  {
   "cell_type": "code",
   "execution_count": 58,
   "metadata": {
    "ExecuteTime": {
     "end_time": "2020-05-07T17:05:56.705429Z",
     "start_time": "2020-05-07T17:05:56.702980Z"
    }
   },
   "outputs": [],
   "source": [
    "y_pred_tresholded = (y_pred >= 0.5).astype(int)"
   ]
  },
  {
   "cell_type": "code",
   "execution_count": 59,
   "metadata": {
    "ExecuteTime": {
     "end_time": "2020-05-07T17:06:03.329940Z",
     "start_time": "2020-05-07T17:06:03.315417Z"
    },
    "scrolled": false
   },
   "outputs": [
    {
     "name": "stdout",
     "output_type": "stream",
     "text": [
      "              precision    recall  f1-score   support\n",
      "\n",
      "  impervious       0.92      1.00      0.96       617\n",
      "       water       0.78      0.62      0.69       207\n",
      "     clutter       0.84      0.77      0.80       383\n",
      "  vegetation       0.71      0.41      0.52       219\n",
      "    building       0.79      0.43      0.55       204\n",
      "        tree       0.00      0.00      0.00        57\n",
      "        boat       0.91      0.19      0.31        54\n",
      "         car       0.63      0.08      0.14       151\n",
      "\n",
      "   micro avg       0.85      0.65      0.74      1892\n",
      "   macro avg       0.70      0.44      0.50      1892\n",
      "weighted avg       0.80      0.65      0.69      1892\n",
      " samples avg       0.87      0.71      0.76      1892\n",
      "\n"
     ]
    },
    {
     "name": "stderr",
     "output_type": "stream",
     "text": [
      "/opt/conda/lib/python3.7/site-packages/sklearn/metrics/_classification.py:1272: UndefinedMetricWarning: Precision and F-score are ill-defined and being set to 0.0 in labels with no predicted samples. Use `zero_division` parameter to control this behavior.\n",
      "  _warn_prf(average, modifier, msg_start, len(result))\n"
     ]
    }
   ],
   "source": [
    "labels = multilabel_df.drop([\"image\\\\label\", \"in_train\", \"total_label_count\"], axis=1).columns\n",
    "print(classification_report(y_test, y_pred_tresholded, target_names=labels))"
   ]
  },
  {
   "cell_type": "code",
   "execution_count": 60,
   "metadata": {
    "ExecuteTime": {
     "end_time": "2020-05-07T17:06:10.143530Z",
     "start_time": "2020-05-07T17:06:09.942596Z"
    },
    "scrolled": false
   },
   "outputs": [
    {
     "data": {
      "image/png": "[encoded data removed]",
      "text/plain": [
       "<Figure size 1080x576 with 1 Axes>"
      ]
     },
     "metadata": {
      "needs_background": "light"
     },
     "output_type": "display_data"
    }
   ],
   "source": [
    "fig, ax = plt.subplots(figsize=(15, 8))\n",
    "for i in range(len(labels)):\n",
    "    fpr, tpr, thresholds = roc_curve(y_test[:, i], y_pred[:, i])\n",
    "    auc = roc_auc_score(y_test[:, i], y_pred[:, i])\n",
    "    ax.plot(fpr, tpr, label=labels[i] + f\" (AUC: {auc:.2f})\")\n",
    "\n",
    "plt.xlabel(\"FPR\")\n",
    "plt.ylabel(\"TPR\")\n",
    "plt.title(\"ROC Curve\")\n",
    "plt.legend()\n",
    "plt.show()"
   ]
  }
 ],
 "metadata": {
  "kernelspec": {
   "display_name": "Python 3",
   "language": "python",
   "name": "python3"
  },
  "language_info": {
   "codemirror_mode": {
    "name": "ipython",
    "version": 3
   },
   "file_extension": ".py",
   "mimetype": "text/x-python",
   "name": "python",
   "nbconvert_exporter": "python",
   "pygments_lexer": "ipython3",
   "version": "3.7.6"
  },
  "toc": {
   "base_numbering": 1,
   "nav_menu": {},
   "number_sections": true,
   "sideBar": true,
   "skip_h1_title": false,
   "title_cell": "Table of Contents",
   "title_sidebar": "Contents",
   "toc_cell": false,
   "toc_position": {},
   "toc_section_display": true,
   "toc_window_display": true
  },
  "varInspector": {
   "cols": {
    "lenName": 16,
    "lenType": 16,
    "lenVar": 40
   },
   "kernels_config": {
    "python": {
     "delete_cmd_postfix": "",
     "delete_cmd_prefix": "del ",
     "library": "var_list.py",
     "varRefreshCmd": "print(var_dic_list())"
    },
    "r": {
     "delete_cmd_postfix": ") ",
     "delete_cmd_prefix": "rm(",
     "library": "var_list.r",
     "varRefreshCmd": "cat(var_dic_list()) "
    }
   },
   "position": {
    "height": "766.85px",
    "left": "1550px",
    "right": "20px",
    "top": "120px",
    "width": "350px"
   },
   "types_to_exclude": [
    "module",
    "function",
    "builtin_function_or_method",
    "instance",
    "_Feature"
   ],
   "window_display": true
  }
 },
 "nbformat": 4,
 "nbformat_minor": 4
}
