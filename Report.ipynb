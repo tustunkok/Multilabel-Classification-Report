{
 "cells": [
  {
   "cell_type": "markdown",
   "metadata": {},
   "source": [
    "# Imports"
   ]
  },
  {
   "cell_type": "code",
   "execution_count": 31,
   "metadata": {
    "ExecuteTime": {
     "end_time": "2020-05-07T10:41:09.709232Z",
     "start_time": "2020-05-07T10:41:09.701330Z"
    }
   },
   "outputs": [],
   "source": [
    "import os\n",
    "import cv2\n",
    "import glob\n",
    "import matplotlib\n",
    "import numpy as np\n",
    "import pandas as pd\n",
    "import matplotlib.pyplot as plt\n",
    "\n",
    "from minisom import MiniSom\n",
    "from sklearn.metrics import classification_report\n",
    "from tensorflow.keras.applications.vgg16 import VGG16"
   ]
  },
  {
   "cell_type": "markdown",
   "metadata": {},
   "source": [
    "# Dataset Summary\n",
    "\n",
    "**Name:** DFC15_multilabel"
   ]
  },
  {
   "cell_type": "code",
   "execution_count": 2,
   "metadata": {
    "ExecuteTime": {
     "end_time": "2020-05-07T10:22:17.363007Z",
     "start_time": "2020-05-07T10:22:17.353698Z"
    }
   },
   "outputs": [
    {
     "name": "stdout",
     "output_type": "stream",
     "text": [
      "Dataset in /home/jovyan/work/data/DFC15_multilabel\n",
      "Contents of dataset dir is ['images_tr', 'images_test', 'multilabel.csv', 'multilabel.mat']\n"
     ]
    }
   ],
   "source": [
    "BASE_DATA_DIR = \"/home/jovyan/work/data/\"\n",
    "DATASET_DIR = \"DFC15_multilabel\"\n",
    "FULL_DATASET_DIR = os.path.join(BASE_DATA_DIR, DATASET_DIR)\n",
    "TRAIN_IMAGES_PATH = os.path.join(FULL_DATASET_DIR, \"images_tr\")\n",
    "TEST_IMAGES_PATH = os.path.join(FULL_DATASET_DIR, \"images_test\")\n",
    "\n",
    "print(f\"Dataset in {FULL_DATASET_DIR}\")\n",
    "print(f\"Contents of dataset dir is {os.listdir(FULL_DATASET_DIR)}\")"
   ]
  },
  {
   "cell_type": "code",
   "execution_count": 3,
   "metadata": {
    "ExecuteTime": {
     "end_time": "2020-05-07T10:22:19.018833Z",
     "start_time": "2020-05-07T10:22:19.001525Z"
    }
   },
   "outputs": [
    {
     "data": {
      "text/html": [
       "<div>\n",
       "<style scoped>\n",
       "    .dataframe tbody tr th:only-of-type {\n",
       "        vertical-align: middle;\n",
       "    }\n",
       "\n",
       "    .dataframe tbody tr th {\n",
       "        vertical-align: top;\n",
       "    }\n",
       "\n",
       "    .dataframe thead th {\n",
       "        text-align: right;\n",
       "    }\n",
       "</style>\n",
       "<table border=\"1\" class=\"dataframe\">\n",
       "  <thead>\n",
       "    <tr style=\"text-align: right;\">\n",
       "      <th></th>\n",
       "      <th>image\\label</th>\n",
       "      <th>impervious</th>\n",
       "      <th>water</th>\n",
       "      <th>clutter</th>\n",
       "      <th>vegetation</th>\n",
       "      <th>building</th>\n",
       "      <th>tree</th>\n",
       "      <th>boat</th>\n",
       "      <th>car</th>\n",
       "    </tr>\n",
       "  </thead>\n",
       "  <tbody>\n",
       "    <tr>\n",
       "      <th>0</th>\n",
       "      <td>1</td>\n",
       "      <td>1</td>\n",
       "      <td>1</td>\n",
       "      <td>0</td>\n",
       "      <td>0</td>\n",
       "      <td>0</td>\n",
       "      <td>0</td>\n",
       "      <td>0</td>\n",
       "      <td>0</td>\n",
       "    </tr>\n",
       "    <tr>\n",
       "      <th>1</th>\n",
       "      <td>2</td>\n",
       "      <td>1</td>\n",
       "      <td>1</td>\n",
       "      <td>0</td>\n",
       "      <td>0</td>\n",
       "      <td>0</td>\n",
       "      <td>0</td>\n",
       "      <td>0</td>\n",
       "      <td>0</td>\n",
       "    </tr>\n",
       "    <tr>\n",
       "      <th>2</th>\n",
       "      <td>3</td>\n",
       "      <td>1</td>\n",
       "      <td>1</td>\n",
       "      <td>0</td>\n",
       "      <td>0</td>\n",
       "      <td>0</td>\n",
       "      <td>0</td>\n",
       "      <td>0</td>\n",
       "      <td>0</td>\n",
       "    </tr>\n",
       "    <tr>\n",
       "      <th>3</th>\n",
       "      <td>4</td>\n",
       "      <td>1</td>\n",
       "      <td>1</td>\n",
       "      <td>0</td>\n",
       "      <td>0</td>\n",
       "      <td>0</td>\n",
       "      <td>0</td>\n",
       "      <td>0</td>\n",
       "      <td>0</td>\n",
       "    </tr>\n",
       "    <tr>\n",
       "      <th>4</th>\n",
       "      <td>5</td>\n",
       "      <td>1</td>\n",
       "      <td>1</td>\n",
       "      <td>0</td>\n",
       "      <td>0</td>\n",
       "      <td>0</td>\n",
       "      <td>0</td>\n",
       "      <td>0</td>\n",
       "      <td>0</td>\n",
       "    </tr>\n",
       "  </tbody>\n",
       "</table>\n",
       "</div>"
      ],
      "text/plain": [
       "   image\\label  impervious  water  clutter  vegetation  building  tree  boat  \\\n",
       "0            1           1      1        0           0         0     0     0   \n",
       "1            2           1      1        0           0         0     0     0   \n",
       "2            3           1      1        0           0         0     0     0   \n",
       "3            4           1      1        0           0         0     0     0   \n",
       "4            5           1      1        0           0         0     0     0   \n",
       "\n",
       "   car  \n",
       "0    0  \n",
       "1    0  \n",
       "2    0  \n",
       "3    0  \n",
       "4    0  "
      ]
     },
     "execution_count": 3,
     "metadata": {},
     "output_type": "execute_result"
    }
   ],
   "source": [
    "multilabel_df = pd.read_csv(os.path.join(FULL_DATASET_DIR, \"multilabel.csv\"))\n",
    "multilabel_df.head()"
   ]
  },
  {
   "cell_type": "code",
   "execution_count": 4,
   "metadata": {
    "ExecuteTime": {
     "end_time": "2020-05-07T10:22:19.457146Z",
     "start_time": "2020-05-07T10:22:19.449235Z"
    }
   },
   "outputs": [
    {
     "name": "stdout",
     "output_type": "stream",
     "text": [
      "Total number of samples:  3342\n",
      "Total number of features:  8\n"
     ]
    }
   ],
   "source": [
    "print(\"Total number of samples: \", multilabel_df.shape[0])\n",
    "print(\"Total number of features: \", multilabel_df.shape[1] - 1)"
   ]
  },
  {
   "cell_type": "code",
   "execution_count": 5,
   "metadata": {
    "ExecuteTime": {
     "end_time": "2020-05-07T10:22:20.054703Z",
     "start_time": "2020-05-07T10:22:20.018978Z"
    }
   },
   "outputs": [
    {
     "data": {
      "text/html": [
       "<div>\n",
       "<style scoped>\n",
       "    .dataframe tbody tr th:only-of-type {\n",
       "        vertical-align: middle;\n",
       "    }\n",
       "\n",
       "    .dataframe tbody tr th {\n",
       "        vertical-align: top;\n",
       "    }\n",
       "\n",
       "    .dataframe thead th {\n",
       "        text-align: right;\n",
       "    }\n",
       "</style>\n",
       "<table border=\"1\" class=\"dataframe\">\n",
       "  <thead>\n",
       "    <tr style=\"text-align: right;\">\n",
       "      <th></th>\n",
       "      <th>image\\label</th>\n",
       "      <th>impervious</th>\n",
       "      <th>water</th>\n",
       "      <th>clutter</th>\n",
       "      <th>vegetation</th>\n",
       "      <th>building</th>\n",
       "      <th>tree</th>\n",
       "      <th>boat</th>\n",
       "      <th>car</th>\n",
       "    </tr>\n",
       "  </thead>\n",
       "  <tbody>\n",
       "    <tr>\n",
       "      <th>count</th>\n",
       "      <td>3342.000000</td>\n",
       "      <td>3342.000000</td>\n",
       "      <td>3342.000000</td>\n",
       "      <td>3342.000000</td>\n",
       "      <td>3342.000000</td>\n",
       "      <td>3342.000000</td>\n",
       "      <td>3342.000000</td>\n",
       "      <td>3342.000000</td>\n",
       "      <td>3342.000000</td>\n",
       "    </tr>\n",
       "    <tr>\n",
       "      <th>mean</th>\n",
       "      <td>1671.500000</td>\n",
       "      <td>0.937463</td>\n",
       "      <td>0.298624</td>\n",
       "      <td>0.565829</td>\n",
       "      <td>0.324955</td>\n",
       "      <td>0.299521</td>\n",
       "      <td>0.077199</td>\n",
       "      <td>0.080790</td>\n",
       "      <td>0.210952</td>\n",
       "    </tr>\n",
       "    <tr>\n",
       "      <th>std</th>\n",
       "      <td>964.896627</td>\n",
       "      <td>0.242165</td>\n",
       "      <td>0.457723</td>\n",
       "      <td>0.495722</td>\n",
       "      <td>0.468428</td>\n",
       "      <td>0.458117</td>\n",
       "      <td>0.266947</td>\n",
       "      <td>0.272553</td>\n",
       "      <td>0.408045</td>\n",
       "    </tr>\n",
       "    <tr>\n",
       "      <th>min</th>\n",
       "      <td>1.000000</td>\n",
       "      <td>0.000000</td>\n",
       "      <td>0.000000</td>\n",
       "      <td>0.000000</td>\n",
       "      <td>0.000000</td>\n",
       "      <td>0.000000</td>\n",
       "      <td>0.000000</td>\n",
       "      <td>0.000000</td>\n",
       "      <td>0.000000</td>\n",
       "    </tr>\n",
       "    <tr>\n",
       "      <th>25%</th>\n",
       "      <td>836.250000</td>\n",
       "      <td>1.000000</td>\n",
       "      <td>0.000000</td>\n",
       "      <td>0.000000</td>\n",
       "      <td>0.000000</td>\n",
       "      <td>0.000000</td>\n",
       "      <td>0.000000</td>\n",
       "      <td>0.000000</td>\n",
       "      <td>0.000000</td>\n",
       "    </tr>\n",
       "    <tr>\n",
       "      <th>50%</th>\n",
       "      <td>1671.500000</td>\n",
       "      <td>1.000000</td>\n",
       "      <td>0.000000</td>\n",
       "      <td>1.000000</td>\n",
       "      <td>0.000000</td>\n",
       "      <td>0.000000</td>\n",
       "      <td>0.000000</td>\n",
       "      <td>0.000000</td>\n",
       "      <td>0.000000</td>\n",
       "    </tr>\n",
       "    <tr>\n",
       "      <th>75%</th>\n",
       "      <td>2506.750000</td>\n",
       "      <td>1.000000</td>\n",
       "      <td>1.000000</td>\n",
       "      <td>1.000000</td>\n",
       "      <td>1.000000</td>\n",
       "      <td>1.000000</td>\n",
       "      <td>0.000000</td>\n",
       "      <td>0.000000</td>\n",
       "      <td>0.000000</td>\n",
       "    </tr>\n",
       "    <tr>\n",
       "      <th>max</th>\n",
       "      <td>3342.000000</td>\n",
       "      <td>1.000000</td>\n",
       "      <td>1.000000</td>\n",
       "      <td>1.000000</td>\n",
       "      <td>1.000000</td>\n",
       "      <td>1.000000</td>\n",
       "      <td>1.000000</td>\n",
       "      <td>1.000000</td>\n",
       "      <td>1.000000</td>\n",
       "    </tr>\n",
       "  </tbody>\n",
       "</table>\n",
       "</div>"
      ],
      "text/plain": [
       "       image\\label   impervious        water      clutter   vegetation  \\\n",
       "count  3342.000000  3342.000000  3342.000000  3342.000000  3342.000000   \n",
       "mean   1671.500000     0.937463     0.298624     0.565829     0.324955   \n",
       "std     964.896627     0.242165     0.457723     0.495722     0.468428   \n",
       "min       1.000000     0.000000     0.000000     0.000000     0.000000   \n",
       "25%     836.250000     1.000000     0.000000     0.000000     0.000000   \n",
       "50%    1671.500000     1.000000     0.000000     1.000000     0.000000   \n",
       "75%    2506.750000     1.000000     1.000000     1.000000     1.000000   \n",
       "max    3342.000000     1.000000     1.000000     1.000000     1.000000   \n",
       "\n",
       "          building         tree         boat          car  \n",
       "count  3342.000000  3342.000000  3342.000000  3342.000000  \n",
       "mean      0.299521     0.077199     0.080790     0.210952  \n",
       "std       0.458117     0.266947     0.272553     0.408045  \n",
       "min       0.000000     0.000000     0.000000     0.000000  \n",
       "25%       0.000000     0.000000     0.000000     0.000000  \n",
       "50%       0.000000     0.000000     0.000000     0.000000  \n",
       "75%       1.000000     0.000000     0.000000     0.000000  \n",
       "max       1.000000     1.000000     1.000000     1.000000  "
      ]
     },
     "execution_count": 5,
     "metadata": {},
     "output_type": "execute_result"
    }
   ],
   "source": [
    "multilabel_df.describe()"
   ]
  },
  {
   "cell_type": "code",
   "execution_count": 6,
   "metadata": {
    "ExecuteTime": {
     "end_time": "2020-05-07T10:22:21.454550Z",
     "start_time": "2020-05-07T10:22:21.440959Z"
    }
   },
   "outputs": [
    {
     "name": "stdout",
     "output_type": "stream",
     "text": [
      "<class 'pandas.core.frame.DataFrame'>\n",
      "RangeIndex: 3342 entries, 0 to 3341\n",
      "Data columns (total 9 columns):\n",
      " #   Column       Non-Null Count  Dtype\n",
      "---  ------       --------------  -----\n",
      " 0   image\\label  3342 non-null   int64\n",
      " 1   impervious   3342 non-null   int64\n",
      " 2   water        3342 non-null   int64\n",
      " 3   clutter      3342 non-null   int64\n",
      " 4   vegetation   3342 non-null   int64\n",
      " 5   building     3342 non-null   int64\n",
      " 6   tree         3342 non-null   int64\n",
      " 7   boat         3342 non-null   int64\n",
      " 8   car          3342 non-null   int64\n",
      "dtypes: int64(9)\n",
      "memory usage: 235.1 KB\n"
     ]
    }
   ],
   "source": [
    "multilabel_df.info()"
   ]
  },
  {
   "cell_type": "code",
   "execution_count": 7,
   "metadata": {
    "ExecuteTime": {
     "end_time": "2020-05-07T10:22:22.166554Z",
     "start_time": "2020-05-07T10:22:22.150541Z"
    }
   },
   "outputs": [
    {
     "name": "stdout",
     "output_type": "stream",
     "text": [
      "Number of images in train set: 2673\n",
      "Number of images in test set: 669\n"
     ]
    }
   ],
   "source": [
    "print(\"Number of images in train set:\", len(glob.glob(os.path.join(TRAIN_IMAGES_PATH, \"*.png\"))))\n",
    "print(\"Number of images in test set:\", len(glob.glob(os.path.join(TEST_IMAGES_PATH, \"*.png\"))))"
   ]
  },
  {
   "cell_type": "code",
   "execution_count": 8,
   "metadata": {
    "ExecuteTime": {
     "end_time": "2020-05-07T10:22:23.672725Z",
     "start_time": "2020-05-07T10:22:23.662687Z"
    }
   },
   "outputs": [],
   "source": [
    "multilabel_df[\"in_train\"] = np.zeros((multilabel_df.shape[0],), dtype=int)"
   ]
  },
  {
   "cell_type": "code",
   "execution_count": 9,
   "metadata": {
    "ExecuteTime": {
     "end_time": "2020-05-07T10:22:27.109391Z",
     "start_time": "2020-05-07T10:22:24.209390Z"
    }
   },
   "outputs": [],
   "source": [
    "for image_file in glob.glob(os.path.join(TRAIN_IMAGES_PATH, \"*.png\")):\n",
    "    basename = os.path.basename(image_file)\n",
    "    image_id = os.path.splitext(basename)[0]\n",
    "    \n",
    "    multilabel_df.loc[multilabel_df[\"image\\\\label\"] == int(image_id), \"in_train\"] = 1"
   ]
  },
  {
   "cell_type": "code",
   "execution_count": 10,
   "metadata": {
    "ExecuteTime": {
     "end_time": "2020-05-07T10:22:27.874512Z",
     "start_time": "2020-05-07T10:22:27.863733Z"
    }
   },
   "outputs": [
    {
     "name": "stdout",
     "output_type": "stream",
     "text": [
      "Number of images in train set: 2673\n",
      "Number of images in test set: 669\n"
     ]
    }
   ],
   "source": [
    "print(\"Number of images in train set:\", multilabel_df[\"in_train\"].sum())\n",
    "print(\"Number of images in test set:\", (multilabel_df[\"in_train\"] == 0).sum())"
   ]
  },
  {
   "cell_type": "markdown",
   "metadata": {},
   "source": [
    "## Label Analysis"
   ]
  },
  {
   "cell_type": "code",
   "execution_count": 11,
   "metadata": {
    "ExecuteTime": {
     "end_time": "2020-05-07T10:23:17.947141Z",
     "start_time": "2020-05-07T10:23:17.936659Z"
    }
   },
   "outputs": [],
   "source": [
    "multilabel_df[\"total_label_count\"] = multilabel_df.drop([\"image\\\\label\", \"in_train\"], axis=1).sum(axis=1)"
   ]
  },
  {
   "cell_type": "code",
   "execution_count": 12,
   "metadata": {
    "ExecuteTime": {
     "end_time": "2020-05-07T10:23:18.309572Z",
     "start_time": "2020-05-07T10:23:18.294624Z"
    }
   },
   "outputs": [
    {
     "data": {
      "text/html": [
       "<div>\n",
       "<style scoped>\n",
       "    .dataframe tbody tr th:only-of-type {\n",
       "        vertical-align: middle;\n",
       "    }\n",
       "\n",
       "    .dataframe tbody tr th {\n",
       "        vertical-align: top;\n",
       "    }\n",
       "\n",
       "    .dataframe thead th {\n",
       "        text-align: right;\n",
       "    }\n",
       "</style>\n",
       "<table border=\"1\" class=\"dataframe\">\n",
       "  <thead>\n",
       "    <tr style=\"text-align: right;\">\n",
       "      <th></th>\n",
       "      <th>image\\label</th>\n",
       "      <th>impervious</th>\n",
       "      <th>water</th>\n",
       "      <th>clutter</th>\n",
       "      <th>vegetation</th>\n",
       "      <th>building</th>\n",
       "      <th>tree</th>\n",
       "      <th>boat</th>\n",
       "      <th>car</th>\n",
       "      <th>in_train</th>\n",
       "      <th>total_label_count</th>\n",
       "    </tr>\n",
       "  </thead>\n",
       "  <tbody>\n",
       "    <tr>\n",
       "      <th>0</th>\n",
       "      <td>1</td>\n",
       "      <td>1</td>\n",
       "      <td>1</td>\n",
       "      <td>0</td>\n",
       "      <td>0</td>\n",
       "      <td>0</td>\n",
       "      <td>0</td>\n",
       "      <td>0</td>\n",
       "      <td>0</td>\n",
       "      <td>1</td>\n",
       "      <td>2</td>\n",
       "    </tr>\n",
       "    <tr>\n",
       "      <th>1</th>\n",
       "      <td>2</td>\n",
       "      <td>1</td>\n",
       "      <td>1</td>\n",
       "      <td>0</td>\n",
       "      <td>0</td>\n",
       "      <td>0</td>\n",
       "      <td>0</td>\n",
       "      <td>0</td>\n",
       "      <td>0</td>\n",
       "      <td>1</td>\n",
       "      <td>2</td>\n",
       "    </tr>\n",
       "    <tr>\n",
       "      <th>2</th>\n",
       "      <td>3</td>\n",
       "      <td>1</td>\n",
       "      <td>1</td>\n",
       "      <td>0</td>\n",
       "      <td>0</td>\n",
       "      <td>0</td>\n",
       "      <td>0</td>\n",
       "      <td>0</td>\n",
       "      <td>0</td>\n",
       "      <td>0</td>\n",
       "      <td>2</td>\n",
       "    </tr>\n",
       "    <tr>\n",
       "      <th>3</th>\n",
       "      <td>4</td>\n",
       "      <td>1</td>\n",
       "      <td>1</td>\n",
       "      <td>0</td>\n",
       "      <td>0</td>\n",
       "      <td>0</td>\n",
       "      <td>0</td>\n",
       "      <td>0</td>\n",
       "      <td>0</td>\n",
       "      <td>1</td>\n",
       "      <td>2</td>\n",
       "    </tr>\n",
       "    <tr>\n",
       "      <th>4</th>\n",
       "      <td>5</td>\n",
       "      <td>1</td>\n",
       "      <td>1</td>\n",
       "      <td>0</td>\n",
       "      <td>0</td>\n",
       "      <td>0</td>\n",
       "      <td>0</td>\n",
       "      <td>0</td>\n",
       "      <td>0</td>\n",
       "      <td>1</td>\n",
       "      <td>2</td>\n",
       "    </tr>\n",
       "  </tbody>\n",
       "</table>\n",
       "</div>"
      ],
      "text/plain": [
       "   image\\label  impervious  water  clutter  vegetation  building  tree  boat  \\\n",
       "0            1           1      1        0           0         0     0     0   \n",
       "1            2           1      1        0           0         0     0     0   \n",
       "2            3           1      1        0           0         0     0     0   \n",
       "3            4           1      1        0           0         0     0     0   \n",
       "4            5           1      1        0           0         0     0     0   \n",
       "\n",
       "   car  in_train  total_label_count  \n",
       "0    0         1                  2  \n",
       "1    0         1                  2  \n",
       "2    0         0                  2  \n",
       "3    0         1                  2  \n",
       "4    0         1                  2  "
      ]
     },
     "execution_count": 12,
     "metadata": {},
     "output_type": "execute_result"
    }
   ],
   "source": [
    "multilabel_df.head()"
   ]
  },
  {
   "cell_type": "code",
   "execution_count": 13,
   "metadata": {
    "ExecuteTime": {
     "end_time": "2020-05-07T10:23:32.972413Z",
     "start_time": "2020-05-07T10:23:32.963354Z"
    }
   },
   "outputs": [
    {
     "data": {
      "text/plain": [
       "count    3342.000000\n",
       "mean        2.795332\n",
       "std         0.948227\n",
       "min         2.000000\n",
       "25%         2.000000\n",
       "50%         2.000000\n",
       "75%         3.000000\n",
       "max         6.000000\n",
       "Name: total_label_count, dtype: float64"
      ]
     },
     "execution_count": 13,
     "metadata": {},
     "output_type": "execute_result"
    }
   ],
   "source": [
    "multilabel_df[\"total_label_count\"].describe()"
   ]
  },
  {
   "cell_type": "code",
   "execution_count": 14,
   "metadata": {
    "ExecuteTime": {
     "end_time": "2020-05-07T10:23:38.011062Z",
     "start_time": "2020-05-07T10:23:37.851881Z"
    }
   },
   "outputs": [
    {
     "data": {
      "image/png": "[encoded data removed]",
      "text/plain": [
       "<Figure size 1080x576 with 1 Axes>"
      ]
     },
     "metadata": {
      "needs_background": "light"
     },
     "output_type": "display_data"
    }
   ],
   "source": [
    "plt_data = multilabel_df.drop([\"image\\\\label\", \"total_label_count\", \"in_train\"], axis=1).sum(axis=0)\n",
    "\n",
    "fig, ax = plt.subplots(figsize=(15, 8))\n",
    "\n",
    "ax.bar(plt_data.index, plt_data.values, color=matplotlib.cm.rainbow(np.linspace(0, 1, 7)))\n",
    "\n",
    "rects = ax.patches\n",
    "labels = plt_data.values\n",
    "for rect, label in zip(rects, labels):\n",
    "    height = rect.get_height()\n",
    "    ax.text(rect.get_x() + rect.get_width() / 2, height + 5, label, ha=\"center\", va=\"bottom\")\n",
    "plt.title(\"Label Counts Plot\", fontsize=18)\n",
    "plt.xlabel(\"Label Name\", fontsize=16)\n",
    "plt.ylabel(\"Occurence Count\", fontsize=16)\n",
    "\n",
    "plt.show()"
   ]
  },
  {
   "cell_type": "markdown",
   "metadata": {},
   "source": [
    "## Label Correlations"
   ]
  },
  {
   "cell_type": "code",
   "execution_count": 15,
   "metadata": {
    "ExecuteTime": {
     "end_time": "2020-05-07T10:23:45.494763Z",
     "start_time": "2020-05-07T10:23:45.476397Z"
    }
   },
   "outputs": [
    {
     "data": {
      "text/html": [
       "<div>\n",
       "<style scoped>\n",
       "    .dataframe tbody tr th:only-of-type {\n",
       "        vertical-align: middle;\n",
       "    }\n",
       "\n",
       "    .dataframe tbody tr th {\n",
       "        vertical-align: top;\n",
       "    }\n",
       "\n",
       "    .dataframe thead th {\n",
       "        text-align: right;\n",
       "    }\n",
       "</style>\n",
       "<table border=\"1\" class=\"dataframe\">\n",
       "  <thead>\n",
       "    <tr style=\"text-align: right;\">\n",
       "      <th></th>\n",
       "      <th>impervious</th>\n",
       "      <th>water</th>\n",
       "      <th>clutter</th>\n",
       "      <th>vegetation</th>\n",
       "      <th>building</th>\n",
       "      <th>tree</th>\n",
       "      <th>boat</th>\n",
       "      <th>car</th>\n",
       "    </tr>\n",
       "  </thead>\n",
       "  <tbody>\n",
       "    <tr>\n",
       "      <th>impervious</th>\n",
       "      <td>1.000000</td>\n",
       "      <td>-0.301318</td>\n",
       "      <td>-0.009329</td>\n",
       "      <td>0.015609</td>\n",
       "      <td>0.152704</td>\n",
       "      <td>-0.129018</td>\n",
       "      <td>-0.367842</td>\n",
       "      <td>0.133546</td>\n",
       "    </tr>\n",
       "    <tr>\n",
       "      <th>water</th>\n",
       "      <td>-0.301318</td>\n",
       "      <td>1.000000</td>\n",
       "      <td>-0.267381</td>\n",
       "      <td>-0.105124</td>\n",
       "      <td>-0.201152</td>\n",
       "      <td>-0.068699</td>\n",
       "      <td>0.425553</td>\n",
       "      <td>-0.159502</td>\n",
       "    </tr>\n",
       "    <tr>\n",
       "      <th>clutter</th>\n",
       "      <td>-0.009329</td>\n",
       "      <td>-0.267381</td>\n",
       "      <td>1.000000</td>\n",
       "      <td>-0.486573</td>\n",
       "      <td>-0.426228</td>\n",
       "      <td>-0.296263</td>\n",
       "      <td>-0.048236</td>\n",
       "      <td>-0.246978</td>\n",
       "    </tr>\n",
       "    <tr>\n",
       "      <th>vegetation</th>\n",
       "      <td>0.015609</td>\n",
       "      <td>-0.105124</td>\n",
       "      <td>-0.486573</td>\n",
       "      <td>1.000000</td>\n",
       "      <td>0.409673</td>\n",
       "      <td>0.412089</td>\n",
       "      <td>-0.168181</td>\n",
       "      <td>0.291117</td>\n",
       "    </tr>\n",
       "    <tr>\n",
       "      <th>building</th>\n",
       "      <td>0.152704</td>\n",
       "      <td>-0.201152</td>\n",
       "      <td>-0.426228</td>\n",
       "      <td>0.409673</td>\n",
       "      <td>1.000000</td>\n",
       "      <td>0.104566</td>\n",
       "      <td>-0.054825</td>\n",
       "      <td>0.523324</td>\n",
       "    </tr>\n",
       "    <tr>\n",
       "      <th>tree</th>\n",
       "      <td>-0.129018</td>\n",
       "      <td>-0.068699</td>\n",
       "      <td>-0.296263</td>\n",
       "      <td>0.412089</td>\n",
       "      <td>0.104566</td>\n",
       "      <td>1.000000</td>\n",
       "      <td>-0.085748</td>\n",
       "      <td>0.023561</td>\n",
       "    </tr>\n",
       "    <tr>\n",
       "      <th>boat</th>\n",
       "      <td>-0.367842</td>\n",
       "      <td>0.425553</td>\n",
       "      <td>-0.048236</td>\n",
       "      <td>-0.168181</td>\n",
       "      <td>-0.054825</td>\n",
       "      <td>-0.085748</td>\n",
       "      <td>1.000000</td>\n",
       "      <td>-0.005267</td>\n",
       "    </tr>\n",
       "    <tr>\n",
       "      <th>car</th>\n",
       "      <td>0.133546</td>\n",
       "      <td>-0.159502</td>\n",
       "      <td>-0.246978</td>\n",
       "      <td>0.291117</td>\n",
       "      <td>0.523324</td>\n",
       "      <td>0.023561</td>\n",
       "      <td>-0.005267</td>\n",
       "      <td>1.000000</td>\n",
       "    </tr>\n",
       "  </tbody>\n",
       "</table>\n",
       "</div>"
      ],
      "text/plain": [
       "            impervious     water   clutter  vegetation  building      tree  \\\n",
       "impervious    1.000000 -0.301318 -0.009329    0.015609  0.152704 -0.129018   \n",
       "water        -0.301318  1.000000 -0.267381   -0.105124 -0.201152 -0.068699   \n",
       "clutter      -0.009329 -0.267381  1.000000   -0.486573 -0.426228 -0.296263   \n",
       "vegetation    0.015609 -0.105124 -0.486573    1.000000  0.409673  0.412089   \n",
       "building      0.152704 -0.201152 -0.426228    0.409673  1.000000  0.104566   \n",
       "tree         -0.129018 -0.068699 -0.296263    0.412089  0.104566  1.000000   \n",
       "boat         -0.367842  0.425553 -0.048236   -0.168181 -0.054825 -0.085748   \n",
       "car           0.133546 -0.159502 -0.246978    0.291117  0.523324  0.023561   \n",
       "\n",
       "                boat       car  \n",
       "impervious -0.367842  0.133546  \n",
       "water       0.425553 -0.159502  \n",
       "clutter    -0.048236 -0.246978  \n",
       "vegetation -0.168181  0.291117  \n",
       "building   -0.054825  0.523324  \n",
       "tree       -0.085748  0.023561  \n",
       "boat        1.000000 -0.005267  \n",
       "car        -0.005267  1.000000  "
      ]
     },
     "execution_count": 15,
     "metadata": {},
     "output_type": "execute_result"
    }
   ],
   "source": [
    "just_labels_df = multilabel_df.drop([\"image\\\\label\", \"total_label_count\", \"in_train\"], axis=1)\n",
    "just_labels_df.corr()"
   ]
  },
  {
   "cell_type": "code",
   "execution_count": 16,
   "metadata": {
    "ExecuteTime": {
     "end_time": "2020-05-07T10:23:46.591450Z",
     "start_time": "2020-05-07T10:23:46.372347Z"
    }
   },
   "outputs": [
    {
     "data": {
      "image/png": "[encoded data removed]",
      "text/plain": [
       "<Figure size 576x576 with 2 Axes>"
      ]
     },
     "metadata": {
      "needs_background": "light"
     },
     "output_type": "display_data"
    }
   ],
   "source": [
    "fig, ax = plt.subplots(figsize=(8, 8))\n",
    "\n",
    "ax.xaxis.tick_top()\n",
    "im = ax.imshow(just_labels_df.corr())\n",
    "plt.xticks(ticks=np.arange(just_labels_df.shape[1]), labels=just_labels_df.columns)\n",
    "plt.yticks(ticks=np.arange(just_labels_df.shape[1]), labels=just_labels_df.columns)\n",
    "\n",
    "cbar = ax.figure.colorbar(im, ax=ax)\n",
    "cbar.ax.set_ylabel(\"Pearson Correlation Coef.\", rotation=-90, va=\"bottom\")\n",
    "\n",
    "plt.title(\"Labels Correlation Plot\")\n",
    "\n",
    "plt.show()"
   ]
  },
  {
   "cell_type": "markdown",
   "metadata": {},
   "source": [
    "# Feature Extraction"
   ]
  },
  {
   "cell_type": "code",
   "execution_count": 18,
   "metadata": {
    "ExecuteTime": {
     "end_time": "2020-05-07T10:33:42.087406Z",
     "start_time": "2020-05-07T10:33:30.319349Z"
    }
   },
   "outputs": [],
   "source": [
    "vgg16_network = VGG16(include_top=False,\n",
    "                      weights='imagenet',\n",
    "                      input_shape=(224, 224, 3),\n",
    "                      pooling=None)"
   ]
  },
  {
   "cell_type": "code",
   "execution_count": 19,
   "metadata": {
    "ExecuteTime": {
     "end_time": "2020-05-07T10:34:37.012506Z",
     "start_time": "2020-05-07T10:33:42.101549Z"
    }
   },
   "outputs": [],
   "source": [
    "resized_raw_train_images = list()\n",
    "resized_raw_train_labels = list()\n",
    "\n",
    "for raw_image_file in glob.glob(os.path.join(TRAIN_IMAGES_PATH, \"*.png\")):\n",
    "    raw_img = cv2.imread(raw_image_file)\n",
    "    raw_img = cv2.cvtColor(raw_img, cv2.COLOR_BGR2RGB)\n",
    "    \n",
    "    resized_raw_img = cv2.resize(raw_img, (224, 224))\n",
    "    \n",
    "    resized_raw_train_images.append(resized_raw_img)\n",
    "    resized_raw_train_labels.append(os.path.basename(raw_image_file).split(\".\")[0])"
   ]
  },
  {
   "cell_type": "code",
   "execution_count": 20,
   "metadata": {
    "ExecuteTime": {
     "end_time": "2020-05-07T10:34:37.946276Z",
     "start_time": "2020-05-07T10:34:37.875357Z"
    }
   },
   "outputs": [],
   "source": [
    "preprediction_images = np.array(resized_raw_train_images)"
   ]
  },
  {
   "cell_type": "code",
   "execution_count": 21,
   "metadata": {
    "ExecuteTime": {
     "end_time": "2020-05-07T10:34:38.797497Z",
     "start_time": "2020-05-07T10:34:38.794468Z"
    }
   },
   "outputs": [
    {
     "data": {
      "text/plain": [
       "(2673, 224, 224, 3)"
      ]
     },
     "execution_count": 21,
     "metadata": {},
     "output_type": "execute_result"
    }
   ],
   "source": [
    "preprediction_images.shape"
   ]
  },
  {
   "cell_type": "code",
   "execution_count": 22,
   "metadata": {
    "ExecuteTime": {
     "end_time": "2020-05-07T10:35:27.955926Z",
     "start_time": "2020-05-07T10:35:10.423439Z"
    }
   },
   "outputs": [],
   "source": [
    "postprediction_features = vgg16_network.predict(preprediction_images)"
   ]
  },
  {
   "cell_type": "code",
   "execution_count": 23,
   "metadata": {
    "ExecuteTime": {
     "end_time": "2020-05-07T10:35:28.833390Z",
     "start_time": "2020-05-07T10:35:28.829931Z"
    }
   },
   "outputs": [
    {
     "data": {
      "text/plain": [
       "(2673, 7, 7, 512)"
      ]
     },
     "execution_count": 23,
     "metadata": {},
     "output_type": "execute_result"
    }
   ],
   "source": [
    "postprediction_features.shape"
   ]
  },
  {
   "cell_type": "code",
   "execution_count": 24,
   "metadata": {
    "ExecuteTime": {
     "end_time": "2020-05-07T10:35:29.705249Z",
     "start_time": "2020-05-07T10:35:29.702614Z"
    }
   },
   "outputs": [],
   "source": [
    "flattened_postprediction_features = postprediction_features.reshape(postprediction_features.shape[0], -1)"
   ]
  },
  {
   "cell_type": "code",
   "execution_count": 36,
   "metadata": {
    "ExecuteTime": {
     "end_time": "2020-05-07T10:46:20.361435Z",
     "start_time": "2020-05-07T10:46:17.592074Z"
    }
   },
   "outputs": [],
   "source": [
    "citf_vector = list()\n",
    "for flattened_postprediction_feature, image_id in zip(flattened_postprediction_features, resized_raw_train_labels):\n",
    "    filtered_idx = multilabel_df[\"image\\\\label\"] == int(image_id)\n",
    "    tags = multilabel_df[filtered_idx].drop([\"image\\\\label\", \"in_train\", \"total_label_count\"], axis=1).values[0]\n",
    "    \n",
    "    citf_vector.append(np.concatenate((flattened_postprediction_feature, tags)))\n",
    "\n",
    "citf_vector = np.array(citf_vector)"
   ]
  },
  {
   "cell_type": "code",
   "execution_count": 37,
   "metadata": {
    "ExecuteTime": {
     "end_time": "2020-05-07T10:46:21.239319Z",
     "start_time": "2020-05-07T10:46:21.236122Z"
    }
   },
   "outputs": [
    {
     "data": {
      "text/plain": [
       "(2673, 25088)"
      ]
     },
     "execution_count": 37,
     "metadata": {},
     "output_type": "execute_result"
    }
   ],
   "source": [
    "flattened_postprediction_features.shape"
   ]
  },
  {
   "cell_type": "code",
   "execution_count": 38,
   "metadata": {
    "ExecuteTime": {
     "end_time": "2020-05-07T10:46:22.115151Z",
     "start_time": "2020-05-07T10:46:22.111793Z"
    }
   },
   "outputs": [
    {
     "data": {
      "text/plain": [
       "(2673, 25096)"
      ]
     },
     "execution_count": 38,
     "metadata": {},
     "output_type": "execute_result"
    }
   ],
   "source": [
    "citf_vector.shape"
   ]
  },
  {
   "cell_type": "markdown",
   "metadata": {},
   "source": [
    "# Clustering"
   ]
  },
  {
   "cell_type": "code",
   "execution_count": 39,
   "metadata": {
    "ExecuteTime": {
     "end_time": "2020-05-07T10:46:26.357983Z",
     "start_time": "2020-05-07T10:46:26.253003Z"
    }
   },
   "outputs": [],
   "source": [
    "som = MiniSom(16, 16, citf_vector.shape[1],\n",
    "              sigma=3.0,\n",
    "              learning_rate=0.7,\n",
    "              topology=\"rectangular\",\n",
    "              activation_distance=\"cosine\")"
   ]
  },
  {
   "cell_type": "code",
   "execution_count": 40,
   "metadata": {
    "ExecuteTime": {
     "end_time": "2020-05-07T10:46:27.248142Z",
     "start_time": "2020-05-07T10:46:27.232926Z"
    }
   },
   "outputs": [],
   "source": [
    "som.random_weights_init(citf_vector)"
   ]
  },
  {
   "cell_type": "code",
   "execution_count": 41,
   "metadata": {
    "ExecuteTime": {
     "end_time": "2020-05-07T10:47:43.477516Z",
     "start_time": "2020-05-07T10:46:28.117960Z"
    }
   },
   "outputs": [
    {
     "name": "stdout",
     "output_type": "stream",
     "text": [
      " [ 1000 / 1000 ] 100% - 0:00:00 left \n",
      " quantization error: 1134.2270399965555\n"
     ]
    }
   ],
   "source": [
    "som.train_random(citf_vector, 1000, verbose=True)"
   ]
  },
  {
   "cell_type": "markdown",
   "metadata": {},
   "source": [
    "# Scoring\n",
    "\n",
    "**Threshold = 0.5**"
   ]
  },
  {
   "cell_type": "code",
   "execution_count": 48,
   "metadata": {
    "ExecuteTime": {
     "end_time": "2020-05-07T10:54:31.876106Z",
     "start_time": "2020-05-07T10:53:12.055243Z"
    }
   },
   "outputs": [],
   "source": [
    "y_pred = list()\n",
    "for x in citf_vector:\n",
    "    winner_coords = som.winner(x)\n",
    "    y_pred.append(som.get_weights()[winner_coords][-8:])\n",
    "y_pred = np.array(y_pred)"
   ]
  },
  {
   "cell_type": "code",
   "execution_count": 53,
   "metadata": {
    "ExecuteTime": {
     "end_time": "2020-05-07T10:55:13.700772Z",
     "start_time": "2020-05-07T10:55:13.697373Z"
    }
   },
   "outputs": [
    {
     "data": {
      "text/plain": [
       "(2673, 8)"
      ]
     },
     "execution_count": 53,
     "metadata": {},
     "output_type": "execute_result"
    }
   ],
   "source": [
    "y_pred.shape"
   ]
  },
  {
   "cell_type": "code",
   "execution_count": 50,
   "metadata": {
    "ExecuteTime": {
     "end_time": "2020-05-07T10:54:33.770550Z",
     "start_time": "2020-05-07T10:54:33.674460Z"
    }
   },
   "outputs": [
    {
     "data": {
      "text/plain": [
       "(2673, 8)"
      ]
     },
     "execution_count": 50,
     "metadata": {},
     "output_type": "execute_result"
    }
   ],
   "source": [
    "y_test = citf_vector[:, -8:]\n",
    "y_test.shape"
   ]
  },
  {
   "cell_type": "code",
   "execution_count": 56,
   "metadata": {
    "ExecuteTime": {
     "end_time": "2020-05-07T10:56:13.632568Z",
     "start_time": "2020-05-07T10:56:13.616788Z"
    }
   },
   "outputs": [],
   "source": [
    "y_pred_tresholded = (y_pred >= 0.5).astype(int)"
   ]
  },
  {
   "cell_type": "code",
   "execution_count": 59,
   "metadata": {
    "ExecuteTime": {
     "end_time": "2020-05-07T10:56:42.284636Z",
     "start_time": "2020-05-07T10:56:42.219678Z"
    }
   },
   "outputs": [
    {
     "name": "stdout",
     "output_type": "stream",
     "text": [
      "              precision    recall  f1-score   support\n",
      "\n",
      "           0       0.94      1.00      0.97      2516\n",
      "           1       0.69      0.59      0.64       791\n",
      "           2       0.87      0.66      0.75      1508\n",
      "           3       0.67      0.59      0.63       867\n",
      "           4       0.76      0.55      0.64       797\n",
      "           5       0.00      0.00      0.00       201\n",
      "           6       0.00      0.00      0.00       216\n",
      "           7       0.54      0.61      0.57       554\n",
      "\n",
      "   micro avg       0.81      0.71      0.76      7450\n",
      "   macro avg       0.56      0.50      0.52      7450\n",
      "weighted avg       0.77      0.71      0.73      7450\n",
      " samples avg       0.84      0.75      0.77      7450\n",
      "\n"
     ]
    },
    {
     "name": "stderr",
     "output_type": "stream",
     "text": [
      "/opt/conda/lib/python3.7/site-packages/sklearn/metrics/_classification.py:1272: UndefinedMetricWarning: Precision and F-score are ill-defined and being set to 0.0 in labels with no predicted samples. Use `zero_division` parameter to control this behavior.\n",
      "  _warn_prf(average, modifier, msg_start, len(result))\n"
     ]
    }
   ],
   "source": [
    "print(classification_report(y_test, y_pred_tresholded))"
   ]
  }
 ],
 "metadata": {
  "kernelspec": {
   "display_name": "Python 3",
   "language": "python",
   "name": "python3"
  },
  "language_info": {
   "codemirror_mode": {
    "name": "ipython",
    "version": 3
   },
   "file_extension": ".py",
   "mimetype": "text/x-python",
   "name": "python",
   "nbconvert_exporter": "python",
   "pygments_lexer": "ipython3",
   "version": "3.7.6"
  },
  "toc": {
   "base_numbering": 1,
   "nav_menu": {},
   "number_sections": true,
   "sideBar": true,
   "skip_h1_title": false,
   "title_cell": "Table of Contents",
   "title_sidebar": "Contents",
   "toc_cell": false,
   "toc_position": {},
   "toc_section_display": true,
   "toc_window_display": true
  },
  "varInspector": {
   "cols": {
    "lenName": 16,
    "lenType": 16,
    "lenVar": 40
   },
   "kernels_config": {
    "python": {
     "delete_cmd_postfix": "",
     "delete_cmd_prefix": "del ",
     "library": "var_list.py",
     "varRefreshCmd": "print(var_dic_list())"
    },
    "r": {
     "delete_cmd_postfix": ") ",
     "delete_cmd_prefix": "rm(",
     "library": "var_list.r",
     "varRefreshCmd": "cat(var_dic_list()) "
    }
   },
   "position": {
    "height": "766.85px",
    "left": "1550px",
    "right": "20px",
    "top": "120px",
    "width": "350px"
   },
   "types_to_exclude": [
    "module",
    "function",
    "builtin_function_or_method",
    "instance",
    "_Feature"
   ],
   "window_display": true
  }
 },
 "nbformat": 4,
 "nbformat_minor": 4
}
