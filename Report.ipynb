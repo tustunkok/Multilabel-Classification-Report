{
 "cells": [
  {
   "cell_type": "markdown",
   "metadata": {},
   "source": [
    "# Imports"
   ]
  },
  {
   "cell_type": "code",
   "execution_count": 1,
   "metadata": {
    "ExecuteTime": {
     "end_time": "2020-05-08T17:13:36.731471Z",
     "start_time": "2020-05-08T17:13:34.697188Z"
    }
   },
   "outputs": [],
   "source": [
    "import os\n",
    "import cv2\n",
    "import glob\n",
    "import matplotlib\n",
    "import numpy as np\n",
    "import pandas as pd\n",
    "import matplotlib.pyplot as plt\n",
    "\n",
    "from minisom import MiniSom\n",
    "from sklearn.metrics import classification_report, roc_curve, roc_auc_score, r2_score\n",
    "from sklearn.preprocessing import OneHotEncoder\n",
    "from tensorflow.keras.applications.vgg16 import VGG16\n",
    "from tensorflow.keras.layers import concatenate, Embedding, Input, Flatten\n",
    "from tensorflow.keras.models import Model\n",
    "from tensorflow.keras.utils import plot_model"
   ]
  },
  {
   "cell_type": "markdown",
   "metadata": {},
   "source": [
    "# Dataset Summary\n",
    "\n",
    "**Name:** DFC15_multilabel"
   ]
  },
  {
   "cell_type": "code",
   "execution_count": 2,
   "metadata": {
    "ExecuteTime": {
     "end_time": "2020-05-08T17:13:36.736964Z",
     "start_time": "2020-05-08T17:13:36.732901Z"
    }
   },
   "outputs": [
    {
     "name": "stdout",
     "output_type": "stream",
     "text": [
      "Dataset in /home/jovyan/work/data/DFC15_multilabel\n",
      "Contents of dataset dir is ['images_tr', 'images_test', 'multilabel.csv', 'multilabel.mat']\n"
     ]
    }
   ],
   "source": [
    "BASE_DATA_DIR = \"/home/jovyan/work/data/\"\n",
    "DATASET_DIR = \"DFC15_multilabel\"\n",
    "FULL_DATASET_DIR = os.path.join(BASE_DATA_DIR, DATASET_DIR)\n",
    "TRAIN_IMAGES_PATH = os.path.join(FULL_DATASET_DIR, \"images_tr\")\n",
    "TEST_IMAGES_PATH = os.path.join(FULL_DATASET_DIR, \"images_test\")\n",
    "\n",
    "print(f\"Dataset in {FULL_DATASET_DIR}\")\n",
    "print(f\"Contents of dataset dir is {os.listdir(FULL_DATASET_DIR)}\")"
   ]
  },
  {
   "cell_type": "code",
   "execution_count": 3,
   "metadata": {
    "ExecuteTime": {
     "end_time": "2020-05-08T17:13:36.879284Z",
     "start_time": "2020-05-08T17:13:36.738451Z"
    }
   },
   "outputs": [
    {
     "data": {
      "text/html": [
       "<div>\n",
       "<style scoped>\n",
       "    .dataframe tbody tr th:only-of-type {\n",
       "        vertical-align: middle;\n",
       "    }\n",
       "\n",
       "    .dataframe tbody tr th {\n",
       "        vertical-align: top;\n",
       "    }\n",
       "\n",
       "    .dataframe thead th {\n",
       "        text-align: right;\n",
       "    }\n",
       "</style>\n",
       "<table border=\"1\" class=\"dataframe\">\n",
       "  <thead>\n",
       "    <tr style=\"text-align: right;\">\n",
       "      <th></th>\n",
       "      <th>image\\label</th>\n",
       "      <th>impervious</th>\n",
       "      <th>water</th>\n",
       "      <th>clutter</th>\n",
       "      <th>vegetation</th>\n",
       "      <th>building</th>\n",
       "      <th>tree</th>\n",
       "      <th>boat</th>\n",
       "      <th>car</th>\n",
       "    </tr>\n",
       "  </thead>\n",
       "  <tbody>\n",
       "    <tr>\n",
       "      <th>0</th>\n",
       "      <td>1</td>\n",
       "      <td>1</td>\n",
       "      <td>1</td>\n",
       "      <td>0</td>\n",
       "      <td>0</td>\n",
       "      <td>0</td>\n",
       "      <td>0</td>\n",
       "      <td>0</td>\n",
       "      <td>0</td>\n",
       "    </tr>\n",
       "    <tr>\n",
       "      <th>1</th>\n",
       "      <td>2</td>\n",
       "      <td>1</td>\n",
       "      <td>1</td>\n",
       "      <td>0</td>\n",
       "      <td>0</td>\n",
       "      <td>0</td>\n",
       "      <td>0</td>\n",
       "      <td>0</td>\n",
       "      <td>0</td>\n",
       "    </tr>\n",
       "    <tr>\n",
       "      <th>2</th>\n",
       "      <td>3</td>\n",
       "      <td>1</td>\n",
       "      <td>1</td>\n",
       "      <td>0</td>\n",
       "      <td>0</td>\n",
       "      <td>0</td>\n",
       "      <td>0</td>\n",
       "      <td>0</td>\n",
       "      <td>0</td>\n",
       "    </tr>\n",
       "    <tr>\n",
       "      <th>3</th>\n",
       "      <td>4</td>\n",
       "      <td>1</td>\n",
       "      <td>1</td>\n",
       "      <td>0</td>\n",
       "      <td>0</td>\n",
       "      <td>0</td>\n",
       "      <td>0</td>\n",
       "      <td>0</td>\n",
       "      <td>0</td>\n",
       "    </tr>\n",
       "    <tr>\n",
       "      <th>4</th>\n",
       "      <td>5</td>\n",
       "      <td>1</td>\n",
       "      <td>1</td>\n",
       "      <td>0</td>\n",
       "      <td>0</td>\n",
       "      <td>0</td>\n",
       "      <td>0</td>\n",
       "      <td>0</td>\n",
       "      <td>0</td>\n",
       "    </tr>\n",
       "  </tbody>\n",
       "</table>\n",
       "</div>"
      ],
      "text/plain": [
       "   image\\label  impervious  water  clutter  vegetation  building  tree  boat  \\\n",
       "0            1           1      1        0           0         0     0     0   \n",
       "1            2           1      1        0           0         0     0     0   \n",
       "2            3           1      1        0           0         0     0     0   \n",
       "3            4           1      1        0           0         0     0     0   \n",
       "4            5           1      1        0           0         0     0     0   \n",
       "\n",
       "   car  \n",
       "0    0  \n",
       "1    0  \n",
       "2    0  \n",
       "3    0  \n",
       "4    0  "
      ]
     },
     "execution_count": 3,
     "metadata": {},
     "output_type": "execute_result"
    }
   ],
   "source": [
    "multilabel_df = pd.read_csv(os.path.join(FULL_DATASET_DIR, \"multilabel.csv\"))\n",
    "multilabel_df.head()"
   ]
  },
  {
   "cell_type": "code",
   "execution_count": 4,
   "metadata": {
    "ExecuteTime": {
     "end_time": "2020-05-08T17:13:36.962807Z",
     "start_time": "2020-05-08T17:13:36.880872Z"
    }
   },
   "outputs": [
    {
     "name": "stdout",
     "output_type": "stream",
     "text": [
      "Total number of samples:  3342\n",
      "Total number of features:  8\n"
     ]
    }
   ],
   "source": [
    "print(\"Total number of samples: \", multilabel_df.shape[0])\n",
    "print(\"Total number of features: \", multilabel_df.shape[1] - 1)"
   ]
  },
  {
   "cell_type": "code",
   "execution_count": 5,
   "metadata": {
    "ExecuteTime": {
     "end_time": "2020-05-08T17:13:37.099410Z",
     "start_time": "2020-05-08T17:13:36.964032Z"
    }
   },
   "outputs": [
    {
     "data": {
      "text/html": [
       "<div>\n",
       "<style scoped>\n",
       "    .dataframe tbody tr th:only-of-type {\n",
       "        vertical-align: middle;\n",
       "    }\n",
       "\n",
       "    .dataframe tbody tr th {\n",
       "        vertical-align: top;\n",
       "    }\n",
       "\n",
       "    .dataframe thead th {\n",
       "        text-align: right;\n",
       "    }\n",
       "</style>\n",
       "<table border=\"1\" class=\"dataframe\">\n",
       "  <thead>\n",
       "    <tr style=\"text-align: right;\">\n",
       "      <th></th>\n",
       "      <th>image\\label</th>\n",
       "      <th>impervious</th>\n",
       "      <th>water</th>\n",
       "      <th>clutter</th>\n",
       "      <th>vegetation</th>\n",
       "      <th>building</th>\n",
       "      <th>tree</th>\n",
       "      <th>boat</th>\n",
       "      <th>car</th>\n",
       "    </tr>\n",
       "  </thead>\n",
       "  <tbody>\n",
       "    <tr>\n",
       "      <th>count</th>\n",
       "      <td>3342.000000</td>\n",
       "      <td>3342.000000</td>\n",
       "      <td>3342.000000</td>\n",
       "      <td>3342.000000</td>\n",
       "      <td>3342.000000</td>\n",
       "      <td>3342.000000</td>\n",
       "      <td>3342.000000</td>\n",
       "      <td>3342.000000</td>\n",
       "      <td>3342.000000</td>\n",
       "    </tr>\n",
       "    <tr>\n",
       "      <th>mean</th>\n",
       "      <td>1671.500000</td>\n",
       "      <td>0.937463</td>\n",
       "      <td>0.298624</td>\n",
       "      <td>0.565829</td>\n",
       "      <td>0.324955</td>\n",
       "      <td>0.299521</td>\n",
       "      <td>0.077199</td>\n",
       "      <td>0.080790</td>\n",
       "      <td>0.210952</td>\n",
       "    </tr>\n",
       "    <tr>\n",
       "      <th>std</th>\n",
       "      <td>964.896627</td>\n",
       "      <td>0.242165</td>\n",
       "      <td>0.457723</td>\n",
       "      <td>0.495722</td>\n",
       "      <td>0.468428</td>\n",
       "      <td>0.458117</td>\n",
       "      <td>0.266947</td>\n",
       "      <td>0.272553</td>\n",
       "      <td>0.408045</td>\n",
       "    </tr>\n",
       "    <tr>\n",
       "      <th>min</th>\n",
       "      <td>1.000000</td>\n",
       "      <td>0.000000</td>\n",
       "      <td>0.000000</td>\n",
       "      <td>0.000000</td>\n",
       "      <td>0.000000</td>\n",
       "      <td>0.000000</td>\n",
       "      <td>0.000000</td>\n",
       "      <td>0.000000</td>\n",
       "      <td>0.000000</td>\n",
       "    </tr>\n",
       "    <tr>\n",
       "      <th>25%</th>\n",
       "      <td>836.250000</td>\n",
       "      <td>1.000000</td>\n",
       "      <td>0.000000</td>\n",
       "      <td>0.000000</td>\n",
       "      <td>0.000000</td>\n",
       "      <td>0.000000</td>\n",
       "      <td>0.000000</td>\n",
       "      <td>0.000000</td>\n",
       "      <td>0.000000</td>\n",
       "    </tr>\n",
       "    <tr>\n",
       "      <th>50%</th>\n",
       "      <td>1671.500000</td>\n",
       "      <td>1.000000</td>\n",
       "      <td>0.000000</td>\n",
       "      <td>1.000000</td>\n",
       "      <td>0.000000</td>\n",
       "      <td>0.000000</td>\n",
       "      <td>0.000000</td>\n",
       "      <td>0.000000</td>\n",
       "      <td>0.000000</td>\n",
       "    </tr>\n",
       "    <tr>\n",
       "      <th>75%</th>\n",
       "      <td>2506.750000</td>\n",
       "      <td>1.000000</td>\n",
       "      <td>1.000000</td>\n",
       "      <td>1.000000</td>\n",
       "      <td>1.000000</td>\n",
       "      <td>1.000000</td>\n",
       "      <td>0.000000</td>\n",
       "      <td>0.000000</td>\n",
       "      <td>0.000000</td>\n",
       "    </tr>\n",
       "    <tr>\n",
       "      <th>max</th>\n",
       "      <td>3342.000000</td>\n",
       "      <td>1.000000</td>\n",
       "      <td>1.000000</td>\n",
       "      <td>1.000000</td>\n",
       "      <td>1.000000</td>\n",
       "      <td>1.000000</td>\n",
       "      <td>1.000000</td>\n",
       "      <td>1.000000</td>\n",
       "      <td>1.000000</td>\n",
       "    </tr>\n",
       "  </tbody>\n",
       "</table>\n",
       "</div>"
      ],
      "text/plain": [
       "       image\\label   impervious        water      clutter   vegetation  \\\n",
       "count  3342.000000  3342.000000  3342.000000  3342.000000  3342.000000   \n",
       "mean   1671.500000     0.937463     0.298624     0.565829     0.324955   \n",
       "std     964.896627     0.242165     0.457723     0.495722     0.468428   \n",
       "min       1.000000     0.000000     0.000000     0.000000     0.000000   \n",
       "25%     836.250000     1.000000     0.000000     0.000000     0.000000   \n",
       "50%    1671.500000     1.000000     0.000000     1.000000     0.000000   \n",
       "75%    2506.750000     1.000000     1.000000     1.000000     1.000000   \n",
       "max    3342.000000     1.000000     1.000000     1.000000     1.000000   \n",
       "\n",
       "          building         tree         boat          car  \n",
       "count  3342.000000  3342.000000  3342.000000  3342.000000  \n",
       "mean      0.299521     0.077199     0.080790     0.210952  \n",
       "std       0.458117     0.266947     0.272553     0.408045  \n",
       "min       0.000000     0.000000     0.000000     0.000000  \n",
       "25%       0.000000     0.000000     0.000000     0.000000  \n",
       "50%       0.000000     0.000000     0.000000     0.000000  \n",
       "75%       1.000000     0.000000     0.000000     0.000000  \n",
       "max       1.000000     1.000000     1.000000     1.000000  "
      ]
     },
     "execution_count": 5,
     "metadata": {},
     "output_type": "execute_result"
    }
   ],
   "source": [
    "multilabel_df.describe()"
   ]
  },
  {
   "cell_type": "code",
   "execution_count": 6,
   "metadata": {
    "ExecuteTime": {
     "end_time": "2020-05-08T17:13:37.191502Z",
     "start_time": "2020-05-08T17:13:37.100737Z"
    }
   },
   "outputs": [
    {
     "name": "stdout",
     "output_type": "stream",
     "text": [
      "<class 'pandas.core.frame.DataFrame'>\n",
      "RangeIndex: 3342 entries, 0 to 3341\n",
      "Data columns (total 9 columns):\n",
      " #   Column       Non-Null Count  Dtype\n",
      "---  ------       --------------  -----\n",
      " 0   image\\label  3342 non-null   int64\n",
      " 1   impervious   3342 non-null   int64\n",
      " 2   water        3342 non-null   int64\n",
      " 3   clutter      3342 non-null   int64\n",
      " 4   vegetation   3342 non-null   int64\n",
      " 5   building     3342 non-null   int64\n",
      " 6   tree         3342 non-null   int64\n",
      " 7   boat         3342 non-null   int64\n",
      " 8   car          3342 non-null   int64\n",
      "dtypes: int64(9)\n",
      "memory usage: 235.1 KB\n"
     ]
    }
   ],
   "source": [
    "multilabel_df.info()"
   ]
  },
  {
   "cell_type": "markdown",
   "metadata": {},
   "source": [
    "## Sample Distributions"
   ]
  },
  {
   "cell_type": "code",
   "execution_count": 7,
   "metadata": {
    "ExecuteTime": {
     "end_time": "2020-05-08T17:13:37.304159Z",
     "start_time": "2020-05-08T17:13:37.192800Z"
    }
   },
   "outputs": [
    {
     "name": "stdout",
     "output_type": "stream",
     "text": [
      "Number of images in train set: 2673\n",
      "Number of images in test set: 669\n"
     ]
    }
   ],
   "source": [
    "print(\"Number of images in train set:\", len(glob.glob(os.path.join(TRAIN_IMAGES_PATH, \"*.png\"))))\n",
    "print(\"Number of images in test set:\", len(glob.glob(os.path.join(TEST_IMAGES_PATH, \"*.png\"))))"
   ]
  },
  {
   "cell_type": "code",
   "execution_count": 8,
   "metadata": {
    "ExecuteTime": {
     "end_time": "2020-05-08T17:13:37.443199Z",
     "start_time": "2020-05-08T17:13:37.306466Z"
    }
   },
   "outputs": [],
   "source": [
    "multilabel_df[\"in_train\"] = np.zeros((multilabel_df.shape[0],), dtype=int)"
   ]
  },
  {
   "cell_type": "code",
   "execution_count": 9,
   "metadata": {
    "ExecuteTime": {
     "end_time": "2020-05-08T17:13:40.468867Z",
     "start_time": "2020-05-08T17:13:37.444695Z"
    }
   },
   "outputs": [],
   "source": [
    "for image_file in glob.glob(os.path.join(TRAIN_IMAGES_PATH, \"*.png\")):\n",
    "    basename = os.path.basename(image_file)\n",
    "    image_id = os.path.splitext(basename)[0]\n",
    "    \n",
    "    multilabel_df.loc[multilabel_df[\"image\\\\label\"] == int(image_id), \"in_train\"] = 1"
   ]
  },
  {
   "cell_type": "code",
   "execution_count": 10,
   "metadata": {
    "ExecuteTime": {
     "end_time": "2020-05-08T17:13:40.475143Z",
     "start_time": "2020-05-08T17:13:40.470859Z"
    }
   },
   "outputs": [
    {
     "name": "stdout",
     "output_type": "stream",
     "text": [
      "Number of images in train set: 2673\n",
      "Number of images in test set: 669\n"
     ]
    }
   ],
   "source": [
    "print(\"Number of images in train set:\", multilabel_df[\"in_train\"].sum())\n",
    "print(\"Number of images in test set:\", (multilabel_df[\"in_train\"] == 0).sum())"
   ]
  },
  {
   "cell_type": "markdown",
   "metadata": {},
   "source": [
    "## Label Analysis"
   ]
  },
  {
   "cell_type": "code",
   "execution_count": 11,
   "metadata": {
    "ExecuteTime": {
     "end_time": "2020-05-08T17:13:40.563820Z",
     "start_time": "2020-05-08T17:13:40.476412Z"
    }
   },
   "outputs": [],
   "source": [
    "multilabel_df[\"total_label_count\"] = multilabel_df.drop([\"image\\\\label\", \"in_train\"], axis=1).sum(axis=1)"
   ]
  },
  {
   "cell_type": "code",
   "execution_count": 12,
   "metadata": {
    "ExecuteTime": {
     "end_time": "2020-05-08T17:13:40.677235Z",
     "start_time": "2020-05-08T17:13:40.565002Z"
    }
   },
   "outputs": [
    {
     "data": {
      "text/html": [
       "<div>\n",
       "<style scoped>\n",
       "    .dataframe tbody tr th:only-of-type {\n",
       "        vertical-align: middle;\n",
       "    }\n",
       "\n",
       "    .dataframe tbody tr th {\n",
       "        vertical-align: top;\n",
       "    }\n",
       "\n",
       "    .dataframe thead th {\n",
       "        text-align: right;\n",
       "    }\n",
       "</style>\n",
       "<table border=\"1\" class=\"dataframe\">\n",
       "  <thead>\n",
       "    <tr style=\"text-align: right;\">\n",
       "      <th></th>\n",
       "      <th>image\\label</th>\n",
       "      <th>impervious</th>\n",
       "      <th>water</th>\n",
       "      <th>clutter</th>\n",
       "      <th>vegetation</th>\n",
       "      <th>building</th>\n",
       "      <th>tree</th>\n",
       "      <th>boat</th>\n",
       "      <th>car</th>\n",
       "      <th>in_train</th>\n",
       "      <th>total_label_count</th>\n",
       "    </tr>\n",
       "  </thead>\n",
       "  <tbody>\n",
       "    <tr>\n",
       "      <th>0</th>\n",
       "      <td>1</td>\n",
       "      <td>1</td>\n",
       "      <td>1</td>\n",
       "      <td>0</td>\n",
       "      <td>0</td>\n",
       "      <td>0</td>\n",
       "      <td>0</td>\n",
       "      <td>0</td>\n",
       "      <td>0</td>\n",
       "      <td>1</td>\n",
       "      <td>2</td>\n",
       "    </tr>\n",
       "    <tr>\n",
       "      <th>1</th>\n",
       "      <td>2</td>\n",
       "      <td>1</td>\n",
       "      <td>1</td>\n",
       "      <td>0</td>\n",
       "      <td>0</td>\n",
       "      <td>0</td>\n",
       "      <td>0</td>\n",
       "      <td>0</td>\n",
       "      <td>0</td>\n",
       "      <td>1</td>\n",
       "      <td>2</td>\n",
       "    </tr>\n",
       "    <tr>\n",
       "      <th>2</th>\n",
       "      <td>3</td>\n",
       "      <td>1</td>\n",
       "      <td>1</td>\n",
       "      <td>0</td>\n",
       "      <td>0</td>\n",
       "      <td>0</td>\n",
       "      <td>0</td>\n",
       "      <td>0</td>\n",
       "      <td>0</td>\n",
       "      <td>0</td>\n",
       "      <td>2</td>\n",
       "    </tr>\n",
       "    <tr>\n",
       "      <th>3</th>\n",
       "      <td>4</td>\n",
       "      <td>1</td>\n",
       "      <td>1</td>\n",
       "      <td>0</td>\n",
       "      <td>0</td>\n",
       "      <td>0</td>\n",
       "      <td>0</td>\n",
       "      <td>0</td>\n",
       "      <td>0</td>\n",
       "      <td>1</td>\n",
       "      <td>2</td>\n",
       "    </tr>\n",
       "    <tr>\n",
       "      <th>4</th>\n",
       "      <td>5</td>\n",
       "      <td>1</td>\n",
       "      <td>1</td>\n",
       "      <td>0</td>\n",
       "      <td>0</td>\n",
       "      <td>0</td>\n",
       "      <td>0</td>\n",
       "      <td>0</td>\n",
       "      <td>0</td>\n",
       "      <td>1</td>\n",
       "      <td>2</td>\n",
       "    </tr>\n",
       "  </tbody>\n",
       "</table>\n",
       "</div>"
      ],
      "text/plain": [
       "   image\\label  impervious  water  clutter  vegetation  building  tree  boat  \\\n",
       "0            1           1      1        0           0         0     0     0   \n",
       "1            2           1      1        0           0         0     0     0   \n",
       "2            3           1      1        0           0         0     0     0   \n",
       "3            4           1      1        0           0         0     0     0   \n",
       "4            5           1      1        0           0         0     0     0   \n",
       "\n",
       "   car  in_train  total_label_count  \n",
       "0    0         1                  2  \n",
       "1    0         1                  2  \n",
       "2    0         0                  2  \n",
       "3    0         1                  2  \n",
       "4    0         1                  2  "
      ]
     },
     "execution_count": 12,
     "metadata": {},
     "output_type": "execute_result"
    }
   ],
   "source": [
    "multilabel_df.head()"
   ]
  },
  {
   "cell_type": "markdown",
   "metadata": {},
   "source": [
    "### Label Distributions to Samples"
   ]
  },
  {
   "cell_type": "code",
   "execution_count": 13,
   "metadata": {
    "ExecuteTime": {
     "end_time": "2020-05-08T17:13:40.840942Z",
     "start_time": "2020-05-08T17:13:40.678563Z"
    }
   },
   "outputs": [
    {
     "data": {
      "text/plain": [
       "count    3342.000000\n",
       "mean        2.795332\n",
       "std         0.948227\n",
       "min         2.000000\n",
       "25%         2.000000\n",
       "50%         2.000000\n",
       "75%         3.000000\n",
       "max         6.000000\n",
       "Name: total_label_count, dtype: float64"
      ]
     },
     "execution_count": 13,
     "metadata": {},
     "output_type": "execute_result"
    }
   ],
   "source": [
    "multilabel_df[\"total_label_count\"].describe()"
   ]
  },
  {
   "cell_type": "code",
   "execution_count": 14,
   "metadata": {
    "ExecuteTime": {
     "end_time": "2020-05-08T17:13:41.123789Z",
     "start_time": "2020-05-08T17:13:40.842235Z"
    }
   },
   "outputs": [
    {
     "data": {
      "image/png": "[encoded data removed]",
      "text/plain": [
       "<Figure size 1080x576 with 1 Axes>"
      ]
     },
     "metadata": {
      "needs_background": "light"
     },
     "output_type": "display_data"
    }
   ],
   "source": [
    "plt_data = multilabel_df.drop([\"image\\\\label\", \"total_label_count\", \"in_train\"], axis=1).sum(axis=0)\n",
    "\n",
    "fig, ax = plt.subplots(figsize=(15, 8))\n",
    "\n",
    "ax.bar(plt_data.index, plt_data.values, color=matplotlib.cm.rainbow(np.linspace(0, 1, 7)))\n",
    "\n",
    "rects = ax.patches\n",
    "labels = plt_data.values\n",
    "for rect, label in zip(rects, labels):\n",
    "    height = rect.get_height()\n",
    "    ax.text(rect.get_x() + rect.get_width() / 2, height + 5, label, ha=\"center\", va=\"bottom\")\n",
    "plt.title(\"Label Counts Plot\", fontsize=18)\n",
    "plt.xlabel(\"Label Name\", fontsize=16)\n",
    "plt.ylabel(\"Occurence Count\", fontsize=16)\n",
    "\n",
    "plt.show()"
   ]
  },
  {
   "cell_type": "markdown",
   "metadata": {},
   "source": [
    "### Label Distributions Over Train and Test Sets"
   ]
  },
  {
   "cell_type": "code",
   "execution_count": 15,
   "metadata": {
    "ExecuteTime": {
     "end_time": "2020-05-08T17:13:41.163091Z",
     "start_time": "2020-05-08T17:13:41.125300Z"
    }
   },
   "outputs": [
    {
     "data": {
      "text/html": [
       "<div>\n",
       "<style scoped>\n",
       "    .dataframe tbody tr th:only-of-type {\n",
       "        vertical-align: middle;\n",
       "    }\n",
       "\n",
       "    .dataframe tbody tr th {\n",
       "        vertical-align: top;\n",
       "    }\n",
       "\n",
       "    .dataframe thead th {\n",
       "        text-align: right;\n",
       "    }\n",
       "</style>\n",
       "<table border=\"1\" class=\"dataframe\">\n",
       "  <thead>\n",
       "    <tr style=\"text-align: right;\">\n",
       "      <th></th>\n",
       "      <th>image\\label</th>\n",
       "      <th>impervious</th>\n",
       "      <th>water</th>\n",
       "      <th>clutter</th>\n",
       "      <th>vegetation</th>\n",
       "      <th>building</th>\n",
       "      <th>tree</th>\n",
       "      <th>boat</th>\n",
       "      <th>car</th>\n",
       "      <th>in_train</th>\n",
       "      <th>total_label_count</th>\n",
       "    </tr>\n",
       "  </thead>\n",
       "  <tbody>\n",
       "    <tr>\n",
       "      <th>count</th>\n",
       "      <td>2673.000000</td>\n",
       "      <td>2673.000000</td>\n",
       "      <td>2673.000000</td>\n",
       "      <td>2673.000000</td>\n",
       "      <td>2673.000000</td>\n",
       "      <td>2673.000000</td>\n",
       "      <td>2673.000000</td>\n",
       "      <td>2673.000000</td>\n",
       "      <td>2673.000000</td>\n",
       "      <td>2673.0</td>\n",
       "      <td>2673.000000</td>\n",
       "    </tr>\n",
       "    <tr>\n",
       "      <th>mean</th>\n",
       "      <td>1663.259633</td>\n",
       "      <td>0.941264</td>\n",
       "      <td>0.295922</td>\n",
       "      <td>0.564160</td>\n",
       "      <td>0.324355</td>\n",
       "      <td>0.298167</td>\n",
       "      <td>0.075196</td>\n",
       "      <td>0.080808</td>\n",
       "      <td>0.207258</td>\n",
       "      <td>1.0</td>\n",
       "      <td>2.787131</td>\n",
       "    </tr>\n",
       "    <tr>\n",
       "      <th>std</th>\n",
       "      <td>967.507156</td>\n",
       "      <td>0.235173</td>\n",
       "      <td>0.456542</td>\n",
       "      <td>0.495959</td>\n",
       "      <td>0.468221</td>\n",
       "      <td>0.457539</td>\n",
       "      <td>0.263757</td>\n",
       "      <td>0.272591</td>\n",
       "      <td>0.405418</td>\n",
       "      <td>0.0</td>\n",
       "      <td>0.943755</td>\n",
       "    </tr>\n",
       "    <tr>\n",
       "      <th>min</th>\n",
       "      <td>1.000000</td>\n",
       "      <td>0.000000</td>\n",
       "      <td>0.000000</td>\n",
       "      <td>0.000000</td>\n",
       "      <td>0.000000</td>\n",
       "      <td>0.000000</td>\n",
       "      <td>0.000000</td>\n",
       "      <td>0.000000</td>\n",
       "      <td>0.000000</td>\n",
       "      <td>1.0</td>\n",
       "      <td>2.000000</td>\n",
       "    </tr>\n",
       "    <tr>\n",
       "      <th>25%</th>\n",
       "      <td>819.000000</td>\n",
       "      <td>1.000000</td>\n",
       "      <td>0.000000</td>\n",
       "      <td>0.000000</td>\n",
       "      <td>0.000000</td>\n",
       "      <td>0.000000</td>\n",
       "      <td>0.000000</td>\n",
       "      <td>0.000000</td>\n",
       "      <td>0.000000</td>\n",
       "      <td>1.0</td>\n",
       "      <td>2.000000</td>\n",
       "    </tr>\n",
       "    <tr>\n",
       "      <th>50%</th>\n",
       "      <td>1662.000000</td>\n",
       "      <td>1.000000</td>\n",
       "      <td>0.000000</td>\n",
       "      <td>1.000000</td>\n",
       "      <td>0.000000</td>\n",
       "      <td>0.000000</td>\n",
       "      <td>0.000000</td>\n",
       "      <td>0.000000</td>\n",
       "      <td>0.000000</td>\n",
       "      <td>1.0</td>\n",
       "      <td>2.000000</td>\n",
       "    </tr>\n",
       "    <tr>\n",
       "      <th>75%</th>\n",
       "      <td>2503.000000</td>\n",
       "      <td>1.000000</td>\n",
       "      <td>1.000000</td>\n",
       "      <td>1.000000</td>\n",
       "      <td>1.000000</td>\n",
       "      <td>1.000000</td>\n",
       "      <td>0.000000</td>\n",
       "      <td>0.000000</td>\n",
       "      <td>0.000000</td>\n",
       "      <td>1.0</td>\n",
       "      <td>3.000000</td>\n",
       "    </tr>\n",
       "    <tr>\n",
       "      <th>max</th>\n",
       "      <td>3342.000000</td>\n",
       "      <td>1.000000</td>\n",
       "      <td>1.000000</td>\n",
       "      <td>1.000000</td>\n",
       "      <td>1.000000</td>\n",
       "      <td>1.000000</td>\n",
       "      <td>1.000000</td>\n",
       "      <td>1.000000</td>\n",
       "      <td>1.000000</td>\n",
       "      <td>1.0</td>\n",
       "      <td>6.000000</td>\n",
       "    </tr>\n",
       "  </tbody>\n",
       "</table>\n",
       "</div>"
      ],
      "text/plain": [
       "       image\\label   impervious        water      clutter   vegetation  \\\n",
       "count  2673.000000  2673.000000  2673.000000  2673.000000  2673.000000   \n",
       "mean   1663.259633     0.941264     0.295922     0.564160     0.324355   \n",
       "std     967.507156     0.235173     0.456542     0.495959     0.468221   \n",
       "min       1.000000     0.000000     0.000000     0.000000     0.000000   \n",
       "25%     819.000000     1.000000     0.000000     0.000000     0.000000   \n",
       "50%    1662.000000     1.000000     0.000000     1.000000     0.000000   \n",
       "75%    2503.000000     1.000000     1.000000     1.000000     1.000000   \n",
       "max    3342.000000     1.000000     1.000000     1.000000     1.000000   \n",
       "\n",
       "          building         tree         boat          car  in_train  \\\n",
       "count  2673.000000  2673.000000  2673.000000  2673.000000    2673.0   \n",
       "mean      0.298167     0.075196     0.080808     0.207258       1.0   \n",
       "std       0.457539     0.263757     0.272591     0.405418       0.0   \n",
       "min       0.000000     0.000000     0.000000     0.000000       1.0   \n",
       "25%       0.000000     0.000000     0.000000     0.000000       1.0   \n",
       "50%       0.000000     0.000000     0.000000     0.000000       1.0   \n",
       "75%       1.000000     0.000000     0.000000     0.000000       1.0   \n",
       "max       1.000000     1.000000     1.000000     1.000000       1.0   \n",
       "\n",
       "       total_label_count  \n",
       "count        2673.000000  \n",
       "mean            2.787131  \n",
       "std             0.943755  \n",
       "min             2.000000  \n",
       "25%             2.000000  \n",
       "50%             2.000000  \n",
       "75%             3.000000  \n",
       "max             6.000000  "
      ]
     },
     "execution_count": 15,
     "metadata": {},
     "output_type": "execute_result"
    }
   ],
   "source": [
    "multilabel_df[multilabel_df[\"in_train\"] == 1].describe()"
   ]
  },
  {
   "cell_type": "code",
   "execution_count": 16,
   "metadata": {
    "ExecuteTime": {
     "end_time": "2020-05-08T17:13:41.269989Z",
     "start_time": "2020-05-08T17:13:41.164434Z"
    }
   },
   "outputs": [
    {
     "data": {
      "text/html": [
       "<div>\n",
       "<style scoped>\n",
       "    .dataframe tbody tr th:only-of-type {\n",
       "        vertical-align: middle;\n",
       "    }\n",
       "\n",
       "    .dataframe tbody tr th {\n",
       "        vertical-align: top;\n",
       "    }\n",
       "\n",
       "    .dataframe thead th {\n",
       "        text-align: right;\n",
       "    }\n",
       "</style>\n",
       "<table border=\"1\" class=\"dataframe\">\n",
       "  <thead>\n",
       "    <tr style=\"text-align: right;\">\n",
       "      <th></th>\n",
       "      <th>image\\label</th>\n",
       "      <th>impervious</th>\n",
       "      <th>water</th>\n",
       "      <th>clutter</th>\n",
       "      <th>vegetation</th>\n",
       "      <th>building</th>\n",
       "      <th>tree</th>\n",
       "      <th>boat</th>\n",
       "      <th>car</th>\n",
       "      <th>in_train</th>\n",
       "      <th>total_label_count</th>\n",
       "    </tr>\n",
       "  </thead>\n",
       "  <tbody>\n",
       "    <tr>\n",
       "      <th>count</th>\n",
       "      <td>669.000000</td>\n",
       "      <td>669.000000</td>\n",
       "      <td>669.000000</td>\n",
       "      <td>669.000000</td>\n",
       "      <td>669.000000</td>\n",
       "      <td>669.000000</td>\n",
       "      <td>669.000000</td>\n",
       "      <td>669.000000</td>\n",
       "      <td>669.000000</td>\n",
       "      <td>669.0</td>\n",
       "      <td>669.000000</td>\n",
       "    </tr>\n",
       "    <tr>\n",
       "      <th>mean</th>\n",
       "      <td>1704.424514</td>\n",
       "      <td>0.922272</td>\n",
       "      <td>0.309417</td>\n",
       "      <td>0.572496</td>\n",
       "      <td>0.327354</td>\n",
       "      <td>0.304933</td>\n",
       "      <td>0.085202</td>\n",
       "      <td>0.080717</td>\n",
       "      <td>0.225710</td>\n",
       "      <td>0.0</td>\n",
       "      <td>2.828102</td>\n",
       "    </tr>\n",
       "    <tr>\n",
       "      <th>std</th>\n",
       "      <td>954.402170</td>\n",
       "      <td>0.267943</td>\n",
       "      <td>0.462599</td>\n",
       "      <td>0.495087</td>\n",
       "      <td>0.469599</td>\n",
       "      <td>0.460723</td>\n",
       "      <td>0.279391</td>\n",
       "      <td>0.272605</td>\n",
       "      <td>0.418362</td>\n",
       "      <td>0.0</td>\n",
       "      <td>0.965910</td>\n",
       "    </tr>\n",
       "    <tr>\n",
       "      <th>min</th>\n",
       "      <td>3.000000</td>\n",
       "      <td>0.000000</td>\n",
       "      <td>0.000000</td>\n",
       "      <td>0.000000</td>\n",
       "      <td>0.000000</td>\n",
       "      <td>0.000000</td>\n",
       "      <td>0.000000</td>\n",
       "      <td>0.000000</td>\n",
       "      <td>0.000000</td>\n",
       "      <td>0.0</td>\n",
       "      <td>2.000000</td>\n",
       "    </tr>\n",
       "    <tr>\n",
       "      <th>25%</th>\n",
       "      <td>891.000000</td>\n",
       "      <td>1.000000</td>\n",
       "      <td>0.000000</td>\n",
       "      <td>0.000000</td>\n",
       "      <td>0.000000</td>\n",
       "      <td>0.000000</td>\n",
       "      <td>0.000000</td>\n",
       "      <td>0.000000</td>\n",
       "      <td>0.000000</td>\n",
       "      <td>0.0</td>\n",
       "      <td>2.000000</td>\n",
       "    </tr>\n",
       "    <tr>\n",
       "      <th>50%</th>\n",
       "      <td>1714.000000</td>\n",
       "      <td>1.000000</td>\n",
       "      <td>0.000000</td>\n",
       "      <td>1.000000</td>\n",
       "      <td>0.000000</td>\n",
       "      <td>0.000000</td>\n",
       "      <td>0.000000</td>\n",
       "      <td>0.000000</td>\n",
       "      <td>0.000000</td>\n",
       "      <td>0.0</td>\n",
       "      <td>3.000000</td>\n",
       "    </tr>\n",
       "    <tr>\n",
       "      <th>75%</th>\n",
       "      <td>2521.000000</td>\n",
       "      <td>1.000000</td>\n",
       "      <td>1.000000</td>\n",
       "      <td>1.000000</td>\n",
       "      <td>1.000000</td>\n",
       "      <td>1.000000</td>\n",
       "      <td>0.000000</td>\n",
       "      <td>0.000000</td>\n",
       "      <td>0.000000</td>\n",
       "      <td>0.0</td>\n",
       "      <td>4.000000</td>\n",
       "    </tr>\n",
       "    <tr>\n",
       "      <th>max</th>\n",
       "      <td>3324.000000</td>\n",
       "      <td>1.000000</td>\n",
       "      <td>1.000000</td>\n",
       "      <td>1.000000</td>\n",
       "      <td>1.000000</td>\n",
       "      <td>1.000000</td>\n",
       "      <td>1.000000</td>\n",
       "      <td>1.000000</td>\n",
       "      <td>1.000000</td>\n",
       "      <td>0.0</td>\n",
       "      <td>6.000000</td>\n",
       "    </tr>\n",
       "  </tbody>\n",
       "</table>\n",
       "</div>"
      ],
      "text/plain": [
       "       image\\label  impervious       water     clutter  vegetation  \\\n",
       "count   669.000000  669.000000  669.000000  669.000000  669.000000   \n",
       "mean   1704.424514    0.922272    0.309417    0.572496    0.327354   \n",
       "std     954.402170    0.267943    0.462599    0.495087    0.469599   \n",
       "min       3.000000    0.000000    0.000000    0.000000    0.000000   \n",
       "25%     891.000000    1.000000    0.000000    0.000000    0.000000   \n",
       "50%    1714.000000    1.000000    0.000000    1.000000    0.000000   \n",
       "75%    2521.000000    1.000000    1.000000    1.000000    1.000000   \n",
       "max    3324.000000    1.000000    1.000000    1.000000    1.000000   \n",
       "\n",
       "         building        tree        boat         car  in_train  \\\n",
       "count  669.000000  669.000000  669.000000  669.000000     669.0   \n",
       "mean     0.304933    0.085202    0.080717    0.225710       0.0   \n",
       "std      0.460723    0.279391    0.272605    0.418362       0.0   \n",
       "min      0.000000    0.000000    0.000000    0.000000       0.0   \n",
       "25%      0.000000    0.000000    0.000000    0.000000       0.0   \n",
       "50%      0.000000    0.000000    0.000000    0.000000       0.0   \n",
       "75%      1.000000    0.000000    0.000000    0.000000       0.0   \n",
       "max      1.000000    1.000000    1.000000    1.000000       0.0   \n",
       "\n",
       "       total_label_count  \n",
       "count         669.000000  \n",
       "mean            2.828102  \n",
       "std             0.965910  \n",
       "min             2.000000  \n",
       "25%             2.000000  \n",
       "50%             3.000000  \n",
       "75%             4.000000  \n",
       "max             6.000000  "
      ]
     },
     "execution_count": 16,
     "metadata": {},
     "output_type": "execute_result"
    }
   ],
   "source": [
    "multilabel_df[multilabel_df[\"in_train\"] == 0].describe()"
   ]
  },
  {
   "cell_type": "markdown",
   "metadata": {},
   "source": [
    "## Label Correlations"
   ]
  },
  {
   "cell_type": "code",
   "execution_count": 17,
   "metadata": {
    "ExecuteTime": {
     "end_time": "2020-05-08T17:13:41.347159Z",
     "start_time": "2020-05-08T17:13:41.271292Z"
    }
   },
   "outputs": [
    {
     "data": {
      "text/html": [
       "<div>\n",
       "<style scoped>\n",
       "    .dataframe tbody tr th:only-of-type {\n",
       "        vertical-align: middle;\n",
       "    }\n",
       "\n",
       "    .dataframe tbody tr th {\n",
       "        vertical-align: top;\n",
       "    }\n",
       "\n",
       "    .dataframe thead th {\n",
       "        text-align: right;\n",
       "    }\n",
       "</style>\n",
       "<table border=\"1\" class=\"dataframe\">\n",
       "  <thead>\n",
       "    <tr style=\"text-align: right;\">\n",
       "      <th></th>\n",
       "      <th>impervious</th>\n",
       "      <th>water</th>\n",
       "      <th>clutter</th>\n",
       "      <th>vegetation</th>\n",
       "      <th>building</th>\n",
       "      <th>tree</th>\n",
       "      <th>boat</th>\n",
       "      <th>car</th>\n",
       "    </tr>\n",
       "  </thead>\n",
       "  <tbody>\n",
       "    <tr>\n",
       "      <th>impervious</th>\n",
       "      <td>1.000000</td>\n",
       "      <td>-0.301318</td>\n",
       "      <td>-0.009329</td>\n",
       "      <td>0.015609</td>\n",
       "      <td>0.152704</td>\n",
       "      <td>-0.129018</td>\n",
       "      <td>-0.367842</td>\n",
       "      <td>0.133546</td>\n",
       "    </tr>\n",
       "    <tr>\n",
       "      <th>water</th>\n",
       "      <td>-0.301318</td>\n",
       "      <td>1.000000</td>\n",
       "      <td>-0.267381</td>\n",
       "      <td>-0.105124</td>\n",
       "      <td>-0.201152</td>\n",
       "      <td>-0.068699</td>\n",
       "      <td>0.425553</td>\n",
       "      <td>-0.159502</td>\n",
       "    </tr>\n",
       "    <tr>\n",
       "      <th>clutter</th>\n",
       "      <td>-0.009329</td>\n",
       "      <td>-0.267381</td>\n",
       "      <td>1.000000</td>\n",
       "      <td>-0.486573</td>\n",
       "      <td>-0.426228</td>\n",
       "      <td>-0.296263</td>\n",
       "      <td>-0.048236</td>\n",
       "      <td>-0.246978</td>\n",
       "    </tr>\n",
       "    <tr>\n",
       "      <th>vegetation</th>\n",
       "      <td>0.015609</td>\n",
       "      <td>-0.105124</td>\n",
       "      <td>-0.486573</td>\n",
       "      <td>1.000000</td>\n",
       "      <td>0.409673</td>\n",
       "      <td>0.412089</td>\n",
       "      <td>-0.168181</td>\n",
       "      <td>0.291117</td>\n",
       "    </tr>\n",
       "    <tr>\n",
       "      <th>building</th>\n",
       "      <td>0.152704</td>\n",
       "      <td>-0.201152</td>\n",
       "      <td>-0.426228</td>\n",
       "      <td>0.409673</td>\n",
       "      <td>1.000000</td>\n",
       "      <td>0.104566</td>\n",
       "      <td>-0.054825</td>\n",
       "      <td>0.523324</td>\n",
       "    </tr>\n",
       "    <tr>\n",
       "      <th>tree</th>\n",
       "      <td>-0.129018</td>\n",
       "      <td>-0.068699</td>\n",
       "      <td>-0.296263</td>\n",
       "      <td>0.412089</td>\n",
       "      <td>0.104566</td>\n",
       "      <td>1.000000</td>\n",
       "      <td>-0.085748</td>\n",
       "      <td>0.023561</td>\n",
       "    </tr>\n",
       "    <tr>\n",
       "      <th>boat</th>\n",
       "      <td>-0.367842</td>\n",
       "      <td>0.425553</td>\n",
       "      <td>-0.048236</td>\n",
       "      <td>-0.168181</td>\n",
       "      <td>-0.054825</td>\n",
       "      <td>-0.085748</td>\n",
       "      <td>1.000000</td>\n",
       "      <td>-0.005267</td>\n",
       "    </tr>\n",
       "    <tr>\n",
       "      <th>car</th>\n",
       "      <td>0.133546</td>\n",
       "      <td>-0.159502</td>\n",
       "      <td>-0.246978</td>\n",
       "      <td>0.291117</td>\n",
       "      <td>0.523324</td>\n",
       "      <td>0.023561</td>\n",
       "      <td>-0.005267</td>\n",
       "      <td>1.000000</td>\n",
       "    </tr>\n",
       "  </tbody>\n",
       "</table>\n",
       "</div>"
      ],
      "text/plain": [
       "            impervious     water   clutter  vegetation  building      tree  \\\n",
       "impervious    1.000000 -0.301318 -0.009329    0.015609  0.152704 -0.129018   \n",
       "water        -0.301318  1.000000 -0.267381   -0.105124 -0.201152 -0.068699   \n",
       "clutter      -0.009329 -0.267381  1.000000   -0.486573 -0.426228 -0.296263   \n",
       "vegetation    0.015609 -0.105124 -0.486573    1.000000  0.409673  0.412089   \n",
       "building      0.152704 -0.201152 -0.426228    0.409673  1.000000  0.104566   \n",
       "tree         -0.129018 -0.068699 -0.296263    0.412089  0.104566  1.000000   \n",
       "boat         -0.367842  0.425553 -0.048236   -0.168181 -0.054825 -0.085748   \n",
       "car           0.133546 -0.159502 -0.246978    0.291117  0.523324  0.023561   \n",
       "\n",
       "                boat       car  \n",
       "impervious -0.367842  0.133546  \n",
       "water       0.425553 -0.159502  \n",
       "clutter    -0.048236 -0.246978  \n",
       "vegetation -0.168181  0.291117  \n",
       "building   -0.054825  0.523324  \n",
       "tree       -0.085748  0.023561  \n",
       "boat        1.000000 -0.005267  \n",
       "car        -0.005267  1.000000  "
      ]
     },
     "execution_count": 17,
     "metadata": {},
     "output_type": "execute_result"
    }
   ],
   "source": [
    "just_labels_df = multilabel_df.drop([\"image\\\\label\", \"total_label_count\", \"in_train\"], axis=1)\n",
    "just_labels_df.corr()"
   ]
  },
  {
   "cell_type": "code",
   "execution_count": 18,
   "metadata": {
    "ExecuteTime": {
     "end_time": "2020-05-08T17:13:41.655929Z",
     "start_time": "2020-05-08T17:13:41.348377Z"
    }
   },
   "outputs": [
    {
     "data": {
      "image/png": "[encoded data removed]",
      "text/plain": [
       "<Figure size 576x576 with 2 Axes>"
      ]
     },
     "metadata": {
      "needs_background": "light"
     },
     "output_type": "display_data"
    }
   ],
   "source": [
    "fig, ax = plt.subplots(figsize=(8, 8))\n",
    "\n",
    "ax.xaxis.tick_top()\n",
    "im = ax.imshow(just_labels_df.corr())\n",
    "plt.xticks(ticks=np.arange(just_labels_df.shape[1]), labels=just_labels_df.columns)\n",
    "plt.yticks(ticks=np.arange(just_labels_df.shape[1]), labels=just_labels_df.columns)\n",
    "\n",
    "cbar = ax.figure.colorbar(im, ax=ax)\n",
    "cbar.ax.set_ylabel(\"Pearson Correlation Coef.\", rotation=-90, va=\"bottom\")\n",
    "\n",
    "plt.title(\"Labels Correlation Plot\")\n",
    "\n",
    "plt.show()"
   ]
  },
  {
   "cell_type": "markdown",
   "metadata": {},
   "source": [
    "## Subset Analysis"
   ]
  },
  {
   "cell_type": "code",
   "execution_count": 19,
   "metadata": {
    "ExecuteTime": {
     "end_time": "2020-05-08T17:13:41.663620Z",
     "start_time": "2020-05-08T17:13:41.657284Z"
    }
   },
   "outputs": [],
   "source": [
    "total_unique_subsets = multilabel_df.drop([\"image\\\\label\", \"in_train\", \"total_label_count\"], axis=1).drop_duplicates().values"
   ]
  },
  {
   "cell_type": "markdown",
   "metadata": {},
   "source": [
    "### Total Number of Unique Subsets"
   ]
  },
  {
   "cell_type": "code",
   "execution_count": 20,
   "metadata": {
    "ExecuteTime": {
     "end_time": "2020-05-08T17:13:41.762418Z",
     "start_time": "2020-05-08T17:13:41.664917Z"
    }
   },
   "outputs": [
    {
     "name": "stdout",
     "output_type": "stream",
     "text": [
      "Number of unique subsets in whole dataset: 65\n"
     ]
    }
   ],
   "source": [
    "len(total_unique_subsets)\n",
    "print(f\"Number of unique subsets in whole dataset: {len(total_unique_subsets)}\")"
   ]
  },
  {
   "cell_type": "markdown",
   "metadata": {},
   "source": [
    "### Total Number of Unique Subsets in Train Set"
   ]
  },
  {
   "cell_type": "code",
   "execution_count": 21,
   "metadata": {
    "ExecuteTime": {
     "end_time": "2020-05-08T17:13:41.866075Z",
     "start_time": "2020-05-08T17:13:41.763589Z"
    }
   },
   "outputs": [],
   "source": [
    "training_subsets = multilabel_df[multilabel_df[\"in_train\"] == 1] \\\n",
    "    .drop([\"image\\\\label\", \"in_train\", \"total_label_count\"], axis=1).drop_duplicates().values"
   ]
  },
  {
   "cell_type": "code",
   "execution_count": 22,
   "metadata": {
    "ExecuteTime": {
     "end_time": "2020-05-08T17:13:41.962512Z",
     "start_time": "2020-05-08T17:13:41.867286Z"
    }
   },
   "outputs": [
    {
     "name": "stdout",
     "output_type": "stream",
     "text": [
      "Number of unique subsets in train set: 64\n"
     ]
    }
   ],
   "source": [
    "print(f\"Number of unique subsets in train set: {len(training_subsets)}\")"
   ]
  },
  {
   "cell_type": "markdown",
   "metadata": {},
   "source": [
    "### Total Number of Subsets Do Not Exist in Train Set"
   ]
  },
  {
   "cell_type": "code",
   "execution_count": 23,
   "metadata": {
    "ExecuteTime": {
     "end_time": "2020-05-08T17:13:42.062787Z",
     "start_time": "2020-05-08T17:13:41.965926Z"
    }
   },
   "outputs": [
    {
     "name": "stdout",
     "output_type": "stream",
     "text": [
      "Number of subsets which do not exist in train set:     1\n"
     ]
    }
   ],
   "source": [
    "print(f\"Number of subsets which do not exist in train set: \\\n",
    "    {len(set(map(tuple, total_unique_subsets)) - set(map(tuple, training_subsets)))}\")"
   ]
  },
  {
   "cell_type": "markdown",
   "metadata": {},
   "source": [
    "### Total Number of Unique Subsets in Test Set"
   ]
  },
  {
   "cell_type": "code",
   "execution_count": 24,
   "metadata": {
    "ExecuteTime": {
     "end_time": "2020-05-08T17:13:42.166026Z",
     "start_time": "2020-05-08T17:13:42.064875Z"
    }
   },
   "outputs": [],
   "source": [
    "test_subsets = multilabel_df[multilabel_df[\"in_train\"] == 0] \\\n",
    "    .drop([\"image\\\\label\", \"in_train\", \"total_label_count\"], axis=1).drop_duplicates().values"
   ]
  },
  {
   "cell_type": "code",
   "execution_count": 25,
   "metadata": {
    "ExecuteTime": {
     "end_time": "2020-05-08T17:13:42.262429Z",
     "start_time": "2020-05-08T17:13:42.167255Z"
    }
   },
   "outputs": [
    {
     "name": "stdout",
     "output_type": "stream",
     "text": [
      "Number of unique subsets in test set: 50\n"
     ]
    }
   ],
   "source": [
    "print(f\"Number of unique subsets in test set: {len(test_subsets)}\")"
   ]
  },
  {
   "cell_type": "markdown",
   "metadata": {},
   "source": [
    "### Total Number of Subsets Do Not Exist in Test Set"
   ]
  },
  {
   "cell_type": "code",
   "execution_count": 26,
   "metadata": {
    "ExecuteTime": {
     "end_time": "2020-05-08T17:13:42.362747Z",
     "start_time": "2020-05-08T17:13:42.263866Z"
    }
   },
   "outputs": [
    {
     "name": "stdout",
     "output_type": "stream",
     "text": [
      "Number of subsets which do not exist in test set:     15\n"
     ]
    }
   ],
   "source": [
    "print(f\"Number of subsets which do not exist in test set: \\\n",
    "    {len(set(map(tuple, total_unique_subsets)) - set(map(tuple, test_subsets)))}\")"
   ]
  },
  {
   "cell_type": "markdown",
   "metadata": {},
   "source": [
    "## Assigning Subsets to the Samples"
   ]
  },
  {
   "cell_type": "code",
   "execution_count": 27,
   "metadata": {
    "ExecuteTime": {
     "end_time": "2020-05-08T17:13:42.497362Z",
     "start_time": "2020-05-08T17:13:42.363983Z"
    }
   },
   "outputs": [],
   "source": [
    "multilabel_df[\"subset\"] = multilabel_df.drop([\"image\\\\label\", \"in_train\", \"total_label_count\"], axis=1) \\\n",
    "    .apply(lambda x: (x.values.reshape(1, -1) == total_unique_subsets).all(axis=1).nonzero()[0][0], axis=1)"
   ]
  },
  {
   "cell_type": "code",
   "execution_count": 28,
   "metadata": {
    "ExecuteTime": {
     "end_time": "2020-05-08T17:13:42.571274Z",
     "start_time": "2020-05-08T17:13:42.498610Z"
    }
   },
   "outputs": [
    {
     "data": {
      "text/html": [
       "<div>\n",
       "<style scoped>\n",
       "    .dataframe tbody tr th:only-of-type {\n",
       "        vertical-align: middle;\n",
       "    }\n",
       "\n",
       "    .dataframe tbody tr th {\n",
       "        vertical-align: top;\n",
       "    }\n",
       "\n",
       "    .dataframe thead th {\n",
       "        text-align: right;\n",
       "    }\n",
       "</style>\n",
       "<table border=\"1\" class=\"dataframe\">\n",
       "  <thead>\n",
       "    <tr style=\"text-align: right;\">\n",
       "      <th></th>\n",
       "      <th>image\\label</th>\n",
       "      <th>impervious</th>\n",
       "      <th>water</th>\n",
       "      <th>clutter</th>\n",
       "      <th>vegetation</th>\n",
       "      <th>building</th>\n",
       "      <th>tree</th>\n",
       "      <th>boat</th>\n",
       "      <th>car</th>\n",
       "      <th>in_train</th>\n",
       "      <th>total_label_count</th>\n",
       "      <th>subset</th>\n",
       "    </tr>\n",
       "  </thead>\n",
       "  <tbody>\n",
       "    <tr>\n",
       "      <th>1360</th>\n",
       "      <td>1361</td>\n",
       "      <td>1</td>\n",
       "      <td>0</td>\n",
       "      <td>1</td>\n",
       "      <td>0</td>\n",
       "      <td>0</td>\n",
       "      <td>0</td>\n",
       "      <td>0</td>\n",
       "      <td>0</td>\n",
       "      <td>1</td>\n",
       "      <td>2</td>\n",
       "      <td>6</td>\n",
       "    </tr>\n",
       "    <tr>\n",
       "      <th>926</th>\n",
       "      <td>927</td>\n",
       "      <td>1</td>\n",
       "      <td>1</td>\n",
       "      <td>0</td>\n",
       "      <td>0</td>\n",
       "      <td>0</td>\n",
       "      <td>0</td>\n",
       "      <td>0</td>\n",
       "      <td>0</td>\n",
       "      <td>1</td>\n",
       "      <td>2</td>\n",
       "      <td>0</td>\n",
       "    </tr>\n",
       "    <tr>\n",
       "      <th>976</th>\n",
       "      <td>977</td>\n",
       "      <td>1</td>\n",
       "      <td>1</td>\n",
       "      <td>1</td>\n",
       "      <td>0</td>\n",
       "      <td>0</td>\n",
       "      <td>0</td>\n",
       "      <td>0</td>\n",
       "      <td>0</td>\n",
       "      <td>1</td>\n",
       "      <td>3</td>\n",
       "      <td>1</td>\n",
       "    </tr>\n",
       "    <tr>\n",
       "      <th>2961</th>\n",
       "      <td>2962</td>\n",
       "      <td>1</td>\n",
       "      <td>1</td>\n",
       "      <td>0</td>\n",
       "      <td>1</td>\n",
       "      <td>0</td>\n",
       "      <td>1</td>\n",
       "      <td>0</td>\n",
       "      <td>0</td>\n",
       "      <td>1</td>\n",
       "      <td>4</td>\n",
       "      <td>53</td>\n",
       "    </tr>\n",
       "    <tr>\n",
       "      <th>864</th>\n",
       "      <td>865</td>\n",
       "      <td>1</td>\n",
       "      <td>0</td>\n",
       "      <td>1</td>\n",
       "      <td>0</td>\n",
       "      <td>0</td>\n",
       "      <td>0</td>\n",
       "      <td>0</td>\n",
       "      <td>0</td>\n",
       "      <td>1</td>\n",
       "      <td>2</td>\n",
       "      <td>6</td>\n",
       "    </tr>\n",
       "    <tr>\n",
       "      <th>63</th>\n",
       "      <td>64</td>\n",
       "      <td>1</td>\n",
       "      <td>0</td>\n",
       "      <td>1</td>\n",
       "      <td>0</td>\n",
       "      <td>1</td>\n",
       "      <td>0</td>\n",
       "      <td>0</td>\n",
       "      <td>0</td>\n",
       "      <td>1</td>\n",
       "      <td>3</td>\n",
       "      <td>3</td>\n",
       "    </tr>\n",
       "    <tr>\n",
       "      <th>2814</th>\n",
       "      <td>2815</td>\n",
       "      <td>1</td>\n",
       "      <td>0</td>\n",
       "      <td>0</td>\n",
       "      <td>1</td>\n",
       "      <td>1</td>\n",
       "      <td>1</td>\n",
       "      <td>0</td>\n",
       "      <td>1</td>\n",
       "      <td>1</td>\n",
       "      <td>5</td>\n",
       "      <td>47</td>\n",
       "    </tr>\n",
       "    <tr>\n",
       "      <th>2666</th>\n",
       "      <td>2667</td>\n",
       "      <td>1</td>\n",
       "      <td>0</td>\n",
       "      <td>0</td>\n",
       "      <td>1</td>\n",
       "      <td>1</td>\n",
       "      <td>0</td>\n",
       "      <td>0</td>\n",
       "      <td>1</td>\n",
       "      <td>1</td>\n",
       "      <td>4</td>\n",
       "      <td>28</td>\n",
       "    </tr>\n",
       "    <tr>\n",
       "      <th>444</th>\n",
       "      <td>445</td>\n",
       "      <td>1</td>\n",
       "      <td>0</td>\n",
       "      <td>1</td>\n",
       "      <td>0</td>\n",
       "      <td>0</td>\n",
       "      <td>0</td>\n",
       "      <td>0</td>\n",
       "      <td>0</td>\n",
       "      <td>1</td>\n",
       "      <td>2</td>\n",
       "      <td>6</td>\n",
       "    </tr>\n",
       "    <tr>\n",
       "      <th>2245</th>\n",
       "      <td>2246</td>\n",
       "      <td>1</td>\n",
       "      <td>0</td>\n",
       "      <td>0</td>\n",
       "      <td>1</td>\n",
       "      <td>1</td>\n",
       "      <td>0</td>\n",
       "      <td>0</td>\n",
       "      <td>1</td>\n",
       "      <td>1</td>\n",
       "      <td>4</td>\n",
       "      <td>28</td>\n",
       "    </tr>\n",
       "  </tbody>\n",
       "</table>\n",
       "</div>"
      ],
      "text/plain": [
       "      image\\label  impervious  water  clutter  vegetation  building  tree  \\\n",
       "1360         1361           1      0        1           0         0     0   \n",
       "926           927           1      1        0           0         0     0   \n",
       "976           977           1      1        1           0         0     0   \n",
       "2961         2962           1      1        0           1         0     1   \n",
       "864           865           1      0        1           0         0     0   \n",
       "63             64           1      0        1           0         1     0   \n",
       "2814         2815           1      0        0           1         1     1   \n",
       "2666         2667           1      0        0           1         1     0   \n",
       "444           445           1      0        1           0         0     0   \n",
       "2245         2246           1      0        0           1         1     0   \n",
       "\n",
       "      boat  car  in_train  total_label_count  subset  \n",
       "1360     0    0         1                  2       6  \n",
       "926      0    0         1                  2       0  \n",
       "976      0    0         1                  3       1  \n",
       "2961     0    0         1                  4      53  \n",
       "864      0    0         1                  2       6  \n",
       "63       0    0         1                  3       3  \n",
       "2814     0    1         1                  5      47  \n",
       "2666     0    1         1                  4      28  \n",
       "444      0    0         1                  2       6  \n",
       "2245     0    1         1                  4      28  "
      ]
     },
     "execution_count": 28,
     "metadata": {},
     "output_type": "execute_result"
    }
   ],
   "source": [
    "multilabel_df.sample(10)"
   ]
  },
  {
   "cell_type": "markdown",
   "metadata": {},
   "source": [
    "### Subset Distribution in the Dataset"
   ]
  },
  {
   "cell_type": "code",
   "execution_count": 29,
   "metadata": {
    "ExecuteTime": {
     "end_time": "2020-05-08T17:13:43.437817Z",
     "start_time": "2020-05-08T17:13:42.572363Z"
    }
   },
   "outputs": [
    {
     "data": {
      "image/png": "[encoded data removed]",
      "text/plain": [
       "<Figure size 1080x576 with 1 Axes>"
      ]
     },
     "metadata": {
      "needs_background": "light"
     },
     "output_type": "display_data"
    }
   ],
   "source": [
    "subset_value_counts = multilabel_df[\"subset\"].value_counts()\n",
    "\n",
    "fig, ax = plt.subplots(figsize=(15, 8))\n",
    "\n",
    "subset_value_counts.plot.bar(ax=ax, color=matplotlib.cm.rainbow(np.linspace(0, 1, len(total_unique_subsets))))\n",
    "\n",
    "rects = ax.patches\n",
    "labels = subset_value_counts.values\n",
    "for rect, label in zip(rects, labels):\n",
    "    height = rect.get_height()\n",
    "    ax.text(rect.get_x() + rect.get_width() / 2, height + 5, label, ha=\"center\", va=\"bottom\")\n",
    "plt.title(\"Subset Counts Plot\", fontsize=18)\n",
    "plt.xlabel(\"Subset ID\", fontsize=16)\n",
    "plt.ylabel(\"Occurence Count\", fontsize=16)\n",
    "\n",
    "plt.show()"
   ]
  },
  {
   "cell_type": "markdown",
   "metadata": {},
   "source": [
    "### Subset Distribution in Train Set"
   ]
  },
  {
   "cell_type": "code",
   "execution_count": 30,
   "metadata": {
    "ExecuteTime": {
     "end_time": "2020-05-08T17:13:44.104984Z",
     "start_time": "2020-05-08T17:13:43.439394Z"
    }
   },
   "outputs": [
    {
     "data": {
      "image/png": "[encoded data removed]",
      "text/plain": [
       "<Figure size 1080x576 with 1 Axes>"
      ]
     },
     "metadata": {
      "needs_background": "light"
     },
     "output_type": "display_data"
    }
   ],
   "source": [
    "subset_value_counts = multilabel_df[multilabel_df[\"in_train\"] == 1][\"subset\"].value_counts()\n",
    "\n",
    "fig, ax = plt.subplots(figsize=(15, 8))\n",
    "\n",
    "subset_value_counts.plot.bar(ax=ax, color=matplotlib.cm.rainbow(np.linspace(0, 1, len(total_unique_subsets))))\n",
    "\n",
    "rects = ax.patches\n",
    "labels = subset_value_counts.values\n",
    "for rect, label in zip(rects, labels):\n",
    "    height = rect.get_height()\n",
    "    ax.text(rect.get_x() + rect.get_width() / 2, height + 5, label, ha=\"center\", va=\"bottom\")\n",
    "plt.title(\"Subset Counts Plot\", fontsize=18)\n",
    "plt.xlabel(\"Subset ID\", fontsize=16)\n",
    "plt.ylabel(\"Occurence Count\", fontsize=16)\n",
    "\n",
    "plt.show()"
   ]
  },
  {
   "cell_type": "markdown",
   "metadata": {},
   "source": [
    "### Subset Distribution in Test Set"
   ]
  },
  {
   "cell_type": "code",
   "execution_count": 31,
   "metadata": {
    "ExecuteTime": {
     "end_time": "2020-05-08T17:13:44.580986Z",
     "start_time": "2020-05-08T17:13:44.106472Z"
    }
   },
   "outputs": [
    {
     "data": {
      "image/png": "[encoded data removed]",
      "text/plain": [
       "<Figure size 1080x576 with 1 Axes>"
      ]
     },
     "metadata": {
      "needs_background": "light"
     },
     "output_type": "display_data"
    }
   ],
   "source": [
    "subset_value_counts = multilabel_df[multilabel_df[\"in_train\"] == 0][\"subset\"].value_counts()\n",
    "\n",
    "fig, ax = plt.subplots(figsize=(15, 8))\n",
    "\n",
    "subset_value_counts.plot.bar(ax=ax, color=matplotlib.cm.rainbow(np.linspace(0, 1, len(total_unique_subsets))))\n",
    "rects = ax.patches\n",
    "labels = subset_value_counts.values\n",
    "for rect, label in zip(rects, labels):\n",
    "    height = rect.get_height()\n",
    "    ax.text(rect.get_x() + rect.get_width() / 2, height + 5, label, ha=\"center\", va=\"bottom\")\n",
    "plt.title(\"Subset Counts Plot\", fontsize=18)\n",
    "plt.xlabel(\"Subset ID\", fontsize=16)\n",
    "plt.ylabel(\"Occurence Count\", fontsize=16)\n",
    "\n",
    "plt.show()"
   ]
  },
  {
   "cell_type": "markdown",
   "metadata": {},
   "source": [
    "# Feature Extraction"
   ]
  },
  {
   "cell_type": "code",
   "execution_count": 32,
   "metadata": {
    "ExecuteTime": {
     "end_time": "2020-05-08T17:13:45.825876Z",
     "start_time": "2020-05-08T17:13:44.582483Z"
    }
   },
   "outputs": [],
   "source": [
    "vgg16_network = VGG16(include_top=False,\n",
    "                      weights='imagenet',\n",
    "                      input_shape=(224, 224, 3),\n",
    "                      pooling=None)"
   ]
  },
  {
   "cell_type": "code",
   "execution_count": 33,
   "metadata": {
    "ExecuteTime": {
     "end_time": "2020-05-08T17:14:39.691445Z",
     "start_time": "2020-05-08T17:13:45.827145Z"
    }
   },
   "outputs": [],
   "source": [
    "resized_raw_train_images = list()\n",
    "resized_raw_train_labels = list()\n",
    "\n",
    "for raw_image_file in glob.glob(os.path.join(TRAIN_IMAGES_PATH, \"*.png\")):\n",
    "    raw_img = cv2.imread(raw_image_file)\n",
    "    raw_img = cv2.cvtColor(raw_img, cv2.COLOR_BGR2RGB)\n",
    "    \n",
    "    resized_raw_img = cv2.resize(raw_img, (224, 224))\n",
    "    \n",
    "    resized_raw_train_images.append(resized_raw_img)\n",
    "    resized_raw_train_labels.append(os.path.basename(raw_image_file).split(\".\")[0])"
   ]
  },
  {
   "cell_type": "code",
   "execution_count": 34,
   "metadata": {
    "ExecuteTime": {
     "end_time": "2020-05-08T17:14:39.770500Z",
     "start_time": "2020-05-08T17:14:39.696451Z"
    }
   },
   "outputs": [],
   "source": [
    "preprediction_images = np.array(resized_raw_train_images)"
   ]
  },
  {
   "cell_type": "code",
   "execution_count": 35,
   "metadata": {
    "ExecuteTime": {
     "end_time": "2020-05-08T17:14:39.830215Z",
     "start_time": "2020-05-08T17:14:39.775073Z"
    }
   },
   "outputs": [
    {
     "data": {
      "text/plain": [
       "(2673, 224, 224, 3)"
      ]
     },
     "execution_count": 35,
     "metadata": {},
     "output_type": "execute_result"
    }
   ],
   "source": [
    "preprediction_images.shape"
   ]
  },
  {
   "cell_type": "markdown",
   "metadata": {},
   "source": [
    "## CITF Creation With Word Embedding\n",
    "\n",
    "**Plan**:\n",
    "\n",
    "<img src=\"./Enhanced CITF Vector Creation Plan.png\" />"
   ]
  },
  {
   "cell_type": "code",
   "execution_count": 36,
   "metadata": {
    "ExecuteTime": {
     "end_time": "2020-05-08T17:14:39.938056Z",
     "start_time": "2020-05-08T17:14:39.834452Z"
    }
   },
   "outputs": [],
   "source": [
    "label_sequence_train = multilabel_df[multilabel_df[\"in_train\"] == 1] \\\n",
    "    .drop([\"image\\\\label\", \"in_train\", \"total_label_count\", \"subset\"], axis=1).values"
   ]
  },
  {
   "cell_type": "code",
   "execution_count": 37,
   "metadata": {
    "ExecuteTime": {
     "end_time": "2020-05-08T17:14:40.046748Z",
     "start_time": "2020-05-08T17:14:39.939265Z"
    }
   },
   "outputs": [
    {
     "data": {
      "text/plain": [
       "(2673, 8)"
      ]
     },
     "execution_count": 37,
     "metadata": {},
     "output_type": "execute_result"
    }
   ],
   "source": [
    "label_sequence_train.shape"
   ]
  },
  {
   "cell_type": "code",
   "execution_count": 38,
   "metadata": {
    "ExecuteTime": {
     "end_time": "2020-05-08T17:14:40.156156Z",
     "start_time": "2020-05-08T17:14:40.048735Z"
    }
   },
   "outputs": [],
   "source": [
    "label_sequence_test = multilabel_df[multilabel_df[\"in_train\"] == 0] \\\n",
    "    .drop([\"image\\\\label\", \"in_train\", \"total_label_count\", \"subset\"], axis=1).values"
   ]
  },
  {
   "cell_type": "code",
   "execution_count": 39,
   "metadata": {
    "ExecuteTime": {
     "end_time": "2020-05-08T17:14:40.272730Z",
     "start_time": "2020-05-08T17:14:40.158899Z"
    }
   },
   "outputs": [
    {
     "data": {
      "text/plain": [
       "(669, 8)"
      ]
     },
     "execution_count": 39,
     "metadata": {},
     "output_type": "execute_result"
    }
   ],
   "source": [
    "label_sequence_test.shape"
   ]
  },
  {
   "cell_type": "code",
   "execution_count": 40,
   "metadata": {
    "ExecuteTime": {
     "end_time": "2020-05-08T17:14:46.163370Z",
     "start_time": "2020-05-08T17:14:40.275385Z"
    }
   },
   "outputs": [
    {
     "name": "stdout",
     "output_type": "stream",
     "text": [
      "Found 400000 word vectors.\n"
     ]
    }
   ],
   "source": [
    "embeddings_index = {}\n",
    "with open('glove/glove.6B.100d.txt') as f:\n",
    "    for line in f:\n",
    "        word, coefs = line.split(maxsplit=1)\n",
    "        coefs = np.fromstring(coefs, 'f', sep=' ')\n",
    "        embeddings_index[word] = coefs\n",
    "f.close()\n",
    "\n",
    "print('Found %s word vectors.' % len(embeddings_index))"
   ]
  },
  {
   "cell_type": "code",
   "execution_count": 41,
   "metadata": {
    "ExecuteTime": {
     "end_time": "2020-05-08T17:14:46.167932Z",
     "start_time": "2020-05-08T17:14:46.164700Z"
    }
   },
   "outputs": [],
   "source": [
    "embedding_matrix = np.zeros((9, 100))\n",
    "\n",
    "for i, word in enumerate(just_labels_df.columns):\n",
    "    embedding_vector = embeddings_index.get(word)\n",
    "    if embedding_vector is not None:\n",
    "        # words not found in embedding index will be all-zeros.\n",
    "        embedding_matrix[i] = embedding_vector\n"
   ]
  },
  {
   "cell_type": "code",
   "execution_count": 42,
   "metadata": {
    "ExecuteTime": {
     "end_time": "2020-05-08T17:14:46.522910Z",
     "start_time": "2020-05-08T17:14:46.169205Z"
    }
   },
   "outputs": [],
   "source": [
    "vis_input = Input(shape=(224, 224, 3))\n",
    "seq_input = Input(shape=(8,), dtype=\"int32\")\n",
    "\n",
    "vgg16_model = VGG16(include_top=False,\n",
    "                      weights='imagenet', \n",
    "                      input_shape=(224, 224, 3),\n",
    "                      input_tensor=vis_input, \n",
    "                      pooling=None)\n",
    "\n",
    "vgg16_model_output = Flatten()(vgg16_model.outputs[0])\n",
    "\n",
    "embedding_layer = Embedding(9, 100, weights=[embedding_matrix], input_length=8, trainable=False)\n",
    "embedded_sequences = embedding_layer(seq_input)\n",
    "embedded_sequences = Flatten()(embedded_sequences)\n",
    "\n",
    "output = concatenate([vgg16_model_output, embedded_sequences], axis=1)\n",
    "\n",
    "model = Model(inputs=[vis_input, seq_input], outputs=output)"
   ]
  },
  {
   "cell_type": "code",
   "execution_count": 43,
   "metadata": {
    "ExecuteTime": {
     "end_time": "2020-05-08T17:14:46.787867Z",
     "start_time": "2020-05-08T17:14:46.524130Z"
    },
    "scrolled": false
   },
   "outputs": [
    {
     "data": {
      "image/png": "[encoded data removed]",
      "text/plain": [
       "<IPython.core.display.Image object>"
      ]
     },
     "execution_count": 43,
     "metadata": {},
     "output_type": "execute_result"
    }
   ],
   "source": [
    "plot_model(model, show_shapes=True)"
   ]
  },
  {
   "cell_type": "code",
   "execution_count": 44,
   "metadata": {
    "ExecuteTime": {
     "end_time": "2020-05-08T17:14:46.795798Z",
     "start_time": "2020-05-08T17:14:46.791874Z"
    }
   },
   "outputs": [],
   "source": [
    "def create_word_vecs(labels):\n",
    "    result_list = list()\n",
    "    for idx, label in enumerate(labels):\n",
    "        if label == 1:\n",
    "            will_be_added = np.zeros_like(labels, dtype=\"int32\")\n",
    "            will_be_added[idx] = 1\n",
    "            result_list.append(will_be_added)\n",
    "    return np.array(result_list)"
   ]
  },
  {
   "cell_type": "code",
   "execution_count": 45,
   "metadata": {
    "ExecuteTime": {
     "end_time": "2020-05-08T17:14:46.919924Z",
     "start_time": "2020-05-08T17:14:46.797040Z"
    }
   },
   "outputs": [],
   "source": [
    "def create_prediction_seqs(tags):\n",
    "    result = np.zeros_like(tags, dtype=\"int32\")\n",
    "    \n",
    "    for idx, labels in enumerate(tags):\n",
    "        nonzero_indices = labels.nonzero()[0]\n",
    "        index_count = 0\n",
    "        \n",
    "        for idx2, label in enumerate(labels):\n",
    "            if label == 1:\n",
    "                result[idx][idx2] = nonzero_indices[index_count]\n",
    "                index_count += 1\n",
    "                \n",
    "                if index_count == len(nonzero_indices):\n",
    "                    break\n",
    "    \n",
    "    return result"
   ]
  },
  {
   "cell_type": "code",
   "execution_count": 46,
   "metadata": {
    "ExecuteTime": {
     "end_time": "2020-05-08T17:14:47.013684Z",
     "start_time": "2020-05-08T17:14:46.921114Z"
    }
   },
   "outputs": [],
   "source": [
    "filtered_idx = multilabel_df[\"in_train\"] == 1\n",
    "tags = multilabel_df[filtered_idx].drop([\"image\\\\label\", \"in_train\", \"total_label_count\", \"subset\"], axis=1).values"
   ]
  },
  {
   "cell_type": "code",
   "execution_count": 47,
   "metadata": {
    "ExecuteTime": {
     "end_time": "2020-05-08T17:14:47.121118Z",
     "start_time": "2020-05-08T17:14:47.014931Z"
    }
   },
   "outputs": [],
   "source": [
    "prediction_tags = create_prediction_seqs(tags)"
   ]
  },
  {
   "cell_type": "code",
   "execution_count": 48,
   "metadata": {
    "ExecuteTime": {
     "end_time": "2020-05-08T17:14:47.220440Z",
     "start_time": "2020-05-08T17:14:47.122361Z"
    }
   },
   "outputs": [
    {
     "data": {
      "text/plain": [
       "(2673, 8)"
      ]
     },
     "execution_count": 48,
     "metadata": {},
     "output_type": "execute_result"
    }
   ],
   "source": [
    "prediction_tags.shape"
   ]
  },
  {
   "cell_type": "code",
   "execution_count": 49,
   "metadata": {
    "ExecuteTime": {
     "end_time": "2020-05-08T17:14:47.322364Z",
     "start_time": "2020-05-08T17:14:47.221635Z"
    }
   },
   "outputs": [
    {
     "data": {
      "text/plain": [
       "(2673, 224, 224, 3)"
      ]
     },
     "execution_count": 49,
     "metadata": {},
     "output_type": "execute_result"
    }
   ],
   "source": [
    "preprediction_images.shape"
   ]
  },
  {
   "cell_type": "code",
   "execution_count": 50,
   "metadata": {
    "ExecuteTime": {
     "end_time": "2020-05-08T17:14:58.894830Z",
     "start_time": "2020-05-08T17:14:47.323607Z"
    }
   },
   "outputs": [],
   "source": [
    "ecitf_vector = model.predict([preprediction_images, prediction_tags])"
   ]
  },
  {
   "cell_type": "code",
   "execution_count": 51,
   "metadata": {
    "ExecuteTime": {
     "end_time": "2020-05-08T17:14:58.900126Z",
     "start_time": "2020-05-08T17:14:58.896335Z"
    }
   },
   "outputs": [
    {
     "data": {
      "text/plain": [
       "(2673, 25888)"
      ]
     },
     "execution_count": 51,
     "metadata": {},
     "output_type": "execute_result"
    }
   ],
   "source": [
    "ecitf_vector.shape"
   ]
  },
  {
   "cell_type": "markdown",
   "metadata": {},
   "source": [
    "## CITF Creation Without Word Embedding"
   ]
  },
  {
   "cell_type": "code",
   "execution_count": 52,
   "metadata": {
    "ExecuteTime": {
     "end_time": "2020-05-08T17:15:07.998720Z",
     "start_time": "2020-05-08T17:14:58.901313Z"
    }
   },
   "outputs": [],
   "source": [
    "postprediction_features = vgg16_network.predict(preprediction_images)"
   ]
  },
  {
   "cell_type": "code",
   "execution_count": 53,
   "metadata": {
    "ExecuteTime": {
     "end_time": "2020-05-08T17:15:08.003184Z",
     "start_time": "2020-05-08T17:15:07.999989Z"
    }
   },
   "outputs": [
    {
     "data": {
      "text/plain": [
       "(2673, 7, 7, 512)"
      ]
     },
     "execution_count": 53,
     "metadata": {},
     "output_type": "execute_result"
    }
   ],
   "source": [
    "postprediction_features.shape"
   ]
  },
  {
   "cell_type": "code",
   "execution_count": 54,
   "metadata": {
    "ExecuteTime": {
     "end_time": "2020-05-08T17:15:08.102674Z",
     "start_time": "2020-05-08T17:15:08.004328Z"
    }
   },
   "outputs": [],
   "source": [
    "flattened_postprediction_features = postprediction_features.reshape(postprediction_features.shape[0], -1)"
   ]
  },
  {
   "cell_type": "code",
   "execution_count": 55,
   "metadata": {
    "ExecuteTime": {
     "end_time": "2020-05-08T17:15:11.380457Z",
     "start_time": "2020-05-08T17:15:08.103858Z"
    }
   },
   "outputs": [],
   "source": [
    "citf_vector = list()\n",
    "citf_vector_train_test = list()\n",
    "for flattened_postprediction_feature, image_id in zip(flattened_postprediction_features, resized_raw_train_labels):\n",
    "    filtered_idx = multilabel_df[\"image\\\\label\"] == int(image_id)\n",
    "    tags = multilabel_df[filtered_idx].drop([\"image\\\\label\", \"in_train\", \"total_label_count\", \"subset\"], axis=1).values[0]\n",
    "    \n",
    "    citf_vector.append(np.concatenate((flattened_postprediction_feature, tags)))\n",
    "    citf_vector_train_test.append(np.concatenate((flattened_postprediction_feature, np.zeros_like(tags))))\n",
    "\n",
    "citf_vector = np.array(citf_vector)\n",
    "citf_vector_train_test = np.array(citf_vector_train_test)"
   ]
  },
  {
   "cell_type": "code",
   "execution_count": 56,
   "metadata": {
    "ExecuteTime": {
     "end_time": "2020-05-08T17:15:11.384846Z",
     "start_time": "2020-05-08T17:15:11.381744Z"
    }
   },
   "outputs": [
    {
     "data": {
      "text/plain": [
       "(2673, 25088)"
      ]
     },
     "execution_count": 56,
     "metadata": {},
     "output_type": "execute_result"
    }
   ],
   "source": [
    "flattened_postprediction_features.shape"
   ]
  },
  {
   "cell_type": "code",
   "execution_count": 57,
   "metadata": {
    "ExecuteTime": {
     "end_time": "2020-05-08T17:15:11.495118Z",
     "start_time": "2020-05-08T17:15:11.385979Z"
    }
   },
   "outputs": [
    {
     "data": {
      "text/plain": [
       "(2673, 25096)"
      ]
     },
     "execution_count": 57,
     "metadata": {},
     "output_type": "execute_result"
    }
   ],
   "source": [
    "citf_vector.shape"
   ]
  },
  {
   "cell_type": "markdown",
   "metadata": {},
   "source": [
    "# Clustering"
   ]
  },
  {
   "cell_type": "markdown",
   "metadata": {},
   "source": [
    "## Clustering With Word Embedding"
   ]
  },
  {
   "cell_type": "code",
   "execution_count": 58,
   "metadata": {
    "ExecuteTime": {
     "end_time": "2020-05-08T17:15:11.739707Z",
     "start_time": "2020-05-08T17:15:11.496377Z"
    }
   },
   "outputs": [],
   "source": [
    "som_embed = MiniSom(20, 20, ecitf_vector.shape[1],\n",
    "              sigma=5.0,\n",
    "              learning_rate=0.7,\n",
    "              topology=\"hexagonal\",\n",
    "              activation_distance=\"cosine\")"
   ]
  },
  {
   "cell_type": "code",
   "execution_count": 59,
   "metadata": {
    "ExecuteTime": {
     "end_time": "2020-05-08T17:15:11.760109Z",
     "start_time": "2020-05-08T17:15:11.740968Z"
    }
   },
   "outputs": [],
   "source": [
    "som_embed.random_weights_init(ecitf_vector)"
   ]
  },
  {
   "cell_type": "code",
   "execution_count": 60,
   "metadata": {
    "ExecuteTime": {
     "end_time": "2020-05-08T17:17:38.164308Z",
     "start_time": "2020-05-08T17:15:11.761297Z"
    }
   },
   "outputs": [
    {
     "name": "stdout",
     "output_type": "stream",
     "text": [
      " [ 1500 / 1500 ] 100% - 0:00:00 left \n",
      " quantization error: 1138.670795370141\n"
     ]
    }
   ],
   "source": [
    "som_embed.train_random(ecitf_vector, 1500, verbose=True)"
   ]
  },
  {
   "cell_type": "markdown",
   "metadata": {},
   "source": [
    "## Clustering Without Word Embedding"
   ]
  },
  {
   "cell_type": "code",
   "execution_count": 61,
   "metadata": {
    "ExecuteTime": {
     "end_time": "2020-05-08T17:17:38.254673Z",
     "start_time": "2020-05-08T17:17:38.165589Z"
    }
   },
   "outputs": [],
   "source": [
    "som = MiniSom(16, 16, citf_vector.shape[1],\n",
    "              sigma=3.0,\n",
    "              learning_rate=0.7,\n",
    "              topology=\"hexagonal\",\n",
    "              activation_distance=\"cosine\")"
   ]
  },
  {
   "cell_type": "code",
   "execution_count": 62,
   "metadata": {
    "ExecuteTime": {
     "end_time": "2020-05-08T17:17:38.293802Z",
     "start_time": "2020-05-08T17:17:38.255940Z"
    }
   },
   "outputs": [],
   "source": [
    "som.random_weights_init(citf_vector)"
   ]
  },
  {
   "cell_type": "code",
   "execution_count": 63,
   "metadata": {
    "ExecuteTime": {
     "end_time": "2020-05-08T17:18:42.260393Z",
     "start_time": "2020-05-08T17:17:38.295168Z"
    }
   },
   "outputs": [
    {
     "name": "stdout",
     "output_type": "stream",
     "text": [
      " [ 1000 / 1000 ] 100% - 0:00:00 left \n",
      " quantization error: 1136.3028121258446\n"
     ]
    }
   ],
   "source": [
    "som.train_random(citf_vector, 1000, verbose=True)"
   ]
  },
  {
   "cell_type": "markdown",
   "metadata": {},
   "source": [
    "# Scoring\n",
    "\n",
    "## With Train Set\n",
    "**Threshold = 0.5**"
   ]
  },
  {
   "cell_type": "code",
   "execution_count": 64,
   "metadata": {
    "ExecuteTime": {
     "end_time": "2020-05-08T17:19:55.876808Z",
     "start_time": "2020-05-08T17:18:42.261662Z"
    }
   },
   "outputs": [],
   "source": [
    "y_pred = list()\n",
    "for x in citf_vector_train_test:\n",
    "    winner_coords = som.winner(x)\n",
    "    y_pred.append(som.get_weights()[winner_coords][-8:])\n",
    "y_pred = np.array(y_pred)"
   ]
  },
  {
   "cell_type": "code",
   "execution_count": 65,
   "metadata": {
    "ExecuteTime": {
     "end_time": "2020-05-08T17:19:55.881447Z",
     "start_time": "2020-05-08T17:19:55.878017Z"
    }
   },
   "outputs": [
    {
     "data": {
      "text/plain": [
       "(2673, 8)"
      ]
     },
     "execution_count": 65,
     "metadata": {},
     "output_type": "execute_result"
    }
   ],
   "source": [
    "y_pred.shape"
   ]
  },
  {
   "cell_type": "code",
   "execution_count": 66,
   "metadata": {
    "ExecuteTime": {
     "end_time": "2020-05-08T17:19:55.974573Z",
     "start_time": "2020-05-08T17:19:55.882914Z"
    }
   },
   "outputs": [
    {
     "data": {
      "text/plain": [
       "(2673, 8)"
      ]
     },
     "execution_count": 66,
     "metadata": {},
     "output_type": "execute_result"
    }
   ],
   "source": [
    "y_test = citf_vector[:, -8:]\n",
    "y_test.shape"
   ]
  },
  {
   "cell_type": "code",
   "execution_count": 67,
   "metadata": {
    "ExecuteTime": {
     "end_time": "2020-05-08T17:19:56.073642Z",
     "start_time": "2020-05-08T17:19:55.975811Z"
    }
   },
   "outputs": [],
   "source": [
    "y_pred_tresholded = (y_pred >= 0.5).astype(int)"
   ]
  },
  {
   "cell_type": "code",
   "execution_count": 68,
   "metadata": {
    "ExecuteTime": {
     "end_time": "2020-05-08T17:19:56.193485Z",
     "start_time": "2020-05-08T17:19:56.078566Z"
    },
    "scrolled": false
   },
   "outputs": [
    {
     "name": "stdout",
     "output_type": "stream",
     "text": [
      "              precision    recall  f1-score   support\n",
      "\n",
      "  impervious       0.95      1.00      0.97      2516\n",
      "       water       0.78      0.50      0.61       791\n",
      "     clutter       0.76      0.86      0.81      1508\n",
      "  vegetation       0.59      0.63      0.61       867\n",
      "    building       0.84      0.63      0.72       797\n",
      "        tree       0.00      0.00      0.00       201\n",
      "        boat       0.74      0.36      0.49       216\n",
      "         car       0.69      0.33      0.45       554\n",
      "\n",
      "   micro avg       0.82      0.74      0.78      7450\n",
      "   macro avg       0.67      0.54      0.58      7450\n",
      "weighted avg       0.79      0.74      0.75      7450\n",
      " samples avg       0.84      0.79      0.79      7450\n",
      "\n"
     ]
    },
    {
     "name": "stderr",
     "output_type": "stream",
     "text": [
      "/opt/conda/lib/python3.7/site-packages/sklearn/metrics/_classification.py:1272: UndefinedMetricWarning: Precision and F-score are ill-defined and being set to 0.0 in labels with no predicted samples. Use `zero_division` parameter to control this behavior.\n",
      "  _warn_prf(average, modifier, msg_start, len(result))\n"
     ]
    }
   ],
   "source": [
    "labels = multilabel_df.drop([\"image\\\\label\", \"in_train\", \"total_label_count\", \"subset\"], axis=1).columns\n",
    "print(classification_report(y_test, y_pred_tresholded, target_names=labels))"
   ]
  },
  {
   "cell_type": "code",
   "execution_count": 69,
   "metadata": {
    "ExecuteTime": {
     "end_time": "2020-05-08T17:19:56.485427Z",
     "start_time": "2020-05-08T17:19:56.195207Z"
    },
    "scrolled": false
   },
   "outputs": [
    {
     "data": {
      "image/png": "[encoded data removed]",
      "text/plain": [
       "<Figure size 1080x576 with 1 Axes>"
      ]
     },
     "metadata": {
      "needs_background": "light"
     },
     "output_type": "display_data"
    }
   ],
   "source": [
    "fig, ax = plt.subplots(figsize=(15, 8))\n",
    "for i in range(len(labels)):\n",
    "    fpr, tpr, thresholds = roc_curve(y_test[:, i], y_pred[:, i])\n",
    "    auc = roc_auc_score(y_test[:, i], y_pred[:, i])\n",
    "    ax.plot(fpr, tpr, label=labels[i] + f\" (AUC: {auc:.2f})\")\n",
    "\n",
    "plt.xlabel(\"FPR\")\n",
    "plt.ylabel(\"TPR\")\n",
    "plt.title(\"ROC Curve\")\n",
    "plt.legend()\n",
    "plt.show()"
   ]
  },
  {
   "cell_type": "markdown",
   "metadata": {},
   "source": [
    "## With Test Set\n",
    "\n",
    "**Threshold = 0.5**"
   ]
  },
  {
   "cell_type": "code",
   "execution_count": 70,
   "metadata": {
    "ExecuteTime": {
     "end_time": "2020-05-08T17:20:04.391483Z",
     "start_time": "2020-05-08T17:19:56.486811Z"
    }
   },
   "outputs": [],
   "source": [
    "resized_raw_test_images = list()\n",
    "resized_raw_test_labels = list()\n",
    "\n",
    "for raw_image_file in glob.glob(os.path.join(TEST_IMAGES_PATH, \"*.png\")):\n",
    "    raw_img = cv2.imread(raw_image_file)\n",
    "    raw_img = cv2.cvtColor(raw_img, cv2.COLOR_BGR2RGB)\n",
    "    \n",
    "    resized_raw_img = cv2.resize(raw_img, (224, 224))\n",
    "    \n",
    "    resized_raw_test_images.append(resized_raw_img)\n",
    "    resized_raw_test_labels.append(os.path.basename(raw_image_file).split(\".\")[0])"
   ]
  },
  {
   "cell_type": "code",
   "execution_count": 71,
   "metadata": {
    "ExecuteTime": {
     "end_time": "2020-05-08T17:20:04.413561Z",
     "start_time": "2020-05-08T17:20:04.392925Z"
    }
   },
   "outputs": [],
   "source": [
    "preprediction_images_test = np.array(resized_raw_test_images)"
   ]
  },
  {
   "cell_type": "code",
   "execution_count": 72,
   "metadata": {
    "ExecuteTime": {
     "end_time": "2020-05-08T17:20:04.492420Z",
     "start_time": "2020-05-08T17:20:04.415004Z"
    }
   },
   "outputs": [
    {
     "data": {
      "text/plain": [
       "(669, 224, 224, 3)"
      ]
     },
     "execution_count": 72,
     "metadata": {},
     "output_type": "execute_result"
    }
   ],
   "source": [
    "preprediction_images_test.shape"
   ]
  },
  {
   "cell_type": "markdown",
   "metadata": {},
   "source": [
    "### With Word Embedding"
   ]
  },
  {
   "cell_type": "code",
   "execution_count": 73,
   "metadata": {
    "ExecuteTime": {
     "end_time": "2020-05-08T17:20:04.608493Z",
     "start_time": "2020-05-08T17:20:04.496724Z"
    }
   },
   "outputs": [],
   "source": [
    "filtered_idx = multilabel_df[\"in_train\"] == 0\n",
    "tags = multilabel_df[filtered_idx].drop([\"image\\\\label\", \"in_train\", \"total_label_count\", \"subset\"], axis=1).values"
   ]
  },
  {
   "cell_type": "code",
   "execution_count": 74,
   "metadata": {
    "ExecuteTime": {
     "end_time": "2020-05-08T17:20:04.709479Z",
     "start_time": "2020-05-08T17:20:04.609692Z"
    }
   },
   "outputs": [],
   "source": [
    "prediction_tags_test = create_prediction_seqs(tags)"
   ]
  },
  {
   "cell_type": "code",
   "execution_count": 75,
   "metadata": {
    "ExecuteTime": {
     "end_time": "2020-05-08T17:20:04.807680Z",
     "start_time": "2020-05-08T17:20:04.710782Z"
    }
   },
   "outputs": [
    {
     "data": {
      "text/plain": [
       "(669, 8)"
      ]
     },
     "execution_count": 75,
     "metadata": {},
     "output_type": "execute_result"
    }
   ],
   "source": [
    "prediction_tags_test.shape"
   ]
  },
  {
   "cell_type": "code",
   "execution_count": 76,
   "metadata": {
    "ExecuteTime": {
     "end_time": "2020-05-08T17:20:04.907752Z",
     "start_time": "2020-05-08T17:20:04.809005Z"
    }
   },
   "outputs": [
    {
     "data": {
      "text/plain": [
       "(669, 224, 224, 3)"
      ]
     },
     "execution_count": 76,
     "metadata": {},
     "output_type": "execute_result"
    }
   ],
   "source": [
    "preprediction_images_test.shape"
   ]
  },
  {
   "cell_type": "code",
   "execution_count": 77,
   "metadata": {
    "ExecuteTime": {
     "end_time": "2020-05-08T17:20:08.240191Z",
     "start_time": "2020-05-08T17:20:04.908901Z"
    }
   },
   "outputs": [],
   "source": [
    "ecitf_vector_test = model.predict([preprediction_images_test, np.zeros_like(prediction_tags_test)])"
   ]
  },
  {
   "cell_type": "code",
   "execution_count": 78,
   "metadata": {
    "ExecuteTime": {
     "end_time": "2020-05-08T17:20:08.245969Z",
     "start_time": "2020-05-08T17:20:08.242182Z"
    }
   },
   "outputs": [
    {
     "data": {
      "text/plain": [
       "(669, 25888)"
      ]
     },
     "execution_count": 78,
     "metadata": {},
     "output_type": "execute_result"
    }
   ],
   "source": [
    "ecitf_vector_test.shape"
   ]
  },
  {
   "cell_type": "code",
   "execution_count": 79,
   "metadata": {
    "ExecuteTime": {
     "end_time": "2020-05-08T17:20:38.206398Z",
     "start_time": "2020-05-08T17:20:08.247308Z"
    }
   },
   "outputs": [],
   "source": [
    "y_pred = list()\n",
    "for x in ecitf_vector_test:\n",
    "    winner_coords = som_embed.winner(x)\n",
    "    y_pred.append(som_embed.get_weights()[winner_coords][-100:])\n",
    "y_pred = np.array(y_pred)"
   ]
  },
  {
   "cell_type": "code",
   "execution_count": 80,
   "metadata": {
    "ExecuteTime": {
     "end_time": "2020-05-08T17:20:40.471392Z",
     "start_time": "2020-05-08T17:20:38.207654Z"
    }
   },
   "outputs": [],
   "source": [
    "y_true = model.predict([preprediction_images_test, prediction_tags_test])\n",
    "y_true = y_true[:, -100:]"
   ]
  },
  {
   "cell_type": "code",
   "execution_count": 81,
   "metadata": {
    "ExecuteTime": {
     "end_time": "2020-05-08T17:20:40.476219Z",
     "start_time": "2020-05-08T17:20:40.472708Z"
    }
   },
   "outputs": [
    {
     "data": {
      "text/plain": [
       "(669, 100)"
      ]
     },
     "execution_count": 81,
     "metadata": {},
     "output_type": "execute_result"
    }
   ],
   "source": [
    "y_pred.shape"
   ]
  },
  {
   "cell_type": "code",
   "execution_count": 82,
   "metadata": {
    "ExecuteTime": {
     "end_time": "2020-05-08T17:20:40.573969Z",
     "start_time": "2020-05-08T17:20:40.477420Z"
    }
   },
   "outputs": [
    {
     "data": {
      "text/plain": [
       "(669, 100)"
      ]
     },
     "execution_count": 82,
     "metadata": {},
     "output_type": "execute_result"
    }
   ],
   "source": [
    "y_true.shape"
   ]
  },
  {
   "cell_type": "code",
   "execution_count": 83,
   "metadata": {
    "ExecuteTime": {
     "end_time": "2020-05-08T17:20:40.683935Z",
     "start_time": "2020-05-08T17:20:40.575444Z"
    }
   },
   "outputs": [
    {
     "data": {
      "text/plain": [
       "-0.17936974067046507"
      ]
     },
     "execution_count": 83,
     "metadata": {},
     "output_type": "execute_result"
    }
   ],
   "source": [
    "r2_score(y_true, y_pred)"
   ]
  },
  {
   "cell_type": "markdown",
   "metadata": {},
   "source": [
    "### Without Word Embedding"
   ]
  },
  {
   "cell_type": "code",
   "execution_count": 84,
   "metadata": {
    "ExecuteTime": {
     "end_time": "2020-05-08T17:20:43.036964Z",
     "start_time": "2020-05-08T17:20:40.685258Z"
    }
   },
   "outputs": [],
   "source": [
    "postprediction_features_test = vgg16_network.predict(preprediction_images_test)"
   ]
  },
  {
   "cell_type": "code",
   "execution_count": 85,
   "metadata": {
    "ExecuteTime": {
     "end_time": "2020-05-08T17:20:43.041447Z",
     "start_time": "2020-05-08T17:20:43.038227Z"
    }
   },
   "outputs": [
    {
     "data": {
      "text/plain": [
       "(669, 7, 7, 512)"
      ]
     },
     "execution_count": 85,
     "metadata": {},
     "output_type": "execute_result"
    }
   ],
   "source": [
    "postprediction_features_test.shape"
   ]
  },
  {
   "cell_type": "code",
   "execution_count": 86,
   "metadata": {
    "ExecuteTime": {
     "end_time": "2020-05-08T17:20:43.149087Z",
     "start_time": "2020-05-08T17:20:43.042577Z"
    }
   },
   "outputs": [],
   "source": [
    "flattened_postprediction_features_test = postprediction_features_test.reshape(postprediction_features_test.shape[0], -1)"
   ]
  },
  {
   "cell_type": "code",
   "execution_count": 87,
   "metadata": {
    "ExecuteTime": {
     "end_time": "2020-05-08T17:20:44.187680Z",
     "start_time": "2020-05-08T17:20:43.150276Z"
    }
   },
   "outputs": [],
   "source": [
    "citf_vector_test = list()\n",
    "y_test = list()\n",
    "y_test_subset = list()\n",
    "for flattened_postprediction_feature, image_id in zip(flattened_postprediction_features_test, resized_raw_test_labels):\n",
    "    filtered_idx = multilabel_df[\"image\\\\label\"] == int(image_id)\n",
    "    tags = multilabel_df[filtered_idx].drop([\"image\\\\label\", \"in_train\", \"total_label_count\", \"subset\"], axis=1).values[0]\n",
    "    subset = multilabel_df[filtered_idx][\"subset\"].values[0]\n",
    "    \n",
    "    y_test.append(tags)\n",
    "    y_test_subset.append(subset)\n",
    "    \n",
    "    citf_vector_test.append(np.concatenate((flattened_postprediction_feature, np.zeros_like(tags))))\n",
    "\n",
    "citf_vector_test = np.array(citf_vector_test)\n",
    "y_test = np.array(y_test)\n",
    "y_test_subset = np.array(y_test_subset)"
   ]
  },
  {
   "cell_type": "code",
   "execution_count": 88,
   "metadata": {
    "ExecuteTime": {
     "end_time": "2020-05-08T17:20:44.192656Z",
     "start_time": "2020-05-08T17:20:44.188895Z"
    }
   },
   "outputs": [
    {
     "data": {
      "text/plain": [
       "array([[0., 0., 0., ..., 0., 0., 0.],\n",
       "       [0., 0., 0., ..., 0., 0., 0.],\n",
       "       [0., 0., 0., ..., 0., 0., 0.],\n",
       "       ...,\n",
       "       [0., 0., 0., ..., 0., 0., 0.],\n",
       "       [0., 0., 0., ..., 0., 0., 0.],\n",
       "       [0., 0., 0., ..., 0., 0., 0.]])"
      ]
     },
     "execution_count": 88,
     "metadata": {},
     "output_type": "execute_result"
    }
   ],
   "source": [
    "citf_vector_test[:, -8:]"
   ]
  },
  {
   "cell_type": "code",
   "execution_count": 89,
   "metadata": {
    "ExecuteTime": {
     "end_time": "2020-05-08T17:21:03.098296Z",
     "start_time": "2020-05-08T17:20:44.193842Z"
    }
   },
   "outputs": [],
   "source": [
    "y_pred = list()\n",
    "for x in citf_vector_test:\n",
    "    winner_coords = som.winner(x)\n",
    "    y_pred.append(som.get_weights()[winner_coords][-8:])\n",
    "y_pred = np.array(y_pred)"
   ]
  },
  {
   "cell_type": "code",
   "execution_count": 90,
   "metadata": {
    "ExecuteTime": {
     "end_time": "2020-05-08T17:21:03.102685Z",
     "start_time": "2020-05-08T17:21:03.099751Z"
    }
   },
   "outputs": [
    {
     "data": {
      "text/plain": [
       "(669, 8)"
      ]
     },
     "execution_count": 90,
     "metadata": {},
     "output_type": "execute_result"
    }
   ],
   "source": [
    "y_pred.shape"
   ]
  },
  {
   "cell_type": "code",
   "execution_count": 91,
   "metadata": {
    "ExecuteTime": {
     "end_time": "2020-05-08T17:21:03.231899Z",
     "start_time": "2020-05-08T17:21:03.103808Z"
    }
   },
   "outputs": [
    {
     "data": {
      "text/plain": [
       "(669, 8)"
      ]
     },
     "execution_count": 91,
     "metadata": {},
     "output_type": "execute_result"
    }
   ],
   "source": [
    "y_test.shape"
   ]
  },
  {
   "cell_type": "code",
   "execution_count": 92,
   "metadata": {
    "ExecuteTime": {
     "end_time": "2020-05-08T17:21:03.331832Z",
     "start_time": "2020-05-08T17:21:03.233172Z"
    }
   },
   "outputs": [
    {
     "data": {
      "text/plain": [
       "(669,)"
      ]
     },
     "execution_count": 92,
     "metadata": {},
     "output_type": "execute_result"
    }
   ],
   "source": [
    "y_test_subset.shape"
   ]
  },
  {
   "cell_type": "code",
   "execution_count": 93,
   "metadata": {
    "ExecuteTime": {
     "end_time": "2020-05-08T17:21:03.431069Z",
     "start_time": "2020-05-08T17:21:03.333013Z"
    }
   },
   "outputs": [],
   "source": [
    "y_pred_tresholded = (y_pred >= 0.5).astype(int)"
   ]
  },
  {
   "cell_type": "markdown",
   "metadata": {},
   "source": [
    "#### Subset Results"
   ]
  },
  {
   "cell_type": "code",
   "execution_count": 94,
   "metadata": {
    "ExecuteTime": {
     "end_time": "2020-05-08T17:21:03.561436Z",
     "start_time": "2020-05-08T17:21:03.432240Z"
    }
   },
   "outputs": [],
   "source": [
    "y_pred_subset = list()\n",
    "for x in y_pred_tresholded:\n",
    "    if (x.reshape(1, -1) == total_unique_subsets).all(axis=1).any():\n",
    "        y_pred_subset.append((x.reshape(1, -1) == total_unique_subsets).all(axis=1).nonzero()[0][0])\n",
    "    else:\n",
    "        y_pred_subset.append(-1)\n",
    "y_pred_subset = np.array(y_pred_subset)"
   ]
  },
  {
   "cell_type": "code",
   "execution_count": 95,
   "metadata": {
    "ExecuteTime": {
     "end_time": "2020-05-08T17:21:03.658508Z",
     "start_time": "2020-05-08T17:21:03.562627Z"
    }
   },
   "outputs": [
    {
     "data": {
      "text/plain": [
       "OneHotEncoder(categories='auto', drop=None, dtype=<class 'numpy.float64'>,\n",
       "              handle_unknown='ignore', sparse=False)"
      ]
     },
     "execution_count": 95,
     "metadata": {},
     "output_type": "execute_result"
    }
   ],
   "source": [
    "onehot_encoder = OneHotEncoder(sparse=False, handle_unknown=\"ignore\")\n",
    "onehot_encoder.fit(y_test_subset.reshape(-1, 1))"
   ]
  },
  {
   "cell_type": "code",
   "execution_count": 96,
   "metadata": {
    "ExecuteTime": {
     "end_time": "2020-05-08T17:21:03.757506Z",
     "start_time": "2020-05-08T17:21:03.659899Z"
    }
   },
   "outputs": [],
   "source": [
    "y_pred_subset_ohencoded = onehot_encoder.transform(y_pred_subset.reshape(-1, 1))\n",
    "y_test_subset_ohencoded = onehot_encoder.transform(y_test_subset.reshape(-1, 1))"
   ]
  },
  {
   "cell_type": "code",
   "execution_count": 97,
   "metadata": {
    "ExecuteTime": {
     "end_time": "2020-05-08T17:21:03.869293Z",
     "start_time": "2020-05-08T17:21:03.758767Z"
    }
   },
   "outputs": [
    {
     "name": "stdout",
     "output_type": "stream",
     "text": [
      "              precision    recall  f1-score   support\n",
      "\n",
      "           0       0.10      0.02      0.03        48\n",
      "           1       0.25      0.10      0.14        30\n",
      "           2       0.12      0.29      0.17         7\n",
      "           3       0.00      0.00      0.00         6\n",
      "           4       0.00      0.00      0.00         5\n",
      "           5       0.71      0.92      0.80       226\n",
      "           6       0.03      0.08      0.04        13\n",
      "           7       0.08      0.24      0.12        17\n",
      "           8       0.13      0.21      0.16        14\n",
      "           9       0.03      0.11      0.04         9\n",
      "          10       0.00      0.00      0.00         7\n",
      "          11       0.00      0.00      0.00        11\n",
      "          12       0.00      0.00      0.00        24\n",
      "          13       0.00      0.00      0.00         1\n",
      "          14       0.06      0.60      0.11        10\n",
      "          15       0.00      0.00      0.00         6\n",
      "          16       0.00      0.00      0.00         1\n",
      "          17       0.00      0.00      0.00         3\n",
      "          18       0.00      0.00      0.00         8\n",
      "          19       0.00      0.00      0.00         7\n",
      "          20       0.00      0.00      0.00         6\n",
      "          21       0.00      0.00      0.00         1\n",
      "          22       0.00      0.00      0.00         5\n",
      "          23       0.00      0.00      0.00         1\n",
      "          24       0.00      0.00      0.00         4\n",
      "          25       0.19      0.17      0.18        29\n",
      "          26       0.23      0.23      0.23        43\n",
      "          27       0.00      0.00      0.00         4\n",
      "          28       0.00      0.00      0.00         6\n",
      "          29       0.00      0.00      0.00        12\n",
      "          30       0.00      0.00      0.00         2\n",
      "          31       0.00      0.00      0.00         2\n",
      "          32       0.10      0.25      0.14         8\n",
      "          33       1.00      0.07      0.12        15\n",
      "          34       0.00      0.00      0.00         6\n",
      "          35       0.00      0.00      0.00         2\n",
      "          36       0.00      0.00      0.00         1\n",
      "          37       0.00      0.00      0.00         9\n",
      "          38       0.00      0.00      0.00         8\n",
      "          39       0.00      0.00      0.00         2\n",
      "          40       0.00      0.00      0.00         2\n",
      "          41       0.00      0.00      0.00        10\n",
      "          42       0.00      0.00      0.00        12\n",
      "          43       0.00      0.00      0.00         3\n",
      "          44       0.00      0.00      0.00         9\n",
      "          45       0.00      0.00      0.00         5\n",
      "          46       0.00      0.00      0.00         2\n",
      "          47       0.00      0.00      0.00         3\n",
      "          48       0.00      0.00      0.00         1\n",
      "          49       0.00      0.00      0.00         3\n",
      "\n",
      "   micro avg       0.37      0.37      0.37       669\n",
      "   macro avg       0.06      0.07      0.05       669\n",
      "weighted avg       0.31      0.37      0.32       669\n",
      " samples avg       0.37      0.37      0.37       669\n",
      "\n"
     ]
    },
    {
     "name": "stderr",
     "output_type": "stream",
     "text": [
      "/opt/conda/lib/python3.7/site-packages/sklearn/metrics/_classification.py:1272: UndefinedMetricWarning: Precision and F-score are ill-defined and being set to 0.0 in labels with no predicted samples. Use `zero_division` parameter to control this behavior.\n",
      "  _warn_prf(average, modifier, msg_start, len(result))\n",
      "/opt/conda/lib/python3.7/site-packages/sklearn/metrics/_classification.py:1272: UndefinedMetricWarning: Precision and F-score are ill-defined and being set to 0.0 in samples with no predicted labels. Use `zero_division` parameter to control this behavior.\n",
      "  _warn_prf(average, modifier, msg_start, len(result))\n"
     ]
    }
   ],
   "source": [
    "#labels = multilabel_df.drop([\"image\\\\label\", \"in_train\", \"total_label_count\", \"subset\"], axis=1).columns\n",
    "print(classification_report(y_test_subset_ohencoded, y_pred_subset_ohencoded))"
   ]
  },
  {
   "cell_type": "markdown",
   "metadata": {},
   "source": [
    "#### Multi-Label Results"
   ]
  },
  {
   "cell_type": "code",
   "execution_count": 98,
   "metadata": {
    "ExecuteTime": {
     "end_time": "2020-05-08T17:21:03.965813Z",
     "start_time": "2020-05-08T17:21:03.870564Z"
    },
    "scrolled": false
   },
   "outputs": [
    {
     "name": "stdout",
     "output_type": "stream",
     "text": [
      "              precision    recall  f1-score   support\n",
      "\n",
      "  impervious       0.92      1.00      0.96       617\n",
      "       water       0.78      0.52      0.63       207\n",
      "     clutter       0.77      0.79      0.78       383\n",
      "  vegetation       0.60      0.70      0.65       219\n",
      "    building       0.86      0.60      0.71       204\n",
      "        tree       0.00      0.00      0.00        57\n",
      "        boat       0.81      0.31      0.45        54\n",
      "         car       0.69      0.30      0.42       151\n",
      "\n",
      "   micro avg       0.81      0.72      0.76      1892\n",
      "   macro avg       0.68      0.53      0.58      1892\n",
      "weighted avg       0.78      0.72      0.74      1892\n",
      " samples avg       0.83      0.77      0.78      1892\n",
      "\n"
     ]
    }
   ],
   "source": [
    "labels = multilabel_df.drop([\"image\\\\label\", \"in_train\", \"total_label_count\", \"subset\"], axis=1).columns\n",
    "print(classification_report(y_test, y_pred_tresholded, target_names=labels))"
   ]
  },
  {
   "cell_type": "code",
   "execution_count": 99,
   "metadata": {
    "ExecuteTime": {
     "end_time": "2020-05-08T17:21:04.266828Z",
     "start_time": "2020-05-08T17:21:03.967080Z"
    },
    "scrolled": false
   },
   "outputs": [
    {
     "data": {
      "image/png": "[encoded data removed]",
      "text/plain": [
       "<Figure size 1080x576 with 1 Axes>"
      ]
     },
     "metadata": {
      "needs_background": "light"
     },
     "output_type": "display_data"
    }
   ],
   "source": [
    "fig, ax = plt.subplots(figsize=(15, 8))\n",
    "for i in range(len(labels)):\n",
    "    fpr, tpr, thresholds = roc_curve(y_test[:, i], y_pred[:, i])\n",
    "    auc = roc_auc_score(y_test[:, i], y_pred[:, i])\n",
    "    ax.plot(fpr, tpr, label=labels[i] + f\" (AUC: {auc:.2f})\")\n",
    "\n",
    "plt.xlabel(\"FPR\")\n",
    "plt.ylabel(\"TPR\")\n",
    "plt.title(\"ROC Curve\")\n",
    "plt.legend()\n",
    "plt.show()"
   ]
  }
 ],
 "metadata": {
  "kernelspec": {
   "display_name": "Python 3",
   "language": "python",
   "name": "python3"
  },
  "language_info": {
   "codemirror_mode": {
    "name": "ipython",
    "version": 3
   },
   "file_extension": ".py",
   "mimetype": "text/x-python",
   "name": "python",
   "nbconvert_exporter": "python",
   "pygments_lexer": "ipython3",
   "version": "3.7.6"
  },
  "toc": {
   "base_numbering": 1,
   "nav_menu": {},
   "number_sections": true,
   "sideBar": true,
   "skip_h1_title": false,
   "title_cell": "Table of Contents",
   "title_sidebar": "Contents",
   "toc_cell": false,
   "toc_position": {},
   "toc_section_display": true,
   "toc_window_display": true
  },
  "varInspector": {
   "cols": {
    "lenName": 16,
    "lenType": 16,
    "lenVar": 40
   },
   "kernels_config": {
    "python": {
     "delete_cmd_postfix": "",
     "delete_cmd_prefix": "del ",
     "library": "var_list.py",
     "varRefreshCmd": "print(var_dic_list())"
    },
    "r": {
     "delete_cmd_postfix": ") ",
     "delete_cmd_prefix": "rm(",
     "library": "var_list.r",
     "varRefreshCmd": "cat(var_dic_list()) "
    }
   },
   "oldHeight": 727.85,
   "position": {
    "height": "749.85px",
    "left": "1546px",
    "right": "20px",
    "top": "116px",
    "width": "350px"
   },
   "types_to_exclude": [
    "module",
    "function",
    "builtin_function_or_method",
    "instance",
    "_Feature"
   ],
   "varInspector_section_display": "block",
   "window_display": false
  }
 },
 "nbformat": 4,
 "nbformat_minor": 4
}
