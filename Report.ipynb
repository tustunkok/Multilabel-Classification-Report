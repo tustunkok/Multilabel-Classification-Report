{
 "cells": [
  {
   "cell_type": "markdown",
   "metadata": {},
   "source": [
    "# Imports"
   ]
  },
  {
   "cell_type": "code",
   "execution_count": 1,
   "metadata": {
    "ExecuteTime": {
     "end_time": "2020-05-07T19:36:34.028338Z",
     "start_time": "2020-05-07T19:36:32.108869Z"
    }
   },
   "outputs": [],
   "source": [
    "import os\n",
    "import cv2\n",
    "import glob\n",
    "import matplotlib\n",
    "import numpy as np\n",
    "import pandas as pd\n",
    "import matplotlib.pyplot as plt\n",
    "\n",
    "from minisom import MiniSom\n",
    "from sklearn.metrics import classification_report, roc_curve, roc_auc_score\n",
    "from tensorflow.keras.applications.vgg16 import VGG16"
   ]
  },
  {
   "cell_type": "markdown",
   "metadata": {},
   "source": [
    "# Dataset Summary\n",
    "\n",
    "**Name:** DFC15_multilabel"
   ]
  },
  {
   "cell_type": "code",
   "execution_count": 2,
   "metadata": {
    "ExecuteTime": {
     "end_time": "2020-05-07T19:36:34.033803Z",
     "start_time": "2020-05-07T19:36:34.029702Z"
    }
   },
   "outputs": [
    {
     "name": "stdout",
     "output_type": "stream",
     "text": [
      "Dataset in /home/jovyan/work/data/DFC15_multilabel\n",
      "Contents of dataset dir is ['images_tr', 'images_test', 'multilabel.csv', 'multilabel.mat']\n"
     ]
    }
   ],
   "source": [
    "BASE_DATA_DIR = \"/home/jovyan/work/data/\"\n",
    "DATASET_DIR = \"DFC15_multilabel\"\n",
    "FULL_DATASET_DIR = os.path.join(BASE_DATA_DIR, DATASET_DIR)\n",
    "TRAIN_IMAGES_PATH = os.path.join(FULL_DATASET_DIR, \"images_tr\")\n",
    "TEST_IMAGES_PATH = os.path.join(FULL_DATASET_DIR, \"images_test\")\n",
    "\n",
    "print(f\"Dataset in {FULL_DATASET_DIR}\")\n",
    "print(f\"Contents of dataset dir is {os.listdir(FULL_DATASET_DIR)}\")"
   ]
  },
  {
   "cell_type": "code",
   "execution_count": 3,
   "metadata": {
    "ExecuteTime": {
     "end_time": "2020-05-07T19:36:34.145654Z",
     "start_time": "2020-05-07T19:36:34.035420Z"
    }
   },
   "outputs": [
    {
     "data": {
      "text/html": [
       "<div>\n",
       "<style scoped>\n",
       "    .dataframe tbody tr th:only-of-type {\n",
       "        vertical-align: middle;\n",
       "    }\n",
       "\n",
       "    .dataframe tbody tr th {\n",
       "        vertical-align: top;\n",
       "    }\n",
       "\n",
       "    .dataframe thead th {\n",
       "        text-align: right;\n",
       "    }\n",
       "</style>\n",
       "<table border=\"1\" class=\"dataframe\">\n",
       "  <thead>\n",
       "    <tr style=\"text-align: right;\">\n",
       "      <th></th>\n",
       "      <th>image\\label</th>\n",
       "      <th>impervious</th>\n",
       "      <th>water</th>\n",
       "      <th>clutter</th>\n",
       "      <th>vegetation</th>\n",
       "      <th>building</th>\n",
       "      <th>tree</th>\n",
       "      <th>boat</th>\n",
       "      <th>car</th>\n",
       "    </tr>\n",
       "  </thead>\n",
       "  <tbody>\n",
       "    <tr>\n",
       "      <th>0</th>\n",
       "      <td>1</td>\n",
       "      <td>1</td>\n",
       "      <td>1</td>\n",
       "      <td>0</td>\n",
       "      <td>0</td>\n",
       "      <td>0</td>\n",
       "      <td>0</td>\n",
       "      <td>0</td>\n",
       "      <td>0</td>\n",
       "    </tr>\n",
       "    <tr>\n",
       "      <th>1</th>\n",
       "      <td>2</td>\n",
       "      <td>1</td>\n",
       "      <td>1</td>\n",
       "      <td>0</td>\n",
       "      <td>0</td>\n",
       "      <td>0</td>\n",
       "      <td>0</td>\n",
       "      <td>0</td>\n",
       "      <td>0</td>\n",
       "    </tr>\n",
       "    <tr>\n",
       "      <th>2</th>\n",
       "      <td>3</td>\n",
       "      <td>1</td>\n",
       "      <td>1</td>\n",
       "      <td>0</td>\n",
       "      <td>0</td>\n",
       "      <td>0</td>\n",
       "      <td>0</td>\n",
       "      <td>0</td>\n",
       "      <td>0</td>\n",
       "    </tr>\n",
       "    <tr>\n",
       "      <th>3</th>\n",
       "      <td>4</td>\n",
       "      <td>1</td>\n",
       "      <td>1</td>\n",
       "      <td>0</td>\n",
       "      <td>0</td>\n",
       "      <td>0</td>\n",
       "      <td>0</td>\n",
       "      <td>0</td>\n",
       "      <td>0</td>\n",
       "    </tr>\n",
       "    <tr>\n",
       "      <th>4</th>\n",
       "      <td>5</td>\n",
       "      <td>1</td>\n",
       "      <td>1</td>\n",
       "      <td>0</td>\n",
       "      <td>0</td>\n",
       "      <td>0</td>\n",
       "      <td>0</td>\n",
       "      <td>0</td>\n",
       "      <td>0</td>\n",
       "    </tr>\n",
       "  </tbody>\n",
       "</table>\n",
       "</div>"
      ],
      "text/plain": [
       "   image\\label  impervious  water  clutter  vegetation  building  tree  boat  \\\n",
       "0            1           1      1        0           0         0     0     0   \n",
       "1            2           1      1        0           0         0     0     0   \n",
       "2            3           1      1        0           0         0     0     0   \n",
       "3            4           1      1        0           0         0     0     0   \n",
       "4            5           1      1        0           0         0     0     0   \n",
       "\n",
       "   car  \n",
       "0    0  \n",
       "1    0  \n",
       "2    0  \n",
       "3    0  \n",
       "4    0  "
      ]
     },
     "execution_count": 3,
     "metadata": {},
     "output_type": "execute_result"
    }
   ],
   "source": [
    "multilabel_df = pd.read_csv(os.path.join(FULL_DATASET_DIR, \"multilabel.csv\"))\n",
    "multilabel_df.head()"
   ]
  },
  {
   "cell_type": "code",
   "execution_count": 4,
   "metadata": {
    "ExecuteTime": {
     "end_time": "2020-05-07T19:36:34.236686Z",
     "start_time": "2020-05-07T19:36:34.147271Z"
    }
   },
   "outputs": [
    {
     "name": "stdout",
     "output_type": "stream",
     "text": [
      "Total number of samples:  3342\n",
      "Total number of features:  8\n"
     ]
    }
   ],
   "source": [
    "print(\"Total number of samples: \", multilabel_df.shape[0])\n",
    "print(\"Total number of features: \", multilabel_df.shape[1] - 1)"
   ]
  },
  {
   "cell_type": "code",
   "execution_count": 5,
   "metadata": {
    "ExecuteTime": {
     "end_time": "2020-05-07T19:36:34.378771Z",
     "start_time": "2020-05-07T19:36:34.237888Z"
    }
   },
   "outputs": [
    {
     "data": {
      "text/html": [
       "<div>\n",
       "<style scoped>\n",
       "    .dataframe tbody tr th:only-of-type {\n",
       "        vertical-align: middle;\n",
       "    }\n",
       "\n",
       "    .dataframe tbody tr th {\n",
       "        vertical-align: top;\n",
       "    }\n",
       "\n",
       "    .dataframe thead th {\n",
       "        text-align: right;\n",
       "    }\n",
       "</style>\n",
       "<table border=\"1\" class=\"dataframe\">\n",
       "  <thead>\n",
       "    <tr style=\"text-align: right;\">\n",
       "      <th></th>\n",
       "      <th>image\\label</th>\n",
       "      <th>impervious</th>\n",
       "      <th>water</th>\n",
       "      <th>clutter</th>\n",
       "      <th>vegetation</th>\n",
       "      <th>building</th>\n",
       "      <th>tree</th>\n",
       "      <th>boat</th>\n",
       "      <th>car</th>\n",
       "    </tr>\n",
       "  </thead>\n",
       "  <tbody>\n",
       "    <tr>\n",
       "      <th>count</th>\n",
       "      <td>3342.000000</td>\n",
       "      <td>3342.000000</td>\n",
       "      <td>3342.000000</td>\n",
       "      <td>3342.000000</td>\n",
       "      <td>3342.000000</td>\n",
       "      <td>3342.000000</td>\n",
       "      <td>3342.000000</td>\n",
       "      <td>3342.000000</td>\n",
       "      <td>3342.000000</td>\n",
       "    </tr>\n",
       "    <tr>\n",
       "      <th>mean</th>\n",
       "      <td>1671.500000</td>\n",
       "      <td>0.937463</td>\n",
       "      <td>0.298624</td>\n",
       "      <td>0.565829</td>\n",
       "      <td>0.324955</td>\n",
       "      <td>0.299521</td>\n",
       "      <td>0.077199</td>\n",
       "      <td>0.080790</td>\n",
       "      <td>0.210952</td>\n",
       "    </tr>\n",
       "    <tr>\n",
       "      <th>std</th>\n",
       "      <td>964.896627</td>\n",
       "      <td>0.242165</td>\n",
       "      <td>0.457723</td>\n",
       "      <td>0.495722</td>\n",
       "      <td>0.468428</td>\n",
       "      <td>0.458117</td>\n",
       "      <td>0.266947</td>\n",
       "      <td>0.272553</td>\n",
       "      <td>0.408045</td>\n",
       "    </tr>\n",
       "    <tr>\n",
       "      <th>min</th>\n",
       "      <td>1.000000</td>\n",
       "      <td>0.000000</td>\n",
       "      <td>0.000000</td>\n",
       "      <td>0.000000</td>\n",
       "      <td>0.000000</td>\n",
       "      <td>0.000000</td>\n",
       "      <td>0.000000</td>\n",
       "      <td>0.000000</td>\n",
       "      <td>0.000000</td>\n",
       "    </tr>\n",
       "    <tr>\n",
       "      <th>25%</th>\n",
       "      <td>836.250000</td>\n",
       "      <td>1.000000</td>\n",
       "      <td>0.000000</td>\n",
       "      <td>0.000000</td>\n",
       "      <td>0.000000</td>\n",
       "      <td>0.000000</td>\n",
       "      <td>0.000000</td>\n",
       "      <td>0.000000</td>\n",
       "      <td>0.000000</td>\n",
       "    </tr>\n",
       "    <tr>\n",
       "      <th>50%</th>\n",
       "      <td>1671.500000</td>\n",
       "      <td>1.000000</td>\n",
       "      <td>0.000000</td>\n",
       "      <td>1.000000</td>\n",
       "      <td>0.000000</td>\n",
       "      <td>0.000000</td>\n",
       "      <td>0.000000</td>\n",
       "      <td>0.000000</td>\n",
       "      <td>0.000000</td>\n",
       "    </tr>\n",
       "    <tr>\n",
       "      <th>75%</th>\n",
       "      <td>2506.750000</td>\n",
       "      <td>1.000000</td>\n",
       "      <td>1.000000</td>\n",
       "      <td>1.000000</td>\n",
       "      <td>1.000000</td>\n",
       "      <td>1.000000</td>\n",
       "      <td>0.000000</td>\n",
       "      <td>0.000000</td>\n",
       "      <td>0.000000</td>\n",
       "    </tr>\n",
       "    <tr>\n",
       "      <th>max</th>\n",
       "      <td>3342.000000</td>\n",
       "      <td>1.000000</td>\n",
       "      <td>1.000000</td>\n",
       "      <td>1.000000</td>\n",
       "      <td>1.000000</td>\n",
       "      <td>1.000000</td>\n",
       "      <td>1.000000</td>\n",
       "      <td>1.000000</td>\n",
       "      <td>1.000000</td>\n",
       "    </tr>\n",
       "  </tbody>\n",
       "</table>\n",
       "</div>"
      ],
      "text/plain": [
       "       image\\label   impervious        water      clutter   vegetation  \\\n",
       "count  3342.000000  3342.000000  3342.000000  3342.000000  3342.000000   \n",
       "mean   1671.500000     0.937463     0.298624     0.565829     0.324955   \n",
       "std     964.896627     0.242165     0.457723     0.495722     0.468428   \n",
       "min       1.000000     0.000000     0.000000     0.000000     0.000000   \n",
       "25%     836.250000     1.000000     0.000000     0.000000     0.000000   \n",
       "50%    1671.500000     1.000000     0.000000     1.000000     0.000000   \n",
       "75%    2506.750000     1.000000     1.000000     1.000000     1.000000   \n",
       "max    3342.000000     1.000000     1.000000     1.000000     1.000000   \n",
       "\n",
       "          building         tree         boat          car  \n",
       "count  3342.000000  3342.000000  3342.000000  3342.000000  \n",
       "mean      0.299521     0.077199     0.080790     0.210952  \n",
       "std       0.458117     0.266947     0.272553     0.408045  \n",
       "min       0.000000     0.000000     0.000000     0.000000  \n",
       "25%       0.000000     0.000000     0.000000     0.000000  \n",
       "50%       0.000000     0.000000     0.000000     0.000000  \n",
       "75%       1.000000     0.000000     0.000000     0.000000  \n",
       "max       1.000000     1.000000     1.000000     1.000000  "
      ]
     },
     "execution_count": 5,
     "metadata": {},
     "output_type": "execute_result"
    }
   ],
   "source": [
    "multilabel_df.describe()"
   ]
  },
  {
   "cell_type": "code",
   "execution_count": 6,
   "metadata": {
    "ExecuteTime": {
     "end_time": "2020-05-07T19:36:34.463631Z",
     "start_time": "2020-05-07T19:36:34.380126Z"
    }
   },
   "outputs": [
    {
     "name": "stdout",
     "output_type": "stream",
     "text": [
      "<class 'pandas.core.frame.DataFrame'>\n",
      "RangeIndex: 3342 entries, 0 to 3341\n",
      "Data columns (total 9 columns):\n",
      " #   Column       Non-Null Count  Dtype\n",
      "---  ------       --------------  -----\n",
      " 0   image\\label  3342 non-null   int64\n",
      " 1   impervious   3342 non-null   int64\n",
      " 2   water        3342 non-null   int64\n",
      " 3   clutter      3342 non-null   int64\n",
      " 4   vegetation   3342 non-null   int64\n",
      " 5   building     3342 non-null   int64\n",
      " 6   tree         3342 non-null   int64\n",
      " 7   boat         3342 non-null   int64\n",
      " 8   car          3342 non-null   int64\n",
      "dtypes: int64(9)\n",
      "memory usage: 235.1 KB\n"
     ]
    }
   ],
   "source": [
    "multilabel_df.info()"
   ]
  },
  {
   "cell_type": "markdown",
   "metadata": {},
   "source": [
    "## Sample Distributions"
   ]
  },
  {
   "cell_type": "code",
   "execution_count": 7,
   "metadata": {
    "ExecuteTime": {
     "end_time": "2020-05-07T19:36:34.576451Z",
     "start_time": "2020-05-07T19:36:34.464875Z"
    }
   },
   "outputs": [
    {
     "name": "stdout",
     "output_type": "stream",
     "text": [
      "Number of images in train set: 2673\n",
      "Number of images in test set: 669\n"
     ]
    }
   ],
   "source": [
    "print(\"Number of images in train set:\", len(glob.glob(os.path.join(TRAIN_IMAGES_PATH, \"*.png\"))))\n",
    "print(\"Number of images in test set:\", len(glob.glob(os.path.join(TEST_IMAGES_PATH, \"*.png\"))))"
   ]
  },
  {
   "cell_type": "code",
   "execution_count": 8,
   "metadata": {
    "ExecuteTime": {
     "end_time": "2020-05-07T19:36:34.668391Z",
     "start_time": "2020-05-07T19:36:34.578667Z"
    }
   },
   "outputs": [],
   "source": [
    "multilabel_df[\"in_train\"] = np.zeros((multilabel_df.shape[0],), dtype=int)"
   ]
  },
  {
   "cell_type": "code",
   "execution_count": 9,
   "metadata": {
    "ExecuteTime": {
     "end_time": "2020-05-07T19:36:37.659793Z",
     "start_time": "2020-05-07T19:36:34.669956Z"
    }
   },
   "outputs": [],
   "source": [
    "for image_file in glob.glob(os.path.join(TRAIN_IMAGES_PATH, \"*.png\")):\n",
    "    basename = os.path.basename(image_file)\n",
    "    image_id = os.path.splitext(basename)[0]\n",
    "    \n",
    "    multilabel_df.loc[multilabel_df[\"image\\\\label\"] == int(image_id), \"in_train\"] = 1"
   ]
  },
  {
   "cell_type": "code",
   "execution_count": 10,
   "metadata": {
    "ExecuteTime": {
     "end_time": "2020-05-07T19:36:37.665042Z",
     "start_time": "2020-05-07T19:36:37.661122Z"
    }
   },
   "outputs": [
    {
     "name": "stdout",
     "output_type": "stream",
     "text": [
      "Number of images in train set: 2673\n",
      "Number of images in test set: 669\n"
     ]
    }
   ],
   "source": [
    "print(\"Number of images in train set:\", multilabel_df[\"in_train\"].sum())\n",
    "print(\"Number of images in test set:\", (multilabel_df[\"in_train\"] == 0).sum())"
   ]
  },
  {
   "cell_type": "markdown",
   "metadata": {},
   "source": [
    "## Label Analysis"
   ]
  },
  {
   "cell_type": "code",
   "execution_count": 11,
   "metadata": {
    "ExecuteTime": {
     "end_time": "2020-05-07T19:36:37.760895Z",
     "start_time": "2020-05-07T19:36:37.666287Z"
    }
   },
   "outputs": [],
   "source": [
    "multilabel_df[\"total_label_count\"] = multilabel_df.drop([\"image\\\\label\", \"in_train\"], axis=1).sum(axis=1)"
   ]
  },
  {
   "cell_type": "code",
   "execution_count": 12,
   "metadata": {
    "ExecuteTime": {
     "end_time": "2020-05-07T19:36:37.874419Z",
     "start_time": "2020-05-07T19:36:37.762081Z"
    }
   },
   "outputs": [
    {
     "data": {
      "text/html": [
       "<div>\n",
       "<style scoped>\n",
       "    .dataframe tbody tr th:only-of-type {\n",
       "        vertical-align: middle;\n",
       "    }\n",
       "\n",
       "    .dataframe tbody tr th {\n",
       "        vertical-align: top;\n",
       "    }\n",
       "\n",
       "    .dataframe thead th {\n",
       "        text-align: right;\n",
       "    }\n",
       "</style>\n",
       "<table border=\"1\" class=\"dataframe\">\n",
       "  <thead>\n",
       "    <tr style=\"text-align: right;\">\n",
       "      <th></th>\n",
       "      <th>image\\label</th>\n",
       "      <th>impervious</th>\n",
       "      <th>water</th>\n",
       "      <th>clutter</th>\n",
       "      <th>vegetation</th>\n",
       "      <th>building</th>\n",
       "      <th>tree</th>\n",
       "      <th>boat</th>\n",
       "      <th>car</th>\n",
       "      <th>in_train</th>\n",
       "      <th>total_label_count</th>\n",
       "    </tr>\n",
       "  </thead>\n",
       "  <tbody>\n",
       "    <tr>\n",
       "      <th>0</th>\n",
       "      <td>1</td>\n",
       "      <td>1</td>\n",
       "      <td>1</td>\n",
       "      <td>0</td>\n",
       "      <td>0</td>\n",
       "      <td>0</td>\n",
       "      <td>0</td>\n",
       "      <td>0</td>\n",
       "      <td>0</td>\n",
       "      <td>1</td>\n",
       "      <td>2</td>\n",
       "    </tr>\n",
       "    <tr>\n",
       "      <th>1</th>\n",
       "      <td>2</td>\n",
       "      <td>1</td>\n",
       "      <td>1</td>\n",
       "      <td>0</td>\n",
       "      <td>0</td>\n",
       "      <td>0</td>\n",
       "      <td>0</td>\n",
       "      <td>0</td>\n",
       "      <td>0</td>\n",
       "      <td>1</td>\n",
       "      <td>2</td>\n",
       "    </tr>\n",
       "    <tr>\n",
       "      <th>2</th>\n",
       "      <td>3</td>\n",
       "      <td>1</td>\n",
       "      <td>1</td>\n",
       "      <td>0</td>\n",
       "      <td>0</td>\n",
       "      <td>0</td>\n",
       "      <td>0</td>\n",
       "      <td>0</td>\n",
       "      <td>0</td>\n",
       "      <td>0</td>\n",
       "      <td>2</td>\n",
       "    </tr>\n",
       "    <tr>\n",
       "      <th>3</th>\n",
       "      <td>4</td>\n",
       "      <td>1</td>\n",
       "      <td>1</td>\n",
       "      <td>0</td>\n",
       "      <td>0</td>\n",
       "      <td>0</td>\n",
       "      <td>0</td>\n",
       "      <td>0</td>\n",
       "      <td>0</td>\n",
       "      <td>1</td>\n",
       "      <td>2</td>\n",
       "    </tr>\n",
       "    <tr>\n",
       "      <th>4</th>\n",
       "      <td>5</td>\n",
       "      <td>1</td>\n",
       "      <td>1</td>\n",
       "      <td>0</td>\n",
       "      <td>0</td>\n",
       "      <td>0</td>\n",
       "      <td>0</td>\n",
       "      <td>0</td>\n",
       "      <td>0</td>\n",
       "      <td>1</td>\n",
       "      <td>2</td>\n",
       "    </tr>\n",
       "  </tbody>\n",
       "</table>\n",
       "</div>"
      ],
      "text/plain": [
       "   image\\label  impervious  water  clutter  vegetation  building  tree  boat  \\\n",
       "0            1           1      1        0           0         0     0     0   \n",
       "1            2           1      1        0           0         0     0     0   \n",
       "2            3           1      1        0           0         0     0     0   \n",
       "3            4           1      1        0           0         0     0     0   \n",
       "4            5           1      1        0           0         0     0     0   \n",
       "\n",
       "   car  in_train  total_label_count  \n",
       "0    0         1                  2  \n",
       "1    0         1                  2  \n",
       "2    0         0                  2  \n",
       "3    0         1                  2  \n",
       "4    0         1                  2  "
      ]
     },
     "execution_count": 12,
     "metadata": {},
     "output_type": "execute_result"
    }
   ],
   "source": [
    "multilabel_df.head()"
   ]
  },
  {
   "cell_type": "markdown",
   "metadata": {},
   "source": [
    "### Label Distributions to Samples"
   ]
  },
  {
   "cell_type": "code",
   "execution_count": 13,
   "metadata": {
    "ExecuteTime": {
     "end_time": "2020-05-07T19:36:37.988613Z",
     "start_time": "2020-05-07T19:36:37.875600Z"
    }
   },
   "outputs": [
    {
     "data": {
      "text/plain": [
       "count    3342.000000\n",
       "mean        2.795332\n",
       "std         0.948227\n",
       "min         2.000000\n",
       "25%         2.000000\n",
       "50%         2.000000\n",
       "75%         3.000000\n",
       "max         6.000000\n",
       "Name: total_label_count, dtype: float64"
      ]
     },
     "execution_count": 13,
     "metadata": {},
     "output_type": "execute_result"
    }
   ],
   "source": [
    "multilabel_df[\"total_label_count\"].describe()"
   ]
  },
  {
   "cell_type": "code",
   "execution_count": 14,
   "metadata": {
    "ExecuteTime": {
     "end_time": "2020-05-07T19:36:38.241630Z",
     "start_time": "2020-05-07T19:36:37.990056Z"
    }
   },
   "outputs": [
    {
     "data": {
      "image/png": "[encoded data removed]",
      "text/plain": [
       "<Figure size 1080x576 with 1 Axes>"
      ]
     },
     "metadata": {
      "needs_background": "light"
     },
     "output_type": "display_data"
    }
   ],
   "source": [
    "plt_data = multilabel_df.drop([\"image\\\\label\", \"total_label_count\", \"in_train\"], axis=1).sum(axis=0)\n",
    "\n",
    "fig, ax = plt.subplots(figsize=(15, 8))\n",
    "\n",
    "ax.bar(plt_data.index, plt_data.values, color=matplotlib.cm.rainbow(np.linspace(0, 1, 7)))\n",
    "\n",
    "rects = ax.patches\n",
    "labels = plt_data.values\n",
    "for rect, label in zip(rects, labels):\n",
    "    height = rect.get_height()\n",
    "    ax.text(rect.get_x() + rect.get_width() / 2, height + 5, label, ha=\"center\", va=\"bottom\")\n",
    "plt.title(\"Label Counts Plot\", fontsize=18)\n",
    "plt.xlabel(\"Label Name\", fontsize=16)\n",
    "plt.ylabel(\"Occurence Count\", fontsize=16)\n",
    "\n",
    "plt.show()"
   ]
  },
  {
   "cell_type": "markdown",
   "metadata": {},
   "source": [
    "### Label Distributions Over Train and Test Sets"
   ]
  },
  {
   "cell_type": "code",
   "execution_count": 15,
   "metadata": {
    "ExecuteTime": {
     "end_time": "2020-05-07T19:36:38.287602Z",
     "start_time": "2020-05-07T19:36:38.243059Z"
    }
   },
   "outputs": [
    {
     "data": {
      "text/html": [
       "<div>\n",
       "<style scoped>\n",
       "    .dataframe tbody tr th:only-of-type {\n",
       "        vertical-align: middle;\n",
       "    }\n",
       "\n",
       "    .dataframe tbody tr th {\n",
       "        vertical-align: top;\n",
       "    }\n",
       "\n",
       "    .dataframe thead th {\n",
       "        text-align: right;\n",
       "    }\n",
       "</style>\n",
       "<table border=\"1\" class=\"dataframe\">\n",
       "  <thead>\n",
       "    <tr style=\"text-align: right;\">\n",
       "      <th></th>\n",
       "      <th>image\\label</th>\n",
       "      <th>impervious</th>\n",
       "      <th>water</th>\n",
       "      <th>clutter</th>\n",
       "      <th>vegetation</th>\n",
       "      <th>building</th>\n",
       "      <th>tree</th>\n",
       "      <th>boat</th>\n",
       "      <th>car</th>\n",
       "      <th>in_train</th>\n",
       "      <th>total_label_count</th>\n",
       "    </tr>\n",
       "  </thead>\n",
       "  <tbody>\n",
       "    <tr>\n",
       "      <th>count</th>\n",
       "      <td>2673.000000</td>\n",
       "      <td>2673.000000</td>\n",
       "      <td>2673.000000</td>\n",
       "      <td>2673.000000</td>\n",
       "      <td>2673.000000</td>\n",
       "      <td>2673.000000</td>\n",
       "      <td>2673.000000</td>\n",
       "      <td>2673.000000</td>\n",
       "      <td>2673.000000</td>\n",
       "      <td>2673.0</td>\n",
       "      <td>2673.000000</td>\n",
       "    </tr>\n",
       "    <tr>\n",
       "      <th>mean</th>\n",
       "      <td>1663.259633</td>\n",
       "      <td>0.941264</td>\n",
       "      <td>0.295922</td>\n",
       "      <td>0.564160</td>\n",
       "      <td>0.324355</td>\n",
       "      <td>0.298167</td>\n",
       "      <td>0.075196</td>\n",
       "      <td>0.080808</td>\n",
       "      <td>0.207258</td>\n",
       "      <td>1.0</td>\n",
       "      <td>2.787131</td>\n",
       "    </tr>\n",
       "    <tr>\n",
       "      <th>std</th>\n",
       "      <td>967.507156</td>\n",
       "      <td>0.235173</td>\n",
       "      <td>0.456542</td>\n",
       "      <td>0.495959</td>\n",
       "      <td>0.468221</td>\n",
       "      <td>0.457539</td>\n",
       "      <td>0.263757</td>\n",
       "      <td>0.272591</td>\n",
       "      <td>0.405418</td>\n",
       "      <td>0.0</td>\n",
       "      <td>0.943755</td>\n",
       "    </tr>\n",
       "    <tr>\n",
       "      <th>min</th>\n",
       "      <td>1.000000</td>\n",
       "      <td>0.000000</td>\n",
       "      <td>0.000000</td>\n",
       "      <td>0.000000</td>\n",
       "      <td>0.000000</td>\n",
       "      <td>0.000000</td>\n",
       "      <td>0.000000</td>\n",
       "      <td>0.000000</td>\n",
       "      <td>0.000000</td>\n",
       "      <td>1.0</td>\n",
       "      <td>2.000000</td>\n",
       "    </tr>\n",
       "    <tr>\n",
       "      <th>25%</th>\n",
       "      <td>819.000000</td>\n",
       "      <td>1.000000</td>\n",
       "      <td>0.000000</td>\n",
       "      <td>0.000000</td>\n",
       "      <td>0.000000</td>\n",
       "      <td>0.000000</td>\n",
       "      <td>0.000000</td>\n",
       "      <td>0.000000</td>\n",
       "      <td>0.000000</td>\n",
       "      <td>1.0</td>\n",
       "      <td>2.000000</td>\n",
       "    </tr>\n",
       "    <tr>\n",
       "      <th>50%</th>\n",
       "      <td>1662.000000</td>\n",
       "      <td>1.000000</td>\n",
       "      <td>0.000000</td>\n",
       "      <td>1.000000</td>\n",
       "      <td>0.000000</td>\n",
       "      <td>0.000000</td>\n",
       "      <td>0.000000</td>\n",
       "      <td>0.000000</td>\n",
       "      <td>0.000000</td>\n",
       "      <td>1.0</td>\n",
       "      <td>2.000000</td>\n",
       "    </tr>\n",
       "    <tr>\n",
       "      <th>75%</th>\n",
       "      <td>2503.000000</td>\n",
       "      <td>1.000000</td>\n",
       "      <td>1.000000</td>\n",
       "      <td>1.000000</td>\n",
       "      <td>1.000000</td>\n",
       "      <td>1.000000</td>\n",
       "      <td>0.000000</td>\n",
       "      <td>0.000000</td>\n",
       "      <td>0.000000</td>\n",
       "      <td>1.0</td>\n",
       "      <td>3.000000</td>\n",
       "    </tr>\n",
       "    <tr>\n",
       "      <th>max</th>\n",
       "      <td>3342.000000</td>\n",
       "      <td>1.000000</td>\n",
       "      <td>1.000000</td>\n",
       "      <td>1.000000</td>\n",
       "      <td>1.000000</td>\n",
       "      <td>1.000000</td>\n",
       "      <td>1.000000</td>\n",
       "      <td>1.000000</td>\n",
       "      <td>1.000000</td>\n",
       "      <td>1.0</td>\n",
       "      <td>6.000000</td>\n",
       "    </tr>\n",
       "  </tbody>\n",
       "</table>\n",
       "</div>"
      ],
      "text/plain": [
       "       image\\label   impervious        water      clutter   vegetation  \\\n",
       "count  2673.000000  2673.000000  2673.000000  2673.000000  2673.000000   \n",
       "mean   1663.259633     0.941264     0.295922     0.564160     0.324355   \n",
       "std     967.507156     0.235173     0.456542     0.495959     0.468221   \n",
       "min       1.000000     0.000000     0.000000     0.000000     0.000000   \n",
       "25%     819.000000     1.000000     0.000000     0.000000     0.000000   \n",
       "50%    1662.000000     1.000000     0.000000     1.000000     0.000000   \n",
       "75%    2503.000000     1.000000     1.000000     1.000000     1.000000   \n",
       "max    3342.000000     1.000000     1.000000     1.000000     1.000000   \n",
       "\n",
       "          building         tree         boat          car  in_train  \\\n",
       "count  2673.000000  2673.000000  2673.000000  2673.000000    2673.0   \n",
       "mean      0.298167     0.075196     0.080808     0.207258       1.0   \n",
       "std       0.457539     0.263757     0.272591     0.405418       0.0   \n",
       "min       0.000000     0.000000     0.000000     0.000000       1.0   \n",
       "25%       0.000000     0.000000     0.000000     0.000000       1.0   \n",
       "50%       0.000000     0.000000     0.000000     0.000000       1.0   \n",
       "75%       1.000000     0.000000     0.000000     0.000000       1.0   \n",
       "max       1.000000     1.000000     1.000000     1.000000       1.0   \n",
       "\n",
       "       total_label_count  \n",
       "count        2673.000000  \n",
       "mean            2.787131  \n",
       "std             0.943755  \n",
       "min             2.000000  \n",
       "25%             2.000000  \n",
       "50%             2.000000  \n",
       "75%             3.000000  \n",
       "max             6.000000  "
      ]
     },
     "execution_count": 15,
     "metadata": {},
     "output_type": "execute_result"
    }
   ],
   "source": [
    "multilabel_df[multilabel_df[\"in_train\"] == 1].describe()"
   ]
  },
  {
   "cell_type": "code",
   "execution_count": 16,
   "metadata": {
    "ExecuteTime": {
     "end_time": "2020-05-07T19:36:38.382743Z",
     "start_time": "2020-05-07T19:36:38.288807Z"
    }
   },
   "outputs": [
    {
     "data": {
      "text/html": [
       "<div>\n",
       "<style scoped>\n",
       "    .dataframe tbody tr th:only-of-type {\n",
       "        vertical-align: middle;\n",
       "    }\n",
       "\n",
       "    .dataframe tbody tr th {\n",
       "        vertical-align: top;\n",
       "    }\n",
       "\n",
       "    .dataframe thead th {\n",
       "        text-align: right;\n",
       "    }\n",
       "</style>\n",
       "<table border=\"1\" class=\"dataframe\">\n",
       "  <thead>\n",
       "    <tr style=\"text-align: right;\">\n",
       "      <th></th>\n",
       "      <th>image\\label</th>\n",
       "      <th>impervious</th>\n",
       "      <th>water</th>\n",
       "      <th>clutter</th>\n",
       "      <th>vegetation</th>\n",
       "      <th>building</th>\n",
       "      <th>tree</th>\n",
       "      <th>boat</th>\n",
       "      <th>car</th>\n",
       "      <th>in_train</th>\n",
       "      <th>total_label_count</th>\n",
       "    </tr>\n",
       "  </thead>\n",
       "  <tbody>\n",
       "    <tr>\n",
       "      <th>count</th>\n",
       "      <td>669.000000</td>\n",
       "      <td>669.000000</td>\n",
       "      <td>669.000000</td>\n",
       "      <td>669.000000</td>\n",
       "      <td>669.000000</td>\n",
       "      <td>669.000000</td>\n",
       "      <td>669.000000</td>\n",
       "      <td>669.000000</td>\n",
       "      <td>669.000000</td>\n",
       "      <td>669.0</td>\n",
       "      <td>669.000000</td>\n",
       "    </tr>\n",
       "    <tr>\n",
       "      <th>mean</th>\n",
       "      <td>1704.424514</td>\n",
       "      <td>0.922272</td>\n",
       "      <td>0.309417</td>\n",
       "      <td>0.572496</td>\n",
       "      <td>0.327354</td>\n",
       "      <td>0.304933</td>\n",
       "      <td>0.085202</td>\n",
       "      <td>0.080717</td>\n",
       "      <td>0.225710</td>\n",
       "      <td>0.0</td>\n",
       "      <td>2.828102</td>\n",
       "    </tr>\n",
       "    <tr>\n",
       "      <th>std</th>\n",
       "      <td>954.402170</td>\n",
       "      <td>0.267943</td>\n",
       "      <td>0.462599</td>\n",
       "      <td>0.495087</td>\n",
       "      <td>0.469599</td>\n",
       "      <td>0.460723</td>\n",
       "      <td>0.279391</td>\n",
       "      <td>0.272605</td>\n",
       "      <td>0.418362</td>\n",
       "      <td>0.0</td>\n",
       "      <td>0.965910</td>\n",
       "    </tr>\n",
       "    <tr>\n",
       "      <th>min</th>\n",
       "      <td>3.000000</td>\n",
       "      <td>0.000000</td>\n",
       "      <td>0.000000</td>\n",
       "      <td>0.000000</td>\n",
       "      <td>0.000000</td>\n",
       "      <td>0.000000</td>\n",
       "      <td>0.000000</td>\n",
       "      <td>0.000000</td>\n",
       "      <td>0.000000</td>\n",
       "      <td>0.0</td>\n",
       "      <td>2.000000</td>\n",
       "    </tr>\n",
       "    <tr>\n",
       "      <th>25%</th>\n",
       "      <td>891.000000</td>\n",
       "      <td>1.000000</td>\n",
       "      <td>0.000000</td>\n",
       "      <td>0.000000</td>\n",
       "      <td>0.000000</td>\n",
       "      <td>0.000000</td>\n",
       "      <td>0.000000</td>\n",
       "      <td>0.000000</td>\n",
       "      <td>0.000000</td>\n",
       "      <td>0.0</td>\n",
       "      <td>2.000000</td>\n",
       "    </tr>\n",
       "    <tr>\n",
       "      <th>50%</th>\n",
       "      <td>1714.000000</td>\n",
       "      <td>1.000000</td>\n",
       "      <td>0.000000</td>\n",
       "      <td>1.000000</td>\n",
       "      <td>0.000000</td>\n",
       "      <td>0.000000</td>\n",
       "      <td>0.000000</td>\n",
       "      <td>0.000000</td>\n",
       "      <td>0.000000</td>\n",
       "      <td>0.0</td>\n",
       "      <td>3.000000</td>\n",
       "    </tr>\n",
       "    <tr>\n",
       "      <th>75%</th>\n",
       "      <td>2521.000000</td>\n",
       "      <td>1.000000</td>\n",
       "      <td>1.000000</td>\n",
       "      <td>1.000000</td>\n",
       "      <td>1.000000</td>\n",
       "      <td>1.000000</td>\n",
       "      <td>0.000000</td>\n",
       "      <td>0.000000</td>\n",
       "      <td>0.000000</td>\n",
       "      <td>0.0</td>\n",
       "      <td>4.000000</td>\n",
       "    </tr>\n",
       "    <tr>\n",
       "      <th>max</th>\n",
       "      <td>3324.000000</td>\n",
       "      <td>1.000000</td>\n",
       "      <td>1.000000</td>\n",
       "      <td>1.000000</td>\n",
       "      <td>1.000000</td>\n",
       "      <td>1.000000</td>\n",
       "      <td>1.000000</td>\n",
       "      <td>1.000000</td>\n",
       "      <td>1.000000</td>\n",
       "      <td>0.0</td>\n",
       "      <td>6.000000</td>\n",
       "    </tr>\n",
       "  </tbody>\n",
       "</table>\n",
       "</div>"
      ],
      "text/plain": [
       "       image\\label  impervious       water     clutter  vegetation  \\\n",
       "count   669.000000  669.000000  669.000000  669.000000  669.000000   \n",
       "mean   1704.424514    0.922272    0.309417    0.572496    0.327354   \n",
       "std     954.402170    0.267943    0.462599    0.495087    0.469599   \n",
       "min       3.000000    0.000000    0.000000    0.000000    0.000000   \n",
       "25%     891.000000    1.000000    0.000000    0.000000    0.000000   \n",
       "50%    1714.000000    1.000000    0.000000    1.000000    0.000000   \n",
       "75%    2521.000000    1.000000    1.000000    1.000000    1.000000   \n",
       "max    3324.000000    1.000000    1.000000    1.000000    1.000000   \n",
       "\n",
       "         building        tree        boat         car  in_train  \\\n",
       "count  669.000000  669.000000  669.000000  669.000000     669.0   \n",
       "mean     0.304933    0.085202    0.080717    0.225710       0.0   \n",
       "std      0.460723    0.279391    0.272605    0.418362       0.0   \n",
       "min      0.000000    0.000000    0.000000    0.000000       0.0   \n",
       "25%      0.000000    0.000000    0.000000    0.000000       0.0   \n",
       "50%      0.000000    0.000000    0.000000    0.000000       0.0   \n",
       "75%      1.000000    0.000000    0.000000    0.000000       0.0   \n",
       "max      1.000000    1.000000    1.000000    1.000000       0.0   \n",
       "\n",
       "       total_label_count  \n",
       "count         669.000000  \n",
       "mean            2.828102  \n",
       "std             0.965910  \n",
       "min             2.000000  \n",
       "25%             2.000000  \n",
       "50%             3.000000  \n",
       "75%             4.000000  \n",
       "max             6.000000  "
      ]
     },
     "execution_count": 16,
     "metadata": {},
     "output_type": "execute_result"
    }
   ],
   "source": [
    "multilabel_df[multilabel_df[\"in_train\"] == 0].describe()"
   ]
  },
  {
   "cell_type": "markdown",
   "metadata": {},
   "source": [
    "## Label Correlations"
   ]
  },
  {
   "cell_type": "code",
   "execution_count": 17,
   "metadata": {
    "ExecuteTime": {
     "end_time": "2020-05-07T19:36:38.477404Z",
     "start_time": "2020-05-07T19:36:38.383954Z"
    }
   },
   "outputs": [
    {
     "data": {
      "text/html": [
       "<div>\n",
       "<style scoped>\n",
       "    .dataframe tbody tr th:only-of-type {\n",
       "        vertical-align: middle;\n",
       "    }\n",
       "\n",
       "    .dataframe tbody tr th {\n",
       "        vertical-align: top;\n",
       "    }\n",
       "\n",
       "    .dataframe thead th {\n",
       "        text-align: right;\n",
       "    }\n",
       "</style>\n",
       "<table border=\"1\" class=\"dataframe\">\n",
       "  <thead>\n",
       "    <tr style=\"text-align: right;\">\n",
       "      <th></th>\n",
       "      <th>impervious</th>\n",
       "      <th>water</th>\n",
       "      <th>clutter</th>\n",
       "      <th>vegetation</th>\n",
       "      <th>building</th>\n",
       "      <th>tree</th>\n",
       "      <th>boat</th>\n",
       "      <th>car</th>\n",
       "    </tr>\n",
       "  </thead>\n",
       "  <tbody>\n",
       "    <tr>\n",
       "      <th>impervious</th>\n",
       "      <td>1.000000</td>\n",
       "      <td>-0.301318</td>\n",
       "      <td>-0.009329</td>\n",
       "      <td>0.015609</td>\n",
       "      <td>0.152704</td>\n",
       "      <td>-0.129018</td>\n",
       "      <td>-0.367842</td>\n",
       "      <td>0.133546</td>\n",
       "    </tr>\n",
       "    <tr>\n",
       "      <th>water</th>\n",
       "      <td>-0.301318</td>\n",
       "      <td>1.000000</td>\n",
       "      <td>-0.267381</td>\n",
       "      <td>-0.105124</td>\n",
       "      <td>-0.201152</td>\n",
       "      <td>-0.068699</td>\n",
       "      <td>0.425553</td>\n",
       "      <td>-0.159502</td>\n",
       "    </tr>\n",
       "    <tr>\n",
       "      <th>clutter</th>\n",
       "      <td>-0.009329</td>\n",
       "      <td>-0.267381</td>\n",
       "      <td>1.000000</td>\n",
       "      <td>-0.486573</td>\n",
       "      <td>-0.426228</td>\n",
       "      <td>-0.296263</td>\n",
       "      <td>-0.048236</td>\n",
       "      <td>-0.246978</td>\n",
       "    </tr>\n",
       "    <tr>\n",
       "      <th>vegetation</th>\n",
       "      <td>0.015609</td>\n",
       "      <td>-0.105124</td>\n",
       "      <td>-0.486573</td>\n",
       "      <td>1.000000</td>\n",
       "      <td>0.409673</td>\n",
       "      <td>0.412089</td>\n",
       "      <td>-0.168181</td>\n",
       "      <td>0.291117</td>\n",
       "    </tr>\n",
       "    <tr>\n",
       "      <th>building</th>\n",
       "      <td>0.152704</td>\n",
       "      <td>-0.201152</td>\n",
       "      <td>-0.426228</td>\n",
       "      <td>0.409673</td>\n",
       "      <td>1.000000</td>\n",
       "      <td>0.104566</td>\n",
       "      <td>-0.054825</td>\n",
       "      <td>0.523324</td>\n",
       "    </tr>\n",
       "    <tr>\n",
       "      <th>tree</th>\n",
       "      <td>-0.129018</td>\n",
       "      <td>-0.068699</td>\n",
       "      <td>-0.296263</td>\n",
       "      <td>0.412089</td>\n",
       "      <td>0.104566</td>\n",
       "      <td>1.000000</td>\n",
       "      <td>-0.085748</td>\n",
       "      <td>0.023561</td>\n",
       "    </tr>\n",
       "    <tr>\n",
       "      <th>boat</th>\n",
       "      <td>-0.367842</td>\n",
       "      <td>0.425553</td>\n",
       "      <td>-0.048236</td>\n",
       "      <td>-0.168181</td>\n",
       "      <td>-0.054825</td>\n",
       "      <td>-0.085748</td>\n",
       "      <td>1.000000</td>\n",
       "      <td>-0.005267</td>\n",
       "    </tr>\n",
       "    <tr>\n",
       "      <th>car</th>\n",
       "      <td>0.133546</td>\n",
       "      <td>-0.159502</td>\n",
       "      <td>-0.246978</td>\n",
       "      <td>0.291117</td>\n",
       "      <td>0.523324</td>\n",
       "      <td>0.023561</td>\n",
       "      <td>-0.005267</td>\n",
       "      <td>1.000000</td>\n",
       "    </tr>\n",
       "  </tbody>\n",
       "</table>\n",
       "</div>"
      ],
      "text/plain": [
       "            impervious     water   clutter  vegetation  building      tree  \\\n",
       "impervious    1.000000 -0.301318 -0.009329    0.015609  0.152704 -0.129018   \n",
       "water        -0.301318  1.000000 -0.267381   -0.105124 -0.201152 -0.068699   \n",
       "clutter      -0.009329 -0.267381  1.000000   -0.486573 -0.426228 -0.296263   \n",
       "vegetation    0.015609 -0.105124 -0.486573    1.000000  0.409673  0.412089   \n",
       "building      0.152704 -0.201152 -0.426228    0.409673  1.000000  0.104566   \n",
       "tree         -0.129018 -0.068699 -0.296263    0.412089  0.104566  1.000000   \n",
       "boat         -0.367842  0.425553 -0.048236   -0.168181 -0.054825 -0.085748   \n",
       "car           0.133546 -0.159502 -0.246978    0.291117  0.523324  0.023561   \n",
       "\n",
       "                boat       car  \n",
       "impervious -0.367842  0.133546  \n",
       "water       0.425553 -0.159502  \n",
       "clutter    -0.048236 -0.246978  \n",
       "vegetation -0.168181  0.291117  \n",
       "building   -0.054825  0.523324  \n",
       "tree       -0.085748  0.023561  \n",
       "boat        1.000000 -0.005267  \n",
       "car        -0.005267  1.000000  "
      ]
     },
     "execution_count": 17,
     "metadata": {},
     "output_type": "execute_result"
    }
   ],
   "source": [
    "just_labels_df = multilabel_df.drop([\"image\\\\label\", \"total_label_count\", \"in_train\"], axis=1)\n",
    "just_labels_df.corr()"
   ]
  },
  {
   "cell_type": "code",
   "execution_count": 18,
   "metadata": {
    "ExecuteTime": {
     "end_time": "2020-05-07T19:36:38.792647Z",
     "start_time": "2020-05-07T19:36:38.479058Z"
    }
   },
   "outputs": [
    {
     "data": {
      "image/png": "[encoded data removed]",
      "text/plain": [
       "<Figure size 576x576 with 2 Axes>"
      ]
     },
     "metadata": {
      "needs_background": "light"
     },
     "output_type": "display_data"
    }
   ],
   "source": [
    "fig, ax = plt.subplots(figsize=(8, 8))\n",
    "\n",
    "ax.xaxis.tick_top()\n",
    "im = ax.imshow(just_labels_df.corr())\n",
    "plt.xticks(ticks=np.arange(just_labels_df.shape[1]), labels=just_labels_df.columns)\n",
    "plt.yticks(ticks=np.arange(just_labels_df.shape[1]), labels=just_labels_df.columns)\n",
    "\n",
    "cbar = ax.figure.colorbar(im, ax=ax)\n",
    "cbar.ax.set_ylabel(\"Pearson Correlation Coef.\", rotation=-90, va=\"bottom\")\n",
    "\n",
    "plt.title(\"Labels Correlation Plot\")\n",
    "\n",
    "plt.show()"
   ]
  },
  {
   "cell_type": "markdown",
   "metadata": {},
   "source": [
    "## Cluster Analysis"
   ]
  },
  {
   "cell_type": "code",
   "execution_count": 19,
   "metadata": {
    "ExecuteTime": {
     "end_time": "2020-05-07T19:36:38.800246Z",
     "start_time": "2020-05-07T19:36:38.794145Z"
    }
   },
   "outputs": [],
   "source": [
    "total_unique_subsets = multilabel_df.drop([\"image\\\\label\", \"in_train\", \"total_label_count\"], axis=1).drop_duplicates().values"
   ]
  },
  {
   "cell_type": "markdown",
   "metadata": {},
   "source": [
    "### Total Number of Unique Subsets"
   ]
  },
  {
   "cell_type": "code",
   "execution_count": 20,
   "metadata": {
    "ExecuteTime": {
     "end_time": "2020-05-07T19:36:38.884759Z",
     "start_time": "2020-05-07T19:36:38.801558Z"
    }
   },
   "outputs": [
    {
     "name": "stdout",
     "output_type": "stream",
     "text": [
      "Number of unique subsets in whole dataset: 65\n"
     ]
    }
   ],
   "source": [
    "len(total_unique_subsets)\n",
    "print(f\"Number of unique subsets in whole dataset: {len(total_unique_subsets)}\")"
   ]
  },
  {
   "cell_type": "markdown",
   "metadata": {},
   "source": [
    "### Total Number of Unique Subsets in Train Set"
   ]
  },
  {
   "cell_type": "code",
   "execution_count": 21,
   "metadata": {
    "ExecuteTime": {
     "end_time": "2020-05-07T19:36:39.004902Z",
     "start_time": "2020-05-07T19:36:38.886055Z"
    }
   },
   "outputs": [],
   "source": [
    "training_clusters = multilabel_df[multilabel_df[\"in_train\"] == 1] \\\n",
    "    .drop([\"image\\\\label\", \"in_train\", \"total_label_count\"], axis=1).drop_duplicates().values"
   ]
  },
  {
   "cell_type": "code",
   "execution_count": 22,
   "metadata": {
    "ExecuteTime": {
     "end_time": "2020-05-07T19:36:39.118102Z",
     "start_time": "2020-05-07T19:36:39.006107Z"
    }
   },
   "outputs": [
    {
     "name": "stdout",
     "output_type": "stream",
     "text": [
      "Number of unique subsets in train set: 64\n"
     ]
    }
   ],
   "source": [
    "print(f\"Number of unique subsets in train set: {len(training_clusters)}\")"
   ]
  },
  {
   "cell_type": "markdown",
   "metadata": {},
   "source": [
    "### Total Number of Subsets Do Not Exist in Train Set"
   ]
  },
  {
   "cell_type": "code",
   "execution_count": 23,
   "metadata": {
    "ExecuteTime": {
     "end_time": "2020-05-07T19:36:39.235134Z",
     "start_time": "2020-05-07T19:36:39.121582Z"
    }
   },
   "outputs": [
    {
     "name": "stdout",
     "output_type": "stream",
     "text": [
      "Number of subsets which do not exist in train set:     1\n"
     ]
    }
   ],
   "source": [
    "print(f\"Number of subsets which do not exist in train set: \\\n",
    "    {len(set(map(tuple, total_unique_subsets)) - set(map(tuple, training_clusters)))}\")"
   ]
  },
  {
   "cell_type": "markdown",
   "metadata": {},
   "source": [
    "### Total Number of Unique Subsets in Test Set"
   ]
  },
  {
   "cell_type": "code",
   "execution_count": 24,
   "metadata": {
    "ExecuteTime": {
     "end_time": "2020-05-07T19:36:39.346404Z",
     "start_time": "2020-05-07T19:36:39.237289Z"
    }
   },
   "outputs": [],
   "source": [
    "test_clusters = multilabel_df[multilabel_df[\"in_train\"] == 0] \\\n",
    "    .drop([\"image\\\\label\", \"in_train\", \"total_label_count\"], axis=1).drop_duplicates().values"
   ]
  },
  {
   "cell_type": "code",
   "execution_count": 25,
   "metadata": {
    "ExecuteTime": {
     "end_time": "2020-05-07T19:36:39.484544Z",
     "start_time": "2020-05-07T19:36:39.347612Z"
    }
   },
   "outputs": [
    {
     "name": "stdout",
     "output_type": "stream",
     "text": [
      "Number of unique subsets in test set: 50\n"
     ]
    }
   ],
   "source": [
    "print(f\"Number of unique subsets in test set: {len(test_clusters)}\")"
   ]
  },
  {
   "cell_type": "markdown",
   "metadata": {},
   "source": [
    "### Total Number of Subsets Do Not Exist in Test Set"
   ]
  },
  {
   "cell_type": "code",
   "execution_count": 26,
   "metadata": {
    "ExecuteTime": {
     "end_time": "2020-05-07T19:36:39.585119Z",
     "start_time": "2020-05-07T19:36:39.485907Z"
    }
   },
   "outputs": [
    {
     "name": "stdout",
     "output_type": "stream",
     "text": [
      "Number of subsets which do not exist in test set:     15\n"
     ]
    }
   ],
   "source": [
    "print(f\"Number of subsets which do not exist in test set: \\\n",
    "    {len(set(map(tuple, total_unique_subsets)) - set(map(tuple, test_clusters)))}\")"
   ]
  },
  {
   "cell_type": "markdown",
   "metadata": {},
   "source": [
    "## Assigning Subsets to the Samples"
   ]
  },
  {
   "cell_type": "code",
   "execution_count": 27,
   "metadata": {
    "ExecuteTime": {
     "end_time": "2020-05-07T19:36:39.726721Z",
     "start_time": "2020-05-07T19:36:39.586378Z"
    }
   },
   "outputs": [],
   "source": [
    "multilabel_df[\"subset\"] = multilabel_df.drop([\"image\\\\label\", \"in_train\", \"total_label_count\"], axis=1).apply(lambda x: (x.values.reshape(1, -1) == total_unique_subsets).all(axis=1).nonzero()[0][0], axis=1)"
   ]
  },
  {
   "cell_type": "code",
   "execution_count": 28,
   "metadata": {
    "ExecuteTime": {
     "end_time": "2020-05-07T19:36:39.801346Z",
     "start_time": "2020-05-07T19:36:39.728102Z"
    }
   },
   "outputs": [
    {
     "data": {
      "text/html": [
       "<div>\n",
       "<style scoped>\n",
       "    .dataframe tbody tr th:only-of-type {\n",
       "        vertical-align: middle;\n",
       "    }\n",
       "\n",
       "    .dataframe tbody tr th {\n",
       "        vertical-align: top;\n",
       "    }\n",
       "\n",
       "    .dataframe thead th {\n",
       "        text-align: right;\n",
       "    }\n",
       "</style>\n",
       "<table border=\"1\" class=\"dataframe\">\n",
       "  <thead>\n",
       "    <tr style=\"text-align: right;\">\n",
       "      <th></th>\n",
       "      <th>image\\label</th>\n",
       "      <th>impervious</th>\n",
       "      <th>water</th>\n",
       "      <th>clutter</th>\n",
       "      <th>vegetation</th>\n",
       "      <th>building</th>\n",
       "      <th>tree</th>\n",
       "      <th>boat</th>\n",
       "      <th>car</th>\n",
       "      <th>in_train</th>\n",
       "      <th>total_label_count</th>\n",
       "      <th>subset</th>\n",
       "    </tr>\n",
       "  </thead>\n",
       "  <tbody>\n",
       "    <tr>\n",
       "      <th>2818</th>\n",
       "      <td>2819</td>\n",
       "      <td>1</td>\n",
       "      <td>0</td>\n",
       "      <td>0</td>\n",
       "      <td>1</td>\n",
       "      <td>1</td>\n",
       "      <td>0</td>\n",
       "      <td>0</td>\n",
       "      <td>1</td>\n",
       "      <td>1</td>\n",
       "      <td>4</td>\n",
       "      <td>28</td>\n",
       "    </tr>\n",
       "    <tr>\n",
       "      <th>3182</th>\n",
       "      <td>3183</td>\n",
       "      <td>1</td>\n",
       "      <td>1</td>\n",
       "      <td>0</td>\n",
       "      <td>1</td>\n",
       "      <td>0</td>\n",
       "      <td>0</td>\n",
       "      <td>0</td>\n",
       "      <td>0</td>\n",
       "      <td>1</td>\n",
       "      <td>3</td>\n",
       "      <td>15</td>\n",
       "    </tr>\n",
       "    <tr>\n",
       "      <th>1949</th>\n",
       "      <td>1950</td>\n",
       "      <td>1</td>\n",
       "      <td>0</td>\n",
       "      <td>0</td>\n",
       "      <td>0</td>\n",
       "      <td>1</td>\n",
       "      <td>0</td>\n",
       "      <td>0</td>\n",
       "      <td>0</td>\n",
       "      <td>1</td>\n",
       "      <td>2</td>\n",
       "      <td>7</td>\n",
       "    </tr>\n",
       "    <tr>\n",
       "      <th>3040</th>\n",
       "      <td>3041</td>\n",
       "      <td>1</td>\n",
       "      <td>0</td>\n",
       "      <td>0</td>\n",
       "      <td>1</td>\n",
       "      <td>0</td>\n",
       "      <td>1</td>\n",
       "      <td>0</td>\n",
       "      <td>0</td>\n",
       "      <td>1</td>\n",
       "      <td>3</td>\n",
       "      <td>54</td>\n",
       "    </tr>\n",
       "    <tr>\n",
       "      <th>2302</th>\n",
       "      <td>2303</td>\n",
       "      <td>1</td>\n",
       "      <td>0</td>\n",
       "      <td>0</td>\n",
       "      <td>1</td>\n",
       "      <td>1</td>\n",
       "      <td>0</td>\n",
       "      <td>0</td>\n",
       "      <td>0</td>\n",
       "      <td>1</td>\n",
       "      <td>3</td>\n",
       "      <td>27</td>\n",
       "    </tr>\n",
       "    <tr>\n",
       "      <th>653</th>\n",
       "      <td>654</td>\n",
       "      <td>1</td>\n",
       "      <td>0</td>\n",
       "      <td>1</td>\n",
       "      <td>0</td>\n",
       "      <td>0</td>\n",
       "      <td>0</td>\n",
       "      <td>0</td>\n",
       "      <td>0</td>\n",
       "      <td>0</td>\n",
       "      <td>2</td>\n",
       "      <td>6</td>\n",
       "    </tr>\n",
       "    <tr>\n",
       "      <th>284</th>\n",
       "      <td>285</td>\n",
       "      <td>1</td>\n",
       "      <td>0</td>\n",
       "      <td>1</td>\n",
       "      <td>0</td>\n",
       "      <td>0</td>\n",
       "      <td>0</td>\n",
       "      <td>0</td>\n",
       "      <td>0</td>\n",
       "      <td>0</td>\n",
       "      <td>2</td>\n",
       "      <td>6</td>\n",
       "    </tr>\n",
       "    <tr>\n",
       "      <th>2751</th>\n",
       "      <td>2752</td>\n",
       "      <td>1</td>\n",
       "      <td>0</td>\n",
       "      <td>0</td>\n",
       "      <td>1</td>\n",
       "      <td>1</td>\n",
       "      <td>0</td>\n",
       "      <td>0</td>\n",
       "      <td>1</td>\n",
       "      <td>1</td>\n",
       "      <td>4</td>\n",
       "      <td>28</td>\n",
       "    </tr>\n",
       "    <tr>\n",
       "      <th>1</th>\n",
       "      <td>2</td>\n",
       "      <td>1</td>\n",
       "      <td>1</td>\n",
       "      <td>0</td>\n",
       "      <td>0</td>\n",
       "      <td>0</td>\n",
       "      <td>0</td>\n",
       "      <td>0</td>\n",
       "      <td>0</td>\n",
       "      <td>1</td>\n",
       "      <td>2</td>\n",
       "      <td>0</td>\n",
       "    </tr>\n",
       "    <tr>\n",
       "      <th>430</th>\n",
       "      <td>431</td>\n",
       "      <td>1</td>\n",
       "      <td>0</td>\n",
       "      <td>1</td>\n",
       "      <td>1</td>\n",
       "      <td>0</td>\n",
       "      <td>0</td>\n",
       "      <td>0</td>\n",
       "      <td>0</td>\n",
       "      <td>0</td>\n",
       "      <td>3</td>\n",
       "      <td>8</td>\n",
       "    </tr>\n",
       "  </tbody>\n",
       "</table>\n",
       "</div>"
      ],
      "text/plain": [
       "      image\\label  impervious  water  clutter  vegetation  building  tree  \\\n",
       "2818         2819           1      0        0           1         1     0   \n",
       "3182         3183           1      1        0           1         0     0   \n",
       "1949         1950           1      0        0           0         1     0   \n",
       "3040         3041           1      0        0           1         0     1   \n",
       "2302         2303           1      0        0           1         1     0   \n",
       "653           654           1      0        1           0         0     0   \n",
       "284           285           1      0        1           0         0     0   \n",
       "2751         2752           1      0        0           1         1     0   \n",
       "1               2           1      1        0           0         0     0   \n",
       "430           431           1      0        1           1         0     0   \n",
       "\n",
       "      boat  car  in_train  total_label_count  subset  \n",
       "2818     0    1         1                  4      28  \n",
       "3182     0    0         1                  3      15  \n",
       "1949     0    0         1                  2       7  \n",
       "3040     0    0         1                  3      54  \n",
       "2302     0    0         1                  3      27  \n",
       "653      0    0         0                  2       6  \n",
       "284      0    0         0                  2       6  \n",
       "2751     0    1         1                  4      28  \n",
       "1        0    0         1                  2       0  \n",
       "430      0    0         0                  3       8  "
      ]
     },
     "execution_count": 28,
     "metadata": {},
     "output_type": "execute_result"
    }
   ],
   "source": [
    "multilabel_df.sample(10)"
   ]
  },
  {
   "cell_type": "markdown",
   "metadata": {},
   "source": [
    "### Subset Distribution in the Dataset"
   ]
  },
  {
   "cell_type": "code",
   "execution_count": 29,
   "metadata": {
    "ExecuteTime": {
     "end_time": "2020-05-07T19:36:40.628674Z",
     "start_time": "2020-05-07T19:36:39.802693Z"
    }
   },
   "outputs": [
    {
     "data": {
      "image/png": "[encoded data removed]",
      "text/plain": [
       "<Figure size 1080x576 with 1 Axes>"
      ]
     },
     "metadata": {
      "needs_background": "light"
     },
     "output_type": "display_data"
    }
   ],
   "source": [
    "subset_value_counts = multilabel_df[\"subset\"].value_counts()\n",
    "\n",
    "fig, ax = plt.subplots(figsize=(15, 8))\n",
    "\n",
    "#ax.bar(subset_val_counts.index, subset_val_counts.values, , color=matplotlib.cm.rainbow(np.linspace(0, 1, len(total_unique_subsets))))\n",
    "subset_value_counts.plot.bar(ax=ax, color=matplotlib.cm.rainbow(np.linspace(0, 1, len(total_unique_subsets))))\n",
    "\n",
    "rects = ax.patches\n",
    "labels = subset_value_counts.values\n",
    "for rect, label in zip(rects, labels):\n",
    "    height = rect.get_height()\n",
    "    ax.text(rect.get_x() + rect.get_width() / 2, height + 5, label, ha=\"center\", va=\"bottom\")\n",
    "plt.title(\"Label Counts Plot\", fontsize=18)\n",
    "plt.xlabel(\"Subset ID\", fontsize=16)\n",
    "plt.ylabel(\"Occurence Count\", fontsize=16)\n",
    "\n",
    "plt.show()"
   ]
  },
  {
   "cell_type": "markdown",
   "metadata": {},
   "source": [
    "### Subset Distribution in Train Set"
   ]
  },
  {
   "cell_type": "code",
   "execution_count": 30,
   "metadata": {
    "ExecuteTime": {
     "end_time": "2020-05-07T19:36:41.272064Z",
     "start_time": "2020-05-07T19:36:40.629901Z"
    }
   },
   "outputs": [
    {
     "data": {
      "image/png": "[encoded data removed]",
      "text/plain": [
       "<Figure size 1080x576 with 1 Axes>"
      ]
     },
     "metadata": {
      "needs_background": "light"
     },
     "output_type": "display_data"
    }
   ],
   "source": [
    "subset_value_counts = multilabel_df[multilabel_df[\"in_train\"] == 1][\"subset\"].value_counts()\n",
    "\n",
    "fig, ax = plt.subplots(figsize=(15, 8))\n",
    "\n",
    "#ax.bar(subset_val_counts.index, subset_val_counts.values, , color=matplotlib.cm.rainbow(np.linspace(0, 1, len(total_unique_subsets))))\n",
    "subset_value_counts.plot.bar(ax=ax, color=matplotlib.cm.rainbow(np.linspace(0, 1, len(total_unique_subsets))))\n",
    "\n",
    "rects = ax.patches\n",
    "labels = subset_value_counts.values\n",
    "for rect, label in zip(rects, labels):\n",
    "    height = rect.get_height()\n",
    "    ax.text(rect.get_x() + rect.get_width() / 2, height + 5, label, ha=\"center\", va=\"bottom\")\n",
    "plt.title(\"Label Counts Plot\", fontsize=18)\n",
    "plt.xlabel(\"Subset ID\", fontsize=16)\n",
    "plt.ylabel(\"Occurence Count\", fontsize=16)\n",
    "\n",
    "plt.show()"
   ]
  },
  {
   "cell_type": "markdown",
   "metadata": {},
   "source": [
    "### Subset Distribution in Test Set"
   ]
  },
  {
   "cell_type": "code",
   "execution_count": 31,
   "metadata": {
    "ExecuteTime": {
     "end_time": "2020-05-07T19:36:41.720759Z",
     "start_time": "2020-05-07T19:36:41.273346Z"
    }
   },
   "outputs": [
    {
     "data": {
      "image/png": "[encoded data removed]",
      "text/plain": [
       "<Figure size 1080x576 with 1 Axes>"
      ]
     },
     "metadata": {
      "needs_background": "light"
     },
     "output_type": "display_data"
    }
   ],
   "source": [
    "subset_value_counts = multilabel_df[multilabel_df[\"in_train\"] == 0][\"subset\"].value_counts()\n",
    "\n",
    "fig, ax = plt.subplots(figsize=(15, 8))\n",
    "\n",
    "#ax.bar(subset_val_counts.index, subset_val_counts.values, , color=matplotlib.cm.rainbow(np.linspace(0, 1, len(total_unique_subsets))))\n",
    "subset_value_counts.plot.bar(ax=ax, color=matplotlib.cm.rainbow(np.linspace(0, 1, len(total_unique_subsets))))\n",
    "\n",
    "rects = ax.patches\n",
    "labels = subset_value_counts.values\n",
    "for rect, label in zip(rects, labels):\n",
    "    height = rect.get_height()\n",
    "    ax.text(rect.get_x() + rect.get_width() / 2, height + 5, label, ha=\"center\", va=\"bottom\")\n",
    "plt.title(\"Label Counts Plot\", fontsize=18)\n",
    "plt.xlabel(\"Subset ID\", fontsize=16)\n",
    "plt.ylabel(\"Occurence Count\", fontsize=16)\n",
    "\n",
    "plt.show()"
   ]
  },
  {
   "cell_type": "markdown",
   "metadata": {},
   "source": [
    "# Feature Extraction"
   ]
  },
  {
   "cell_type": "code",
   "execution_count": 32,
   "metadata": {
    "ExecuteTime": {
     "end_time": "2020-05-07T19:36:42.548618Z",
     "start_time": "2020-05-07T19:36:41.721997Z"
    }
   },
   "outputs": [],
   "source": [
    "vgg16_network = VGG16(include_top=False,\n",
    "                      weights='imagenet',\n",
    "                      input_shape=(224, 224, 3),\n",
    "                      pooling=None)"
   ]
  },
  {
   "cell_type": "code",
   "execution_count": 33,
   "metadata": {
    "ExecuteTime": {
     "end_time": "2020-05-07T19:37:14.012924Z",
     "start_time": "2020-05-07T19:36:42.549885Z"
    }
   },
   "outputs": [],
   "source": [
    "resized_raw_train_images = list()\n",
    "resized_raw_train_labels = list()\n",
    "\n",
    "for raw_image_file in glob.glob(os.path.join(TRAIN_IMAGES_PATH, \"*.png\")):\n",
    "    raw_img = cv2.imread(raw_image_file)\n",
    "    raw_img = cv2.cvtColor(raw_img, cv2.COLOR_BGR2RGB)\n",
    "    \n",
    "    resized_raw_img = cv2.resize(raw_img, (224, 224))\n",
    "    \n",
    "    resized_raw_train_images.append(resized_raw_img)\n",
    "    resized_raw_train_labels.append(os.path.basename(raw_image_file).split(\".\")[0])"
   ]
  },
  {
   "cell_type": "code",
   "execution_count": 34,
   "metadata": {
    "ExecuteTime": {
     "end_time": "2020-05-07T19:37:14.088329Z",
     "start_time": "2020-05-07T19:37:14.014191Z"
    }
   },
   "outputs": [],
   "source": [
    "preprediction_images = np.array(resized_raw_train_images)"
   ]
  },
  {
   "cell_type": "code",
   "execution_count": 35,
   "metadata": {
    "ExecuteTime": {
     "end_time": "2020-05-07T19:37:14.161091Z",
     "start_time": "2020-05-07T19:37:14.089727Z"
    }
   },
   "outputs": [
    {
     "data": {
      "text/plain": [
       "(2673, 224, 224, 3)"
      ]
     },
     "execution_count": 35,
     "metadata": {},
     "output_type": "execute_result"
    }
   ],
   "source": [
    "preprediction_images.shape"
   ]
  },
  {
   "cell_type": "code",
   "execution_count": 36,
   "metadata": {
    "ExecuteTime": {
     "end_time": "2020-05-07T19:37:25.611650Z",
     "start_time": "2020-05-07T19:37:14.165323Z"
    }
   },
   "outputs": [],
   "source": [
    "postprediction_features = vgg16_network.predict(preprediction_images)"
   ]
  },
  {
   "cell_type": "code",
   "execution_count": 37,
   "metadata": {
    "ExecuteTime": {
     "end_time": "2020-05-07T19:37:25.617774Z",
     "start_time": "2020-05-07T19:37:25.613856Z"
    }
   },
   "outputs": [
    {
     "data": {
      "text/plain": [
       "(2673, 7, 7, 512)"
      ]
     },
     "execution_count": 37,
     "metadata": {},
     "output_type": "execute_result"
    }
   ],
   "source": [
    "postprediction_features.shape"
   ]
  },
  {
   "cell_type": "code",
   "execution_count": 38,
   "metadata": {
    "ExecuteTime": {
     "end_time": "2020-05-07T19:37:25.700429Z",
     "start_time": "2020-05-07T19:37:25.619026Z"
    }
   },
   "outputs": [],
   "source": [
    "flattened_postprediction_features = postprediction_features.reshape(postprediction_features.shape[0], -1)"
   ]
  },
  {
   "cell_type": "code",
   "execution_count": 39,
   "metadata": {
    "ExecuteTime": {
     "end_time": "2020-05-07T19:37:28.867364Z",
     "start_time": "2020-05-07T19:37:25.701657Z"
    }
   },
   "outputs": [],
   "source": [
    "citf_vector = list()\n",
    "citf_vector_train_test = list()\n",
    "for flattened_postprediction_feature, image_id in zip(flattened_postprediction_features, resized_raw_train_labels):\n",
    "    filtered_idx = multilabel_df[\"image\\\\label\"] == int(image_id)\n",
    "    tags = multilabel_df[filtered_idx].drop([\"image\\\\label\", \"in_train\", \"total_label_count\", \"subset\"], axis=1).values[0]\n",
    "    \n",
    "    citf_vector.append(np.concatenate((flattened_postprediction_feature, tags)))\n",
    "    citf_vector_train_test.append(np.concatenate((flattened_postprediction_feature, np.zeros_like(tags))))\n",
    "\n",
    "citf_vector = np.array(citf_vector)\n",
    "citf_vector_train_test = np.array(citf_vector_train_test)"
   ]
  },
  {
   "cell_type": "code",
   "execution_count": 40,
   "metadata": {
    "ExecuteTime": {
     "end_time": "2020-05-07T19:37:28.871594Z",
     "start_time": "2020-05-07T19:37:28.868576Z"
    }
   },
   "outputs": [
    {
     "data": {
      "text/plain": [
       "(2673, 25088)"
      ]
     },
     "execution_count": 40,
     "metadata": {},
     "output_type": "execute_result"
    }
   ],
   "source": [
    "flattened_postprediction_features.shape"
   ]
  },
  {
   "cell_type": "code",
   "execution_count": 41,
   "metadata": {
    "ExecuteTime": {
     "end_time": "2020-05-07T19:37:28.968740Z",
     "start_time": "2020-05-07T19:37:28.872847Z"
    }
   },
   "outputs": [
    {
     "data": {
      "text/plain": [
       "(2673, 25096)"
      ]
     },
     "execution_count": 41,
     "metadata": {},
     "output_type": "execute_result"
    }
   ],
   "source": [
    "citf_vector.shape"
   ]
  },
  {
   "cell_type": "markdown",
   "metadata": {},
   "source": [
    "# Clustering"
   ]
  },
  {
   "cell_type": "code",
   "execution_count": 42,
   "metadata": {
    "ExecuteTime": {
     "end_time": "2020-05-07T19:37:29.166291Z",
     "start_time": "2020-05-07T19:37:28.969891Z"
    }
   },
   "outputs": [],
   "source": [
    "som = MiniSom(16, 16, citf_vector.shape[1],\n",
    "              sigma=3.0,\n",
    "              learning_rate=0.7,\n",
    "              topology=\"hexagonal\",\n",
    "              activation_distance=\"cosine\")"
   ]
  },
  {
   "cell_type": "code",
   "execution_count": 43,
   "metadata": {
    "ExecuteTime": {
     "end_time": "2020-05-07T19:37:29.194287Z",
     "start_time": "2020-05-07T19:37:29.167636Z"
    }
   },
   "outputs": [],
   "source": [
    "som.random_weights_init(citf_vector)"
   ]
  },
  {
   "cell_type": "code",
   "execution_count": 44,
   "metadata": {
    "ExecuteTime": {
     "end_time": "2020-05-07T19:38:37.999604Z",
     "start_time": "2020-05-07T19:37:29.195574Z"
    }
   },
   "outputs": [
    {
     "name": "stdout",
     "output_type": "stream",
     "text": [
      " [ 1000 / 1000 ] 100% - 0:00:00 left \n",
      " quantization error: 1131.4765661519175\n"
     ]
    }
   ],
   "source": [
    "som.train_random(citf_vector, 1000, verbose=True)"
   ]
  },
  {
   "cell_type": "markdown",
   "metadata": {},
   "source": [
    "# Scoring\n",
    "\n",
    "## With Train Set\n",
    "**Threshold = 0.5**"
   ]
  },
  {
   "cell_type": "code",
   "execution_count": 45,
   "metadata": {
    "ExecuteTime": {
     "end_time": "2020-05-07T19:39:52.545380Z",
     "start_time": "2020-05-07T19:38:38.001024Z"
    }
   },
   "outputs": [],
   "source": [
    "y_pred = list()\n",
    "for x in citf_vector_train_test:\n",
    "    winner_coords = som.winner(x)\n",
    "    y_pred.append(som.get_weights()[winner_coords][-8:])\n",
    "y_pred = np.array(y_pred)"
   ]
  },
  {
   "cell_type": "code",
   "execution_count": 46,
   "metadata": {
    "ExecuteTime": {
     "end_time": "2020-05-07T19:39:52.549662Z",
     "start_time": "2020-05-07T19:39:52.546619Z"
    }
   },
   "outputs": [
    {
     "data": {
      "text/plain": [
       "(2673, 8)"
      ]
     },
     "execution_count": 46,
     "metadata": {},
     "output_type": "execute_result"
    }
   ],
   "source": [
    "y_pred.shape"
   ]
  },
  {
   "cell_type": "code",
   "execution_count": 47,
   "metadata": {
    "ExecuteTime": {
     "end_time": "2020-05-07T19:39:52.649012Z",
     "start_time": "2020-05-07T19:39:52.550972Z"
    }
   },
   "outputs": [
    {
     "data": {
      "text/plain": [
       "(2673, 8)"
      ]
     },
     "execution_count": 47,
     "metadata": {},
     "output_type": "execute_result"
    }
   ],
   "source": [
    "y_test = citf_vector[:, -8:]\n",
    "y_test.shape"
   ]
  },
  {
   "cell_type": "code",
   "execution_count": 48,
   "metadata": {
    "ExecuteTime": {
     "end_time": "2020-05-07T19:39:52.756442Z",
     "start_time": "2020-05-07T19:39:52.650330Z"
    }
   },
   "outputs": [],
   "source": [
    "y_pred_tresholded = (y_pred >= 0.5).astype(int)"
   ]
  },
  {
   "cell_type": "code",
   "execution_count": 49,
   "metadata": {
    "ExecuteTime": {
     "end_time": "2020-05-07T19:39:52.913121Z",
     "start_time": "2020-05-07T19:39:52.757675Z"
    },
    "scrolled": false
   },
   "outputs": [
    {
     "name": "stdout",
     "output_type": "stream",
     "text": [
      "              precision    recall  f1-score   support\n",
      "\n",
      "  impervious       0.95      0.99      0.97      2516\n",
      "       water       0.74      0.55      0.63       791\n",
      "     clutter       0.85      0.76      0.80      1508\n",
      "  vegetation       0.63      0.66      0.65       867\n",
      "    building       0.68      0.73      0.70       797\n",
      "        tree       0.33      0.01      0.02       201\n",
      "        boat       0.00      0.00      0.00       216\n",
      "         car       0.69      0.40      0.51       554\n",
      "\n",
      "   micro avg       0.82      0.73      0.77      7450\n",
      "   macro avg       0.61      0.51      0.53      7450\n",
      "weighted avg       0.78      0.73      0.74      7450\n",
      " samples avg       0.83      0.77      0.78      7450\n",
      "\n"
     ]
    },
    {
     "name": "stderr",
     "output_type": "stream",
     "text": [
      "/opt/conda/lib/python3.7/site-packages/sklearn/metrics/_classification.py:1272: UndefinedMetricWarning: Precision and F-score are ill-defined and being set to 0.0 in labels with no predicted samples. Use `zero_division` parameter to control this behavior.\n",
      "  _warn_prf(average, modifier, msg_start, len(result))\n"
     ]
    }
   ],
   "source": [
    "labels = multilabel_df.drop([\"image\\\\label\", \"in_train\", \"total_label_count\", \"subset\"], axis=1).columns\n",
    "print(classification_report(y_test, y_pred_tresholded, target_names=labels))"
   ]
  },
  {
   "cell_type": "code",
   "execution_count": 50,
   "metadata": {
    "ExecuteTime": {
     "end_time": "2020-05-07T19:39:53.196097Z",
     "start_time": "2020-05-07T19:39:52.914578Z"
    },
    "scrolled": false
   },
   "outputs": [
    {
     "data": {
      "image/png": "[encoded data removed]",
      "text/plain": [
       "<Figure size 1080x576 with 1 Axes>"
      ]
     },
     "metadata": {
      "needs_background": "light"
     },
     "output_type": "display_data"
    }
   ],
   "source": [
    "fig, ax = plt.subplots(figsize=(15, 8))\n",
    "for i in range(len(labels)):\n",
    "    fpr, tpr, thresholds = roc_curve(y_test[:, i], y_pred[:, i])\n",
    "    auc = roc_auc_score(y_test[:, i], y_pred[:, i])\n",
    "    ax.plot(fpr, tpr, label=labels[i] + f\" (AUC: {auc:.2f})\")\n",
    "\n",
    "plt.xlabel(\"FPR\")\n",
    "plt.ylabel(\"TPR\")\n",
    "plt.title(\"ROC Curve\")\n",
    "plt.legend()\n",
    "plt.show()"
   ]
  },
  {
   "cell_type": "markdown",
   "metadata": {},
   "source": [
    "## With Test Set"
   ]
  },
  {
   "cell_type": "code",
   "execution_count": 51,
   "metadata": {
    "ExecuteTime": {
     "end_time": "2020-05-07T19:40:01.059819Z",
     "start_time": "2020-05-07T19:39:53.197976Z"
    }
   },
   "outputs": [],
   "source": [
    "resized_raw_test_images = list()\n",
    "resized_raw_test_labels = list()\n",
    "\n",
    "for raw_image_file in glob.glob(os.path.join(TEST_IMAGES_PATH, \"*.png\")):\n",
    "    raw_img = cv2.imread(raw_image_file)\n",
    "    raw_img = cv2.cvtColor(raw_img, cv2.COLOR_BGR2RGB)\n",
    "    \n",
    "    resized_raw_img = cv2.resize(raw_img, (224, 224))\n",
    "    \n",
    "    resized_raw_test_images.append(resized_raw_img)\n",
    "    resized_raw_test_labels.append(os.path.basename(raw_image_file).split(\".\")[0])"
   ]
  },
  {
   "cell_type": "code",
   "execution_count": 52,
   "metadata": {
    "ExecuteTime": {
     "end_time": "2020-05-07T19:40:01.081665Z",
     "start_time": "2020-05-07T19:40:01.061093Z"
    }
   },
   "outputs": [],
   "source": [
    "preprediction_images_test = np.array(resized_raw_test_images)"
   ]
  },
  {
   "cell_type": "code",
   "execution_count": 53,
   "metadata": {
    "ExecuteTime": {
     "end_time": "2020-05-07T19:40:01.175201Z",
     "start_time": "2020-05-07T19:40:01.083046Z"
    }
   },
   "outputs": [
    {
     "data": {
      "text/plain": [
       "(669, 224, 224, 3)"
      ]
     },
     "execution_count": 53,
     "metadata": {},
     "output_type": "execute_result"
    }
   ],
   "source": [
    "preprediction_images_test.shape"
   ]
  },
  {
   "cell_type": "code",
   "execution_count": 54,
   "metadata": {
    "ExecuteTime": {
     "end_time": "2020-05-07T19:40:04.387578Z",
     "start_time": "2020-05-07T19:40:01.179490Z"
    }
   },
   "outputs": [],
   "source": [
    "postprediction_features_test = vgg16_network.predict(preprediction_images_test)"
   ]
  },
  {
   "cell_type": "code",
   "execution_count": 55,
   "metadata": {
    "ExecuteTime": {
     "end_time": "2020-05-07T19:40:04.392158Z",
     "start_time": "2020-05-07T19:40:04.388862Z"
    }
   },
   "outputs": [
    {
     "data": {
      "text/plain": [
       "(669, 7, 7, 512)"
      ]
     },
     "execution_count": 55,
     "metadata": {},
     "output_type": "execute_result"
    }
   ],
   "source": [
    "postprediction_features_test.shape"
   ]
  },
  {
   "cell_type": "code",
   "execution_count": 56,
   "metadata": {
    "ExecuteTime": {
     "end_time": "2020-05-07T19:40:04.489615Z",
     "start_time": "2020-05-07T19:40:04.393327Z"
    }
   },
   "outputs": [],
   "source": [
    "flattened_postprediction_features_test = postprediction_features_test.reshape(postprediction_features_test.shape[0], -1)"
   ]
  },
  {
   "cell_type": "code",
   "execution_count": 57,
   "metadata": {
    "ExecuteTime": {
     "end_time": "2020-05-07T19:40:05.275218Z",
     "start_time": "2020-05-07T19:40:04.490801Z"
    }
   },
   "outputs": [],
   "source": [
    "citf_vector_test = list()\n",
    "y_test = list()\n",
    "for flattened_postprediction_feature, image_id in zip(flattened_postprediction_features_test, resized_raw_test_labels):\n",
    "    filtered_idx = multilabel_df[\"image\\\\label\"] == int(image_id)\n",
    "    tags = multilabel_df[filtered_idx].drop([\"image\\\\label\", \"in_train\", \"total_label_count\", \"subset\"], axis=1).values[0]\n",
    "    y_test.append(tags)\n",
    "    \n",
    "    citf_vector_test.append(np.concatenate((flattened_postprediction_feature, np.zeros_like(tags))))\n",
    "\n",
    "citf_vector_test = np.array(citf_vector_test)\n",
    "y_test = np.array(y_test)"
   ]
  },
  {
   "cell_type": "code",
   "execution_count": 58,
   "metadata": {
    "ExecuteTime": {
     "end_time": "2020-05-07T19:40:24.480002Z",
     "start_time": "2020-05-07T19:40:05.276565Z"
    }
   },
   "outputs": [],
   "source": [
    "y_pred = list()\n",
    "for x in citf_vector_test:\n",
    "    winner_coords = som.winner(x)\n",
    "    y_pred.append(som.get_weights()[winner_coords][-8:])\n",
    "y_pred = np.array(y_pred)"
   ]
  },
  {
   "cell_type": "code",
   "execution_count": 59,
   "metadata": {
    "ExecuteTime": {
     "end_time": "2020-05-07T19:40:24.484538Z",
     "start_time": "2020-05-07T19:40:24.481448Z"
    }
   },
   "outputs": [
    {
     "data": {
      "text/plain": [
       "(669, 8)"
      ]
     },
     "execution_count": 59,
     "metadata": {},
     "output_type": "execute_result"
    }
   ],
   "source": [
    "y_pred.shape"
   ]
  },
  {
   "cell_type": "code",
   "execution_count": 60,
   "metadata": {
    "ExecuteTime": {
     "end_time": "2020-05-07T19:40:24.590050Z",
     "start_time": "2020-05-07T19:40:24.485836Z"
    }
   },
   "outputs": [
    {
     "data": {
      "text/plain": [
       "(669, 8)"
      ]
     },
     "execution_count": 60,
     "metadata": {},
     "output_type": "execute_result"
    }
   ],
   "source": [
    "#y_test = citf_vector_test[:, -8:]\n",
    "y_test.shape"
   ]
  },
  {
   "cell_type": "code",
   "execution_count": 61,
   "metadata": {
    "ExecuteTime": {
     "end_time": "2020-05-07T19:40:24.705952Z",
     "start_time": "2020-05-07T19:40:24.591442Z"
    }
   },
   "outputs": [],
   "source": [
    "y_pred_tresholded = (y_pred >= 0.5).astype(int)"
   ]
  },
  {
   "cell_type": "code",
   "execution_count": 62,
   "metadata": {
    "ExecuteTime": {
     "end_time": "2020-05-07T19:40:24.832252Z",
     "start_time": "2020-05-07T19:40:24.707141Z"
    },
    "scrolled": false
   },
   "outputs": [
    {
     "name": "stdout",
     "output_type": "stream",
     "text": [
      "              precision    recall  f1-score   support\n",
      "\n",
      "  impervious       0.95      0.99      0.97       617\n",
      "       water       0.79      0.61      0.69       207\n",
      "     clutter       0.86      0.75      0.80       383\n",
      "  vegetation       0.59      0.64      0.61       219\n",
      "    building       0.71      0.70      0.70       204\n",
      "        tree       1.00      0.02      0.03        57\n",
      "        boat       0.00      0.00      0.00        54\n",
      "         car       0.64      0.32      0.42       151\n",
      "\n",
      "   micro avg       0.82      0.72      0.76      1892\n",
      "   macro avg       0.69      0.50      0.53      1892\n",
      "weighted avg       0.79      0.72      0.73      1892\n",
      " samples avg       0.84      0.76      0.77      1892\n",
      "\n"
     ]
    },
    {
     "name": "stderr",
     "output_type": "stream",
     "text": [
      "/opt/conda/lib/python3.7/site-packages/sklearn/metrics/_classification.py:1272: UndefinedMetricWarning: Precision and F-score are ill-defined and being set to 0.0 in labels with no predicted samples. Use `zero_division` parameter to control this behavior.\n",
      "  _warn_prf(average, modifier, msg_start, len(result))\n"
     ]
    }
   ],
   "source": [
    "labels = multilabel_df.drop([\"image\\\\label\", \"in_train\", \"total_label_count\", \"subset\"], axis=1).columns\n",
    "print(classification_report(y_test, y_pred_tresholded, target_names=labels))"
   ]
  },
  {
   "cell_type": "code",
   "execution_count": 63,
   "metadata": {
    "ExecuteTime": {
     "end_time": "2020-05-07T19:40:25.142580Z",
     "start_time": "2020-05-07T19:40:24.833599Z"
    },
    "scrolled": false
   },
   "outputs": [
    {
     "data": {
      "image/png": "[encoded data removed]",
      "text/plain": [
       "<Figure size 1080x576 with 1 Axes>"
      ]
     },
     "metadata": {
      "needs_background": "light"
     },
     "output_type": "display_data"
    }
   ],
   "source": [
    "fig, ax = plt.subplots(figsize=(15, 8))\n",
    "for i in range(len(labels)):\n",
    "    fpr, tpr, thresholds = roc_curve(y_test[:, i], y_pred[:, i])\n",
    "    auc = roc_auc_score(y_test[:, i], y_pred[:, i])\n",
    "    ax.plot(fpr, tpr, label=labels[i] + f\" (AUC: {auc:.2f})\")\n",
    "\n",
    "plt.xlabel(\"FPR\")\n",
    "plt.ylabel(\"TPR\")\n",
    "plt.title(\"ROC Curve\")\n",
    "plt.legend()\n",
    "plt.show()"
   ]
  }
 ],
 "metadata": {
  "kernelspec": {
   "display_name": "Python 3",
   "language": "python",
   "name": "python3"
  },
  "language_info": {
   "codemirror_mode": {
    "name": "ipython",
    "version": 3
   },
   "file_extension": ".py",
   "mimetype": "text/x-python",
   "name": "python",
   "nbconvert_exporter": "python",
   "pygments_lexer": "ipython3",
   "version": "3.7.6"
  },
  "toc": {
   "base_numbering": 1,
   "nav_menu": {},
   "number_sections": true,
   "sideBar": true,
   "skip_h1_title": false,
   "title_cell": "Table of Contents",
   "title_sidebar": "Contents",
   "toc_cell": false,
   "toc_position": {},
   "toc_section_display": true,
   "toc_window_display": true
  },
  "varInspector": {
   "cols": {
    "lenName": 16,
    "lenType": 16,
    "lenVar": 40
   },
   "kernels_config": {
    "python": {
     "delete_cmd_postfix": "",
     "delete_cmd_prefix": "del ",
     "library": "var_list.py",
     "varRefreshCmd": "print(var_dic_list())"
    },
    "r": {
     "delete_cmd_postfix": ") ",
     "delete_cmd_prefix": "rm(",
     "library": "var_list.r",
     "varRefreshCmd": "cat(var_dic_list()) "
    }
   },
   "position": {
    "height": "766.85px",
    "left": "1550px",
    "right": "20px",
    "top": "120px",
    "width": "350px"
   },
   "types_to_exclude": [
    "module",
    "function",
    "builtin_function_or_method",
    "instance",
    "_Feature"
   ],
   "window_display": true
  }
 },
 "nbformat": 4,
 "nbformat_minor": 4
}
